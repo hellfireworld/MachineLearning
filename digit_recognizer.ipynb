{
  "nbformat": 4,
  "nbformat_minor": 0,
  "metadata": {
    "colab": {
      "name": "digit_recognizer.ipynb",
      "provenance": [],
      "collapsed_sections": [],
      "authorship_tag": "ABX9TyMp1pAyvBZlUETSXRlEgM/D",
      "include_colab_link": true
    },
    "kernelspec": {
      "name": "python3",
      "display_name": "Python 3"
    }
  },
  "cells": [
    {
      "cell_type": "markdown",
      "metadata": {
        "id": "view-in-github",
        "colab_type": "text"
      },
      "source": [
        "<a href=\"https://colab.research.google.com/github/hellfireworld/MachineLearning/blob/master/digit_recognizer.ipynb\" target=\"_parent\"><img src=\"https://colab.research.google.com/assets/colab-badge.svg\" alt=\"Open In Colab\"/></a>"
      ]
    },
    {
      "cell_type": "markdown",
      "metadata": {
        "id": "tqY1kdco2Lo5",
        "colab_type": "text"
      },
      "source": [
        "***Alexandros_Tsevrenis_MTN1914***"
      ]
    },
    {
      "cell_type": "markdown",
      "metadata": {
        "id": "9XmWmaxg2WPT",
        "colab_type": "text"
      },
      "source": [
        "# **Import essential libraries**"
      ]
    },
    {
      "cell_type": "code",
      "metadata": {
        "id": "Pjf7ccYzbeDJ",
        "colab_type": "code",
        "colab": {}
      },
      "source": [
        "import seaborn as sns\n",
        "import matplotlib.pyplot as plt\n",
        "import sys\n",
        "import io\n",
        "import numpy as np\n",
        "import pandas as pd\n",
        "from sklearn.model_selection import validation_curve\n",
        "from sklearn.model_selection import train_test_split\n",
        "from sklearn.model_selection import KFold\n",
        "from sklearn import metrics\n",
        "from sklearn.preprocessing import scale\n",
        "from sklearn.model_selection import cross_val_score\n",
        "from sklearn.metrics import confusion_matrix\n",
        "from sklearn.svm import SVC\n",
        "from sklearn.model_selection import GridSearchCV\n",
        "from sklearn.datasets import make_classification\n",
        "import IPython\n",
        "from IPython.display import Image\n",
        "import pydotplus"
      ],
      "execution_count": 0,
      "outputs": []
    },
    {
      "cell_type": "markdown",
      "metadata": {
        "id": "7_eCpKXg2erq",
        "colab_type": "text"
      },
      "source": [
        "# **Import day.csv file with GOOGLE_COLAB**"
      ]
    },
    {
      "cell_type": "code",
      "metadata": {
        "id": "nKWZmVw1bpc-",
        "colab_type": "code",
        "colab": {}
      },
      "source": [
        "from google.colab import files"
      ],
      "execution_count": 0,
      "outputs": []
    },
    {
      "cell_type": "code",
      "metadata": {
        "id": "nSYjD7B0brs9",
        "colab_type": "code",
        "outputId": "77933e1a-d9c8-4703-8762-fb12b29c8e6e",
        "colab": {
          "resources": {
            "http://localhost:8080/nbextensions/google.colab/files.js": {
              "data": "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",
              "ok": true,
              "headers": [
                [
                  "content-type",
                  "application/javascript"
                ]
              ],
              "status": 200,
              "status_text": ""
            }
          },
          "base_uri": "https://localhost:8080/",
          "height": 74
        }
      },
      "source": [
        "uploaded = files.upload()"
      ],
      "execution_count": 5,
      "outputs": [
        {
          "output_type": "display_data",
          "data": {
            "text/html": [
              "\n",
              "     <input type=\"file\" id=\"files-d1aa1cf0-6ef7-4ff3-a6c7-dda739dfd7ff\" name=\"files[]\" multiple disabled />\n",
              "     <output id=\"result-d1aa1cf0-6ef7-4ff3-a6c7-dda739dfd7ff\">\n",
              "      Upload widget is only available when the cell has been executed in the\n",
              "      current browser session. Please rerun this cell to enable.\n",
              "      </output>\n",
              "      <script src=\"/nbextensions/google.colab/files.js\"></script> "
            ],
            "text/plain": [
              "<IPython.core.display.HTML object>"
            ]
          },
          "metadata": {
            "tags": []
          }
        },
        {
          "output_type": "stream",
          "text": [
            "Saving digit_recognizer_dataset.csv to digit_recognizer_dataset (1).csv\n"
          ],
          "name": "stdout"
        }
      ]
    },
    {
      "cell_type": "code",
      "metadata": {
        "id": "0XWfaVaicA3d",
        "colab_type": "code",
        "outputId": "117370eb-4fa3-4f9c-dfb5-4128dddfe01a",
        "colab": {
          "base_uri": "https://localhost:8080/",
          "height": 34
        }
      },
      "source": [
        "for fn in uploaded.keys():\n",
        "  print('User uploaded file \"{name}\" with length {length} bytes'.format(\n",
        "      name=fn, length=len(uploaded[fn])))"
      ],
      "execution_count": 6,
      "outputs": [
        {
          "output_type": "stream",
          "text": [
            "User uploaded file \"digit_recognizer_dataset.csv\" with length 76775041 bytes\n"
          ],
          "name": "stdout"
        }
      ]
    },
    {
      "cell_type": "markdown",
      "metadata": {
        "id": "LXlOLQ7w2gzZ",
        "colab_type": "text"
      },
      "source": [
        "**Test if day.csv is loaded by removing comment '#' below**"
      ]
    },
    {
      "cell_type": "code",
      "metadata": {
        "id": "_1rsYXuwcBz9",
        "colab_type": "code",
        "colab": {}
      },
      "source": [
        "#uploaded"
      ],
      "execution_count": 0,
      "outputs": []
    },
    {
      "cell_type": "markdown",
      "metadata": {
        "id": "Nu53LMiW2ovo",
        "colab_type": "text"
      },
      "source": [
        "# **Read the dataset from the CSV file**"
      ]
    },
    {
      "cell_type": "markdown",
      "metadata": {
        "id": "HzT5w0972x4I",
        "colab_type": "text"
      },
      "source": [
        "**Define df variable as day.csv using pandas library.\n",
        "Read separated values (csv) file into DataFrame.**"
      ]
    },
    {
      "cell_type": "code",
      "metadata": {
        "id": "2sYXntfqcHiF",
        "colab_type": "code",
        "colab": {}
      },
      "source": [
        "df = pd.read_csv(io.StringIO(uploaded['digit_recognizer_dataset.csv'].decode('utf-8')))"
      ],
      "execution_count": 0,
      "outputs": []
    },
    {
      "cell_type": "markdown",
      "metadata": {
        "id": "_3OWEpqt4RSW",
        "colab_type": "text"
      },
      "source": [
        "# **Print the shape of our whole data (rows, columns)**"
      ]
    },
    {
      "cell_type": "code",
      "metadata": {
        "id": "_XegB6RGxtoD",
        "colab_type": "code",
        "outputId": "503f8823-512c-45ed-f124-c577679399eb",
        "colab": {
          "base_uri": "https://localhost:8080/",
          "height": 34
        }
      },
      "source": [
        "print(df.shape)\n"
      ],
      "execution_count": 8,
      "outputs": [
        {
          "output_type": "stream",
          "text": [
            "(42000, 785)\n"
          ],
          "name": "stdout"
        }
      ]
    },
    {
      "cell_type": "markdown",
      "metadata": {
        "id": "yGYWZy8P45UU",
        "colab_type": "text"
      },
      "source": [
        "# **Firstly, split the pixelX features from the first column and store them in X, secondly store the first column as the prediction feature/variable as y**"
      ]
    },
    {
      "cell_type": "code",
      "metadata": {
        "id": "dNYNPswI6WbJ",
        "colab_type": "code",
        "colab": {}
      },
      "source": [
        "X = df.iloc[:, 1:]\n",
        "y = df['label']"
      ],
      "execution_count": 0,
      "outputs": []
    },
    {
      "cell_type": "markdown",
      "metadata": {
        "id": "FU9irynW6mwR",
        "colab_type": "text"
      },
      "source": [
        "# **Define kf as Kfold Cross Validation and add the parameters (splits=5)**"
      ]
    },
    {
      "cell_type": "code",
      "metadata": {
        "id": "3KxH__gP6Zfp",
        "colab_type": "code",
        "colab": {}
      },
      "source": [
        "kf = KFold(n_splits=5, shuffle=False, random_state=None)\n",
        "acc_train = 0.0\n",
        "acc_test = 0.0\n",
        "best_clf = None"
      ],
      "execution_count": 0,
      "outputs": []
    },
    {
      "cell_type": "markdown",
      "metadata": {
        "id": "_0o7cvTz6pgB",
        "colab_type": "text"
      },
      "source": [
        "# **Split the dataset with kfold into train and test**"
      ]
    },
    {
      "cell_type": "code",
      "metadata": {
        "id": "M1ywPxct6_9K",
        "colab_type": "code",
        "colab": {}
      },
      "source": [
        "for train_index, test_index in kf.split(X):\n",
        "    X_train, X_test = X.iloc[train_index], X.iloc[test_index]\n",
        "    y_train, y_test = y.iloc[train_index], y.iloc[test_index]\n"
      ],
      "execution_count": 0,
      "outputs": []
    },
    {
      "cell_type": "markdown",
      "metadata": {
        "id": "RGn546rG7Ddw",
        "colab_type": "text"
      },
      "source": [
        "# **Explore the Dataset**\n",
        "# **Check X_train and X_test's shapes(rows, columns)**\n",
        "# **Print the head of X_train and Y_train**\n",
        "# **Describe X_train and y_train(mean, std, min, max, etc.)**"
      ]
    },
    {
      "cell_type": "code",
      "metadata": {
        "id": "exRBtuG_7AGQ",
        "colab_type": "code",
        "outputId": "4b3772c8-d230-4fdf-996d-b72d7447a736",
        "colab": {
          "base_uri": "https://localhost:8080/",
          "height": 697
        }
      },
      "source": [
        "print(X_train.shape)\n",
        "print(X_test.shape)\n",
        "print(\"\\n\")\n",
        "print(X_train.head())\n",
        "print(y_train.head())\n",
        "print(\"\\n\")\n",
        "print(X_train.describe())\n",
        "print(y_train.describe())"
      ],
      "execution_count": 12,
      "outputs": [
        {
          "output_type": "stream",
          "text": [
            "(33600, 784)\n",
            "(8400, 784)\n",
            "\n",
            "\n",
            "   pixel0  pixel1  pixel2  pixel3  ...  pixel780  pixel781  pixel782  pixel783\n",
            "0       0       0       0       0  ...         0         0         0         0\n",
            "1       0       0       0       0  ...         0         0         0         0\n",
            "2       0       0       0       0  ...         0         0         0         0\n",
            "3       0       0       0       0  ...         0         0         0         0\n",
            "4       0       0       0       0  ...         0         0         0         0\n",
            "\n",
            "[5 rows x 784 columns]\n",
            "0    1\n",
            "1    0\n",
            "2    1\n",
            "3    4\n",
            "4    0\n",
            "Name: label, dtype: int64\n",
            "\n",
            "\n",
            "        pixel0   pixel1   pixel2  ...  pixel781  pixel782  pixel783\n",
            "count  33600.0  33600.0  33600.0  ...   33600.0   33600.0   33600.0\n",
            "mean       0.0      0.0      0.0  ...       0.0       0.0       0.0\n",
            "std        0.0      0.0      0.0  ...       0.0       0.0       0.0\n",
            "min        0.0      0.0      0.0  ...       0.0       0.0       0.0\n",
            "25%        0.0      0.0      0.0  ...       0.0       0.0       0.0\n",
            "50%        0.0      0.0      0.0  ...       0.0       0.0       0.0\n",
            "75%        0.0      0.0      0.0  ...       0.0       0.0       0.0\n",
            "max        0.0      0.0      0.0  ...       0.0       0.0       0.0\n",
            "\n",
            "[8 rows x 784 columns]\n",
            "count    33600.000000\n",
            "mean         4.459881\n",
            "std          2.885525\n",
            "min          0.000000\n",
            "25%          2.000000\n",
            "50%          4.000000\n",
            "75%          7.000000\n",
            "max          9.000000\n",
            "Name: label, dtype: float64\n"
          ],
          "name": "stdout"
        }
      ]
    },
    {
      "cell_type": "markdown",
      "metadata": {
        "id": "pqyscQhd7IKw",
        "colab_type": "text"
      },
      "source": [
        "# **We can check whether the training data-set is biased towards certain numbers or not by printing out the value_counts() and from the distribution plot of labels.**"
      ]
    },
    {
      "cell_type": "code",
      "metadata": {
        "id": "L-udUt6O7AJQ",
        "colab_type": "code",
        "outputId": "cbe539a2-76f9-493e-9d61-98ffce4d1ef7",
        "colab": {
          "base_uri": "https://localhost:8080/",
          "height": 466
        }
      },
      "source": [
        "print(y.value_counts())\n",
        "sns.countplot(y)\n",
        "plt.show()"
      ],
      "execution_count": 13,
      "outputs": [
        {
          "output_type": "stream",
          "text": [
            "1    4684\n",
            "7    4401\n",
            "3    4351\n",
            "9    4188\n",
            "2    4177\n",
            "6    4137\n",
            "0    4132\n",
            "4    4072\n",
            "8    4063\n",
            "5    3795\n",
            "Name: label, dtype: int64\n"
          ],
          "name": "stdout"
        },
        {
          "output_type": "display_data",
          "data": {
            "image/png": "[encoded data removed]",
            "text/plain": [
              "<Figure size 432x288 with 1 Axes>"
            ]
          },
          "metadata": {
            "tags": []
          }
        }
      ]
    },
    {
      "cell_type": "markdown",
      "metadata": {
        "id": "ZoeGhkD86UXn",
        "colab_type": "text"
      },
      "source": [
        "**We see that it is a little biased in digit 1 and the samples we have counted for label 1 is around 30% higher than sample 5**"
      ]
    },
    {
      "cell_type": "markdown",
      "metadata": {
        "id": "FrvlWfuC7kKC",
        "colab_type": "text"
      },
      "source": [
        "# **Rescale our X so we can append it in SVC Classifier and split the data using kfold cross validation with X_scale this time**"
      ]
    },
    {
      "cell_type": "code",
      "metadata": {
        "id": "d-DndtaP7ANg",
        "colab_type": "code",
        "colab": {}
      },
      "source": [
        "X = X/255.0\n",
        "\n",
        "#scale\n",
        "X_scaled = scale(X)\n",
        "\n",
        "for train_index, test_index in kf.split(X):\n",
        "    X_train, X_test = X_scaled[train_index], X_scaled[test_index]\n",
        "    y_train, y_test = y.iloc[train_index], y.iloc[test_index]\n",
        "\n",
        "# if we use train_test_split method we get little lower accuracy but faster compile\n",
        "#X_train, X_test, y_train, y_test = train_test_split(X_train_scaled, y, test_size = 0.3, train_size = 0.2 ,random_state = 10)"
      ],
      "execution_count": 0,
      "outputs": []
    },
    {
      "cell_type": "markdown",
      "metadata": {
        "id": "ezqXL73Q7zT4",
        "colab_type": "text"
      },
      "source": [
        "# **Linear Model**"
      ]
    },
    {
      "cell_type": "code",
      "metadata": {
        "id": "oTnNIrSfSrAm",
        "colab_type": "code",
        "colab": {
          "base_uri": "https://localhost:8080/",
          "height": 238
        },
        "outputId": "2c62a286-d2fb-4bb7-cd8c-e0d058e404df"
      },
      "source": [
        "# linear model\n",
        "model_linear = SVC(kernel='linear')\n",
        "model_linear.fit(X_train, y_train)\n",
        "# predict\n",
        "y_pred = model_linear.predict(X_test)\n",
        "# confusion matrix and accuracy\n",
        "print(\"accuracy_linear:\", metrics.accuracy_score(y_true=y_test, y_pred=y_pred), \"\\n\")\n",
        "# cm\n",
        "print(\"Metric: Confusion Matrix:\")\n",
        "print(metrics.confusion_matrix(y_true=y_test, y_pred=y_pred))\n",
        "\n",
        "#The linear model gives approx. 92.4% accuracy."
      ],
      "execution_count": 22,
      "outputs": [
        {
          "output_type": "stream",
          "text": [
            "accuracy_linear: 0.9246428571428571 \n",
            "\n",
            "Metric: Confusion Matrix:\n",
            "[[822   0   8   4   1   6   9   1   1   0]\n",
            " [  0 933   3   1   2   1   0   1   8   1]\n",
            " [ 12   8 733  15   6   2   7   4  12   2]\n",
            " [  2   8  22 808   3  21   2   2  10   4]\n",
            " [  3   7   9   0 755   1   7   1   2  26]\n",
            " [  8   8   9  39   9 646   6   1  15   6]\n",
            " [  6   3  12   0   5   9 796   0   0   0]\n",
            " [  1   3   8   3   7   0   0 840   2  20]\n",
            " [  9  18  16  29   5  24   4   1 691   5]\n",
            " [  5   5   5  11  33   7   0  25   6 743]]\n"
          ],
          "name": "stdout"
        }
      ]
    },
    {
      "cell_type": "markdown",
      "metadata": {
        "id": "W_OcJMfZDMwz",
        "colab_type": "text"
      },
      "source": [
        "**To know how many digits were misclassified we can print out the Confusion-Matrix**"
      ]
    },
    {
      "cell_type": "markdown",
      "metadata": {
        "id": "YIm7TZE6E_Cs",
        "colab_type": "text"
      },
      "source": [
        "**We understood that out of many zeros 822 were correctly classified and same thing is going on next..**"
      ]
    },
    {
      "cell_type": "markdown",
      "metadata": {
        "id": "-HFar3CD9jjd",
        "colab_type": "text"
      },
      "source": [
        "**The linear model gives approx. 92.4% accuracy.**"
      ]
    },
    {
      "cell_type": "markdown",
      "metadata": {
        "id": "4msxK-BJ9uGs",
        "colab_type": "text"
      },
      "source": [
        "# **Let's look at a Non-Linear Model with randomly chosen hyperparameters.**"
      ]
    },
    {
      "cell_type": "code",
      "metadata": {
        "id": "LlhF5Plr7Agw",
        "colab_type": "code",
        "outputId": "0de72ffb-676a-4fb2-86b6-58fe83a1ed40",
        "colab": {
          "base_uri": "https://localhost:8080/",
          "height": 238
        }
      },
      "source": [
        "# non-linear model\n",
        "non_linear_model = SVC(kernel='rbf')\n",
        "non_linear_model.fit(X_train, y_train)\n",
        "# predict\n",
        "y_pred = non_linear_model.predict(X_test)\n",
        "# confusion matrix and accuracy\n",
        "# accuracy\n",
        "print(\"accuracy_non_linear:\", metrics.accuracy_score(y_true=y_test, y_pred=y_pred), \"\\n\")\n",
        "# cm\n",
        "print(\"Metric: Confusion Matrix:\")\n",
        "print(metrics.confusion_matrix(y_true=y_test, y_pred=y_pred))"
      ],
      "execution_count": 23,
      "outputs": [
        {
          "output_type": "stream",
          "text": [
            "accuracy_non_linear: 0.9598809523809524 \n",
            "\n",
            "Metric: Confusion Matrix:\n",
            "[[832   0   4   0   1   1   9   1   3   1]\n",
            " [  0 938   4   0   2   1   1   0   3   1]\n",
            " [  3   0 776   5   3   0   6   3   4   1]\n",
            " [  0   5  10 845   1  10   1   3   4   3]\n",
            " [  3   4   7   0 772   2   3   2   3  15]\n",
            " [  5   2  11  12   5 700   4   0   6   2]\n",
            " [  5   2  11   0   2   4 807   0   0   0]\n",
            " [  1   1  12   1   4   1   0 860   1   3]\n",
            " [  2  11  14   4   3  10   2   0 756   0]\n",
            " [  3   3   9   8  11   2   0  21   6 777]]\n"
          ],
          "name": "stdout"
        }
      ]
    },
    {
      "cell_type": "markdown",
      "metadata": {
        "id": "umjSX5_GDTC4",
        "colab_type": "text"
      },
      "source": [
        "**To know how many digits were misclassified we can print out the Confusion-Matrix**"
      ]
    },
    {
      "cell_type": "markdown",
      "metadata": {
        "id": "uB1J0G67ExjF",
        "colab_type": "text"
      },
      "source": [
        "**We understood that out of many zeros 832 were correctly classified and same thing is going on next.. We understand that this non linear's model confusion matrix is better than the linears' model confusion matrix**"
      ]
    },
    {
      "cell_type": "markdown",
      "metadata": {
        "id": "Wl_uGRAF9npE",
        "colab_type": "text"
      },
      "source": [
        "**The non linear model with random hyperparameters gives approx. 95.9% accuracy.**"
      ]
    },
    {
      "cell_type": "markdown",
      "metadata": {
        "id": "R5pxqF467_Uf",
        "colab_type": "text"
      },
      "source": [
        "# **PLOT**"
      ]
    },
    {
      "cell_type": "code",
      "metadata": {
        "id": "LfEONXdh8EZm",
        "colab_type": "code",
        "outputId": "7891baf4-8ecc-43a7-b190-a27744ebfcb7",
        "colab": {
          "base_uri": "https://localhost:8080/",
          "height": 295
        }
      },
      "source": [
        "#y_train\n",
        "plt.plot(figure=(16, 10))\n",
        "g = sns.countplot(y_train, palette='icefire')\n",
        "plt.title('NUmber of digit classes')\n",
        "plt.show()"
      ],
      "execution_count": 0,
      "outputs": [
        {
          "output_type": "display_data",
          "data": {
            "image/png": "[encoded data removed]",
            "text/plain": [
              "<Figure size 432x288 with 1 Axes>"
            ]
          },
          "metadata": {
            "tags": []
          }
        }
      ]
    },
    {
      "cell_type": "code",
      "metadata": {
        "id": "yILmFdZM8EgO",
        "colab_type": "code",
        "outputId": "77f477fd-a3f8-439e-f09c-8131f8fb6e0a",
        "colab": {
          "base_uri": "https://localhost:8080/",
          "height": 295
        }
      },
      "source": [
        "#y_test\n",
        "plt.plot(figure=(16, 10))\n",
        "g2 = sns.countplot(y_test, palette='icefire')\n",
        "plt.title('NUmber of digit classes')\n",
        "plt.show()"
      ],
      "execution_count": 0,
      "outputs": [
        {
          "output_type": "display_data",
          "data": {
            "image/png": "[encoded data removed]",
            "text/plain": [
              "<Figure size 432x288 with 1 Axes>"
            ]
          },
          "metadata": {
            "tags": []
          }
        }
      ]
    },
    {
      "cell_type": "markdown",
      "metadata": {
        "id": "ilFTEHIJAE_A",
        "colab_type": "text"
      },
      "source": [
        "**The dataset is based on gray-scale images of handwritten digits and each image is 28x28. Each pixel has a number associated with it, where 0 is a dark pixel and 255 is a white pixel. Both the train and test data-set have 785 columns where, ‘label’ column represents the handwritten digit and remaining 784 columns represent the (28, 28) pixel values.**"
      ]
    },
    {
      "cell_type": "markdown",
      "metadata": {
        "id": "VBRLqzRc8KQP",
        "colab_type": "text"
      },
      "source": [
        "# **Plot Digit One from dataset**"
      ]
    },
    {
      "cell_type": "code",
      "metadata": {
        "id": "srkRYXZC8EjU",
        "colab_type": "code",
        "outputId": "6957ce42-176b-4a34-c611-0d51b8b126dc",
        "colab": {
          "base_uri": "https://localhost:8080/",
          "height": 281
        }
      },
      "source": [
        "#one\n",
        "one = df.iloc[37, 1:]\n",
        "#one.shape\n",
        "one = one.values.reshape(28, 28)\n",
        "plt.imshow(one, cmap='gray')\n",
        "plt.title(\"Digit 1\")\n",
        "plt.show()\n"
      ],
      "execution_count": 20,
      "outputs": [
        {
          "output_type": "display_data",
          "data": {
            "image/png": "[encoded data removed]",
            "text/plain": [
              "<Figure size 432x288 with 1 Axes>"
            ]
          },
          "metadata": {
            "tags": []
          }
        }
      ]
    },
    {
      "cell_type": "markdown",
      "metadata": {
        "id": "dPjuogPK8OFX",
        "colab_type": "text"
      },
      "source": [
        "# **Plot Digit Three from dataset**"
      ]
    },
    {
      "cell_type": "code",
      "metadata": {
        "id": "6LigJRss8Ela",
        "colab_type": "code",
        "outputId": "ef48e17c-0548-450a-f434-e31b513da589",
        "colab": {
          "base_uri": "https://localhost:8080/",
          "height": 281
        }
      },
      "source": [
        "#three\n",
        "three = df.iloc[25, 1:]\n",
        "#print(three.shape)\n",
        "three = three.values.reshape(28, 28)\n",
        "plt.imshow(three, cmap='gray')\n",
        "plt.title(\"Digit 3\")\n",
        "plt.show()"
      ],
      "execution_count": 25,
      "outputs": [
        {
          "output_type": "display_data",
          "data": {
            "image/png": "[encoded data removed]",
            "text/plain": [
              "<Figure size 432x288 with 1 Axes>"
            ]
          },
          "metadata": {
            "tags": []
          }
        }
      ]
    },
    {
      "cell_type": "markdown",
      "metadata": {
        "id": "4RXuh8wQ2TQc",
        "colab_type": "text"
      },
      "source": [
        "# **Plot Digit Four from dataset**"
      ]
    },
    {
      "cell_type": "code",
      "metadata": {
        "id": "9tsgyWiv2U7I",
        "colab_type": "code",
        "colab": {
          "base_uri": "https://localhost:8080/",
          "height": 281
        },
        "outputId": "dc0f9679-c285-4feb-930e-6e58d129252b"
      },
      "source": [
        "#four\n",
        "four = df.iloc[205, 1:]\n",
        "#print(four.shape)\n",
        "four = four.values.reshape(28, 28)\n",
        "plt.imshow(four, cmap='gray')\n",
        "plt.title(\"Digit 4\")\n",
        "plt.show()"
      ],
      "execution_count": 19,
      "outputs": [
        {
          "output_type": "display_data",
          "data": {
            "image/png": "[encoded data removed]",
            "text/plain": [
              "<Figure size 432x288 with 1 Axes>"
            ]
          },
          "metadata": {
            "tags": []
          }
        }
      ]
    },
    {
      "cell_type": "markdown",
      "metadata": {
        "id": "0p1vVcvW9C7o",
        "colab_type": "text"
      },
      "source": [
        "**Found this method to choose the best hyperparameters for example to choose the optimum soft margin parameter C and gamma parameter.**\n",
        "**Use of GridSearchCV method with 5 folds cross-validation.**\n",
        "**It takes a lot of time to compile.**"
      ]
    },
    {
      "cell_type": "code",
      "metadata": {
        "id": "txDU3vl_3CGY",
        "colab_type": "code",
        "colab": {
          "base_uri": "https://localhost:8080/",
          "height": 51
        },
        "outputId": "24ccd9c9-2354-431e-9fab-d863d8d7f62c"
      },
      "source": [
        "################################################################################################################\n",
        "folds = KFold(n_splits = 5, shuffle = True, random_state = 10)\n",
        "\n",
        "# specify range of hyperparameters\n",
        "# Set the parameters by cross-validation\n",
        "hyper_params = [ {'gamma': [1e-2, 1e-3, 1e-4],'C': [5,10]}]\n",
        "\n",
        "# specify model\n",
        "model = SVC(kernel=\"rbf\")\n",
        "\n",
        "# set up GridSearchCV()\n",
        "model_cv = GridSearchCV(estimator = model,\n",
        "                        param_grid = hyper_params,\n",
        "                        scoring= 'accuracy',\n",
        "                        cv = folds,\n",
        "                        verbose = 1,\n",
        "                        return_train_score=True)\n",
        "# fit the model\n",
        "model_cv.fit(X_train, y_train)\n",
        "\n",
        "cv_results = pd.DataFrame(model_cv.cv_results_)\n",
        "print(cv_results)\n",
        "\n",
        "# converting C to numeric type for plotting on x-axis\n",
        "cv_results['param_C'] = cv_results['param_C'].astype('int')\n",
        "\n",
        "# # plotting\n",
        "plt.figure(figsize=(16,8))\n",
        "\n",
        "# subplot 1/3\n",
        "plt.subplot(131)\n",
        "gamma_01 = cv_results[cv_results['param_gamma']==0.01]\n",
        "\n",
        "plt.plot(gamma_01[\"param_C\"], gamma_01[\"mean_test_score\"])\n",
        "plt.plot(gamma_01[\"param_C\"], gamma_01[\"mean_train_score\"])\n",
        "plt.xlabel('C')\n",
        "plt.ylabel('Accuracy')\n",
        "plt.title(\"Gamma=0.01\")\n",
        "plt.ylim([0.60, 1])\n",
        "plt.legend(['test accuracy', 'train accuracy'], loc='upper left')\n",
        "plt.xscale('log')\n",
        "\n",
        "# subplot 2/3\n",
        "plt.subplot(132)\n",
        "gamma_001 = cv_results[cv_results['param_gamma']==0.001]\n",
        "\n",
        "plt.plot(gamma_001[\"param_C\"], gamma_001[\"mean_test_score\"])\n",
        "plt.plot(gamma_001[\"param_C\"], gamma_001[\"mean_train_score\"])\n",
        "plt.xlabel('C')\n",
        "plt.ylabel('Accuracy')\n",
        "plt.title(\"Gamma=0.001\")\n",
        "plt.ylim([0.60, 1])\n",
        "plt.legend(['test accuracy', 'train accuracy'], loc='upper left')\n",
        "plt.xscale('log')\n",
        "\n",
        "\n",
        "# subplot 3/3\n",
        "plt.subplot(133)\n",
        "gamma_0001 = cv_results[cv_results['param_gamma']==0.0001]\n",
        "\n",
        "plt.plot(gamma_0001[\"param_C\"], gamma_0001[\"mean_test_score\"])\n",
        "plt.plot(gamma_0001[\"param_C\"], gamma_0001[\"mean_train_score\"])\n",
        "plt.xlabel('C')\n",
        "plt.ylabel('Accuracy')\n",
        "plt.title(\"Gamma=0.0001\")\n",
        "plt.ylim([0.60, 1])\n",
        "plt.legend(['test accuracy', 'train accuracy'], loc='upper left')\n",
        "plt.xscale('log')\n",
        "\n",
        "#Let's now choose the best hyperparameters.\n",
        "\n",
        "# printing the optimal accuracy score and hyperparameters\n",
        "best_score = model_cv.best_score_\n",
        "best_hyperparams = model_cv.best_params_\n",
        "\n",
        "print(\"The best test score is {0} corresponding to hyperparameters {1}\".format(best_score, best_hyperparams))\n",
        "##############################################################################################################\n"
      ],
      "execution_count": 0,
      "outputs": [
        {
          "output_type": "stream",
          "text": [
            "Fitting 5 folds for each of 6 candidates, totalling 30 fits\n"
          ],
          "name": "stdout"
        },
        {
          "output_type": "stream",
          "text": [
            "[Parallel(n_jobs=1)]: Using backend SequentialBackend with 1 concurrent workers.\n"
          ],
          "name": "stderr"
        }
      ]
    },
    {
      "cell_type": "markdown",
      "metadata": {
        "id": "kMsX3wl59Jp2",
        "colab_type": "text"
      },
      "source": [
        "#**Building and Evaluating the Final Model**\n",
        "#**Let's now build and evaluate the final model, the model with highest accuracy.**\n",
        "# **model with the optimal hyperparameters**"
      ]
    },
    {
      "cell_type": "code",
      "metadata": {
        "id": "mlot4xY19EsV",
        "colab_type": "code",
        "outputId": "b8bd9178-cbee-4920-855e-1f2cbf08c6fb",
        "colab": {
          "base_uri": "https://localhost:8080/",
          "height": 255
        }
      },
      "source": [
        "# best model\n",
        "model_best = SVC(C=10, gamma=0.001, kernel=\"rbf\")\n",
        "\n",
        "model_best.fit(X_train, y_train)\n",
        "y_pred = model_best.predict(X_test)\n",
        "\n",
        "# metrics\n",
        "print(\"accuracy\", metrics.accuracy_score(y_test, y_pred), \"\\n\")\n",
        "print(\"Metric: Confusion Matrix:\")\n",
        "print(metrics.confusion_matrix(y_test, y_pred), \"\\n\")\n",
        "\n",
        "#The accuracy achieved using a non-linear kernel (~0.94) is mush higher than that of a linear one (~0.91). We can conclude that the problem is highly non-linear in nature."
      ],
      "execution_count": 24,
      "outputs": [
        {
          "output_type": "stream",
          "text": [
            "accuracy 0.9677380952380953 \n",
            "\n",
            "Metric: Confusion Matrix:\n",
            "[[836   0   3   0   1   0  10   0   2   0]\n",
            " [  0 940   3   0   1   1   1   0   3   1]\n",
            " [  2   0 780   5   2   0   4   4   3   1]\n",
            " [  1   4   7 854   1   8   0   2   2   3]\n",
            " [  1   3   5   0 781   1   2   3   3  12]\n",
            " [  6   2   9  10   5 701   4   0   7   3]\n",
            " [  3   1  11   0   2   2 812   0   0   0]\n",
            " [  0   1   7   1   3   2   0 867   0   3]\n",
            " [  2   5  13   4   3   6   2   0 766   1]\n",
            " [  3   3   8   7  11   0   0  12   4 792]] \n",
            "\n"
          ],
          "name": "stdout"
        }
      ]
    },
    {
      "cell_type": "markdown",
      "metadata": {
        "id": "MOb-L_CEIDxB",
        "colab_type": "text"
      },
      "source": [
        "**To know how many digits were misclassified we can print out the Confusion-Matrix**\n",
        "\n",
        "**We understood that out of many zeros 836 were correctly classified and same thing is going on next.. We understand that this non linear's model confusion matrix is better(with the best hyperparameters chosen) than the linears' model confusion matrix and non linear's model confusion matrix with random hyperparameters**"
      ]
    },
    {
      "cell_type": "markdown",
      "metadata": {
        "id": "fnZMoU4j9dAe",
        "colab_type": "text"
      },
      "source": [
        "**Using a Non-Linear Kernel Model we achieved 96.7% accuracy which is mush higher than that of a linear one 92.4% and randomized non linear one 95.9%. We can conclude that the problem is highly non-linear.**"
      ]
    }
  ]
}