{
  "nbformat": 4,
  "nbformat_minor": 0,
  "metadata": {
    "colab": {
      "name": "Ergasia1_2.ipynb",
      "provenance": [],
      "collapsed_sections": [],
      "include_colab_link": true
    },
    "kernelspec": {
      "name": "python3",
      "display_name": "Python 3"
    }
  },
  "cells": [
    {
      "cell_type": "markdown",
      "metadata": {
        "id": "view-in-github",
        "colab_type": "text"
      },
      "source": [
        "<a href=\"https://colab.research.google.com/github/hellfireworld/MachineLearning/blob/master/Ergasia1_2.ipynb\" target=\"_parent\"><img src=\"https://colab.research.google.com/assets/colab-badge.svg\" alt=\"Open In Colab\"/></a>"
      ]
    },
    {
      "cell_type": "markdown",
      "metadata": {
        "id": "WYFhxIfDPofJ",
        "colab_type": "text"
      },
      "source": [
        "**Import essential libraries.**"
      ]
    },
    {
      "cell_type": "code",
      "metadata": {
        "id": "5CtNcQlGOrcP",
        "colab_type": "code",
        "colab": {}
      },
      "source": [
        "import sys\n",
        "import io\n",
        "from io import StringIO\n",
        "import matplotlib.pyplot as plt\n",
        "import numpy as np\n",
        "from sklearn.linear_model import SGDClassifier, SGDRegressor\n",
        "import pandas\n",
        "from google.colab import files"
      ],
      "execution_count": 0,
      "outputs": []
    },
    {
      "cell_type": "markdown",
      "metadata": {
        "id": "W-QNFtPePqhH",
        "colab_type": "text"
      },
      "source": [
        "**Import day.csv file with GOOGLE_COLAB**"
      ]
    },
    {
      "cell_type": "code",
      "metadata": {
        "id": "8c9lKUzxPXKD",
        "colab_type": "code",
        "outputId": "8689f6ca-a1c6-469d-c3ef-df15532207a4",
        "colab": {
          "resources": {
            "http://localhost:8080/nbextensions/google.colab/files.js": {
              "data": "Ly8gQ29weXJpZ2h0IDIwMTcgR29vZ2xlIExMQwovLwovLyBMaWNlbnNlZCB1bmRlciB0aGUgQXBhY2hlIExpY2Vuc2UsIFZlcnNpb24gMi4wICh0aGUgIkxpY2Vuc2UiKTsKLy8geW91IG1heSBub3QgdXNlIHRoaXMgZmlsZSBleGNlcHQgaW4gY29tcGxpYW5jZSB3aXRoIHRoZSBMaWNlbnNlLgovLyBZb3UgbWF5IG9idGFpbiBhIGNvcHkgb2YgdGhlIExpY2Vuc2UgYXQKLy8KLy8gICAgICBodHRwOi8vd3d3LmFwYWNoZS5vcmcvbGljZW5zZXMvTElDRU5TRS0yLjAKLy8KLy8gVW5sZXNzIHJlcXVpcmVkIGJ5IGFwcGxpY2FibGUgbGF3IG9yIGFncmVlZCB0byBpbiB3cml0aW5nLCBzb2Z0d2FyZQovLyBkaXN0cmlidXRlZCB1bmRlciB0aGUgTGljZW5zZSBpcyBkaXN0cmlidXRlZCBvbiBhbiAiQVMgSVMiIEJBU0lTLAovLyBXSVRIT1VUIFdBUlJBTlRJRVMgT1IgQ09ORElUSU9OUyBPRiBBTlkgS0lORCwgZWl0aGVyIGV4cHJlc3Mgb3IgaW1wbGllZC4KLy8gU2VlIHRoZSBMaWNlbnNlIGZvciB0aGUgc3BlY2lmaWMgbGFuZ3VhZ2UgZ292ZXJuaW5nIHBlcm1pc3Npb25zIGFuZAovLyBsaW1pdGF0aW9ucyB1bmRlciB0aGUgTGljZW5zZS4KCi8qKgogKiBAZmlsZW92ZXJ2aWV3IEhlbHBlcnMgZm9yIGdvb2dsZS5jb2xhYiBQeXRob24gbW9kdWxlLgogKi8KKGZ1bmN0aW9uKHNjb3BlKSB7CmZ1bmN0aW9uIHNwYW4odGV4dCwgc3R5bGVBdHRyaWJ1dGVzID0ge30pIHsKICBjb25zdCBlbGVtZW50ID0gZG9jdW1lbnQuY3JlYXRlRWxlbWVudCgnc3BhbicpOwogIGVsZW1lbnQudGV4dENvbnRlbnQgPSB0ZXh0OwogIGZvciAoY29uc3Qga2V5IG9mIE9iamVjdC5rZXlzKHN0eWxlQXR0cmlidXRlcykpIHsKICAgIGVsZW1lbnQuc3R5bGVba2V5XSA9IHN0eWxlQXR0cmlidXRlc1trZXldOwogIH0KICByZXR1cm4gZWxlbWVudDsKfQoKLy8gTWF4IG51bWJlciBvZiBieXRlcyB3aGljaCB3aWxsIGJlIHVwbG9hZGVkIGF0IGEgdGltZS4KY29uc3QgTUFYX1BBWUxPQURfU0laRSA9IDEwMCAqIDEwMjQ7Ci8vIE1heCBhbW91bnQgb2YgdGltZSB0byBibG9jayB3YWl0aW5nIGZvciB0aGUgdXNlci4KY29uc3QgRklMRV9DSEFOR0VfVElNRU9VVF9NUyA9IDMwICogMTAwMDsKCmZ1bmN0aW9uIF91cGxvYWRGaWxlcyhpbnB1dElkLCBvdXRwdXRJZCkgewogIGNvbnN0IHN0ZXBzID0gdXBsb2FkRmlsZXNTdGVwKGlucHV0SWQsIG91dHB1dElkKTsKICBjb25zdCBvdXRwdXRFbGVtZW50ID0gZG9jdW1lbnQuZ2V0RWxlbWVudEJ5SWQob3V0cHV0SWQpOwogIC8vIENhY2hlIHN0ZXBzIG9uIHRoZSBvdXRwdXRFbGVtZW50IHRvIG1ha2UgaXQgYXZhaWxhYmxlIGZvciB0aGUgbmV4dCBjYWxsCiAgLy8gdG8gdXBsb2FkRmlsZXNDb250aW51ZSBmcm9tIFB5dGhvbi4KICBvdXRwdXRFbGVtZW50LnN0ZXBzID0gc3RlcHM7CgogIHJldHVybiBfdXBsb2FkRmlsZXNDb250aW51ZShvdXRwdXRJZCk7Cn0KCi8vIFRoaXMgaXMgcm91Z2hseSBhbiBhc3luYyBnZW5lcmF0b3IgKG5vdCBzdXBwb3J0ZWQgaW4gdGhlIGJyb3dzZXIgeWV0KSwKLy8gd2hlcmUgdGhlcmUgYXJlIG11bHRpcGxlIGFzeW5jaHJvbm91cyBzdGVwcyBhbmQgdGhlIFB5dGhvbiBzaWRlIGlzIGdvaW5nCi8vIHRvIHBvbGwgZm9yIGNvbXBsZXRpb24gb2YgZWFjaCBzdGVwLgovLyBUaGlzIHVzZXMgYSBQcm9taXNlIHRvIGJsb2NrIHRoZSBweXRob24gc2lkZSBvbiBjb21wbGV0aW9uIG9mIGVhY2ggc3RlcCwKLy8gdGhlbiBwYXNzZXMgdGhlIHJlc3VsdCBvZiB0aGUgcHJldmlvdXMgc3RlcCBhcyB0aGUgaW5wdXQgdG8gdGhlIG5leHQgc3RlcC4KZnVuY3Rpb24gX3VwbG9hZEZpbGVzQ29udGludWUob3V0cHV0SWQpIHsKICBjb25zdCBvdXRwdXRFbGVtZW50ID0gZG9jdW1lbnQuZ2V0RWxlbWVudEJ5SWQob3V0cHV0SWQpOwogIGNvbnN0IHN0ZXBzID0gb3V0cHV0RWxlbWVudC5zdGVwczsKCiAgY29uc3QgbmV4dCA9IHN0ZXBzLm5leHQob3V0cHV0RWxlbWVudC5sYXN0UHJvbWlzZVZhbHVlKTsKICByZXR1cm4gUHJvbWlzZS5yZXNvbHZlKG5leHQudmFsdWUucHJvbWlzZSkudGhlbigodmFsdWUpID0+IHsKICAgIC8vIENhY2hlIHRoZSBsYXN0IHByb21pc2UgdmFsdWUgdG8gbWFrZSBpdCBhdmFpbGFibGUgdG8gdGhlIG5leHQKICAgIC8vIHN0ZXAgb2YgdGhlIGdlbmVyYXRvci4KICAgIG91dHB1dEVsZW1lbnQubGFzdFByb21pc2VWYWx1ZSA9IHZhbHVlOwogICAgcmV0dXJuIG5leHQudmFsdWUucmVzcG9uc2U7CiAgfSk7Cn0KCi8qKgogKiBHZW5lcmF0b3IgZnVuY3Rpb24gd2hpY2ggaXMgY2FsbGVkIGJldHdlZW4gZWFjaCBhc3luYyBzdGVwIG9mIHRoZSB1cGxvYWQKICogcHJvY2Vzcy4KICogQHBhcmFtIHtzdHJpbmd9IGlucHV0SWQgRWxlbWVudCBJRCBvZiB0aGUgaW5wdXQgZmlsZSBwaWNrZXIgZWxlbWVudC4KICogQHBhcmFtIHtzdHJpbmd9IG91dHB1dElkIEVsZW1lbnQgSUQgb2YgdGhlIG91dHB1dCBkaXNwbGF5LgogKiBAcmV0dXJuIHshSXRlcmFibGU8IU9iamVjdD59IEl0ZXJhYmxlIG9mIG5leHQgc3RlcHMuCiAqLwpmdW5jdGlvbiogdXBsb2FkRmlsZXNTdGVwKGlucHV0SWQsIG91dHB1dElkKSB7CiAgY29uc3QgaW5wdXRFbGVtZW50ID0gZG9jdW1lbnQuZ2V0RWxlbWVudEJ5SWQoaW5wdXRJZCk7CiAgaW5wdXRFbGVtZW50LmRpc2FibGVkID0gZmFsc2U7CgogIGNvbnN0IG91dHB1dEVsZW1lbnQgPSBkb2N1bWVudC5nZXRFbGVtZW50QnlJZChvdXRwdXRJZCk7CiAgb3V0cHV0RWxlbWVudC5pbm5lckhUTUwgPSAnJzsKCiAgY29uc3QgcGlja2VkUHJvbWlzZSA9IG5ldyBQcm9taXNlKChyZXNvbHZlKSA9PiB7CiAgICBpbnB1dEVsZW1lbnQuYWRkRXZlbnRMaXN0ZW5lcignY2hhbmdlJywgKGUpID0+IHsKICAgICAgcmVzb2x2ZShlLnRhcmdldC5maWxlcyk7CiAgICB9KTsKICB9KTsKCiAgY29uc3QgY2FuY2VsID0gZG9jdW1lbnQuY3JlYXRlRWxlbWVudCgnYnV0dG9uJyk7CiAgaW5wdXRFbGVtZW50LnBhcmVudEVsZW1lbnQuYXBwZW5kQ2hpbGQoY2FuY2VsKTsKICBjYW5jZWwudGV4dENvbnRlbnQgPSAnQ2FuY2VsIHVwbG9hZCc7CiAgY29uc3QgY2FuY2VsUHJvbWlzZSA9IG5ldyBQcm9taXNlKChyZXNvbHZlKSA9PiB7CiAgICBjYW5jZWwub25jbGljayA9ICgpID0+IHsKICAgICAgcmVzb2x2ZShudWxsKTsKICAgIH07CiAgfSk7CgogIC8vIENhbmNlbCB1cGxvYWQgaWYgdXNlciBoYXNuJ3QgcGlja2VkIGFueXRoaW5nIGluIHRpbWVvdXQuCiAgY29uc3QgdGltZW91dFByb21pc2UgPSBuZXcgUHJvbWlzZSgocmVzb2x2ZSkgPT4gewogICAgc2V0VGltZW91dCgoKSA9PiB7CiAgICAgIHJlc29sdmUobnVsbCk7CiAgICB9LCBGSUxFX0NIQU5HRV9USU1FT1VUX01TKTsKICB9KTsKCiAgLy8gV2FpdCBmb3IgdGhlIHVzZXIgdG8gcGljayB0aGUgZmlsZXMuCiAgY29uc3QgZmlsZXMgPSB5aWVsZCB7CiAgICBwcm9taXNlOiBQcm9taXNlLnJhY2UoW3BpY2tlZFByb21pc2UsIHRpbWVvdXRQcm9taXNlLCBjYW5jZWxQcm9taXNlXSksCiAgICByZXNwb25zZTogewogICAgICBhY3Rpb246ICdzdGFydGluZycsCiAgICB9CiAgfTsKCiAgaWYgKCFmaWxlcykgewogICAgcmV0dXJuIHsKICAgICAgcmVzcG9uc2U6IHsKICAgICAgICBhY3Rpb246ICdjb21wbGV0ZScsCiAgICAgIH0KICAgIH07CiAgfQoKICBjYW5jZWwucmVtb3ZlKCk7CgogIC8vIERpc2FibGUgdGhlIGlucHV0IGVsZW1lbnQgc2luY2UgZnVydGhlciBwaWNrcyBhcmUgbm90IGFsbG93ZWQuCiAgaW5wdXRFbGVtZW50LmRpc2FibGVkID0gdHJ1ZTsKCiAgZm9yIChjb25zdCBmaWxlIG9mIGZpbGVzKSB7CiAgICBjb25zdCBsaSA9IGRvY3VtZW50LmNyZWF0ZUVsZW1lbnQoJ2xpJyk7CiAgICBsaS5hcHBlbmQoc3BhbihmaWxlLm5hbWUsIHtmb250V2VpZ2h0OiAnYm9sZCd9KSk7CiAgICBsaS5hcHBlbmQoc3BhbigKICAgICAgICBgKCR7ZmlsZS50eXBlIHx8ICduL2EnfSkgLSAke2ZpbGUuc2l6ZX0gYnl0ZXMsIGAgKwogICAgICAgIGBsYXN0IG1vZGlmaWVkOiAkewogICAgICAgICAgICBmaWxlLmxhc3RNb2RpZmllZERhdGUgPyBmaWxlLmxhc3RNb2RpZmllZERhdGUudG9Mb2NhbGVEYXRlU3RyaW5nKCkgOgogICAgICAgICAgICAgICAgICAgICAgICAgICAgICAgICAgICAnbi9hJ30gLSBgKSk7CiAgICBjb25zdCBwZXJjZW50ID0gc3BhbignMCUgZG9uZScpOwogICAgbGkuYXBwZW5kQ2hpbGQocGVyY2VudCk7CgogICAgb3V0cHV0RWxlbWVudC5hcHBlbmRDaGlsZChsaSk7CgogICAgY29uc3QgZmlsZURhdGFQcm9taXNlID0gbmV3IFByb21pc2UoKHJlc29sdmUpID0+IHsKICAgICAgY29uc3QgcmVhZGVyID0gbmV3IEZpbGVSZWFkZXIoKTsKICAgICAgcmVhZGVyLm9ubG9hZCA9IChlKSA9PiB7CiAgICAgICAgcmVzb2x2ZShlLnRhcmdldC5yZXN1bHQpOwogICAgICB9OwogICAgICByZWFkZXIucmVhZEFzQXJyYXlCdWZmZXIoZmlsZSk7CiAgICB9KTsKICAgIC8vIFdhaXQgZm9yIHRoZSBkYXRhIHRvIGJlIHJlYWR5LgogICAgbGV0IGZpbGVEYXRhID0geWllbGQgewogICAgICBwcm9taXNlOiBmaWxlRGF0YVByb21pc2UsCiAgICAgIHJlc3BvbnNlOiB7CiAgICAgICAgYWN0aW9uOiAnY29udGludWUnLAogICAgICB9CiAgICB9OwoKICAgIC8vIFVzZSBhIGNodW5rZWQgc2VuZGluZyB0byBhdm9pZCBtZXNzYWdlIHNpemUgbGltaXRzLiBTZWUgYi82MjExNTY2MC4KICAgIGxldCBwb3NpdGlvbiA9IDA7CiAgICB3aGlsZSAocG9zaXRpb24gPCBmaWxlRGF0YS5ieXRlTGVuZ3RoKSB7CiAgICAgIGNvbnN0IGxlbmd0aCA9IE1hdGgubWluKGZpbGVEYXRhLmJ5dGVMZW5ndGggLSBwb3NpdGlvbiwgTUFYX1BBWUxPQURfU0laRSk7CiAgICAgIGNvbnN0IGNodW5rID0gbmV3IFVpbnQ4QXJyYXkoZmlsZURhdGEsIHBvc2l0aW9uLCBsZW5ndGgpOwogICAgICBwb3NpdGlvbiArPSBsZW5ndGg7CgogICAgICBjb25zdCBiYXNlNjQgPSBidG9hKFN0cmluZy5mcm9tQ2hhckNvZGUuYXBwbHkobnVsbCwgY2h1bmspKTsKICAgICAgeWllbGQgewogICAgICAgIHJlc3BvbnNlOiB7CiAgICAgICAgICBhY3Rpb246ICdhcHBlbmQnLAogICAgICAgICAgZmlsZTogZmlsZS5uYW1lLAogICAgICAgICAgZGF0YTogYmFzZTY0LAogICAgICAgIH0sCiAgICAgIH07CiAgICAgIHBlcmNlbnQudGV4dENvbnRlbnQgPQogICAgICAgICAgYCR7TWF0aC5yb3VuZCgocG9zaXRpb24gLyBmaWxlRGF0YS5ieXRlTGVuZ3RoKSAqIDEwMCl9JSBkb25lYDsKICAgIH0KICB9CgogIC8vIEFsbCBkb25lLgogIHlpZWxkIHsKICAgIHJlc3BvbnNlOiB7CiAgICAgIGFjdGlvbjogJ2NvbXBsZXRlJywKICAgIH0KICB9Owp9CgpzY29wZS5nb29nbGUgPSBzY29wZS5nb29nbGUgfHwge307CnNjb3BlLmdvb2dsZS5jb2xhYiA9IHNjb3BlLmdvb2dsZS5jb2xhYiB8fCB7fTsKc2NvcGUuZ29vZ2xlLmNvbGFiLl9maWxlcyA9IHsKICBfdXBsb2FkRmlsZXMsCiAgX3VwbG9hZEZpbGVzQ29udGludWUsCn07Cn0pKHNlbGYpOwo=",
              "ok": true,
              "headers": [
                [
                  "content-type",
                  "application/javascript"
                ]
              ],
              "status": 200,
              "status_text": "OK"
            }
          },
          "base_uri": "https://localhost:8080/",
          "height": 77
        }
      },
      "source": [
        "uploaded = files.upload()"
      ],
      "execution_count": 0,
      "outputs": [
        {
          "output_type": "display_data",
          "data": {
            "text/html": [
              "\n",
              "     <input type=\"file\" id=\"files-171e5d39-affe-4d02-8e69-754e0d6afca8\" name=\"files[]\" multiple disabled />\n",
              "     <output id=\"result-171e5d39-affe-4d02-8e69-754e0d6afca8\">\n",
              "      Upload widget is only available when the cell has been executed in the\n",
              "      current browser session. Please rerun this cell to enable.\n",
              "      </output>\n",
              "      <script src=\"/nbextensions/google.colab/files.js\"></script> "
            ],
            "text/plain": [
              "<IPython.core.display.HTML object>"
            ]
          },
          "metadata": {
            "tags": []
          }
        },
        {
          "output_type": "stream",
          "text": [
            "Saving day.csv to day.csv\n"
          ],
          "name": "stdout"
        }
      ]
    },
    {
      "cell_type": "code",
      "metadata": {
        "id": "qbRQE14gQG5R",
        "colab_type": "code",
        "outputId": "09885cae-f348-40d7-886d-832a73ee705d",
        "colab": {
          "base_uri": "https://localhost:8080/",
          "height": 34
        }
      },
      "source": [
        "for fn in uploaded.keys():\n",
        "  print('User uploaded file \"{name}\" with length {length} bytes'.format(\n",
        "      name=fn, length=len(uploaded[fn])))"
      ],
      "execution_count": 7,
      "outputs": [
        {
          "output_type": "stream",
          "text": [
            "User uploaded file \"day.csv\" with length 56806 bytes\n"
          ],
          "name": "stdout"
        }
      ]
    },
    {
      "cell_type": "markdown",
      "metadata": {
        "id": "Zec3QaalPv1w",
        "colab_type": "text"
      },
      "source": [
        "**Test if day.csv is loaded by removing comment '#' below**"
      ]
    },
    {
      "cell_type": "code",
      "metadata": {
        "id": "NyYUCZsSQQTu",
        "colab_type": "code",
        "colab": {}
      },
      "source": [
        "#uploaded"
      ],
      "execution_count": 0,
      "outputs": []
    },
    {
      "cell_type": "markdown",
      "metadata": {
        "id": "T_V1vzAeP5QB",
        "colab_type": "text"
      },
      "source": [
        "**Define df variable as day.csv using pandas library**"
      ]
    },
    {
      "cell_type": "code",
      "metadata": {
        "id": "zgfQIwUwQ9Cl",
        "colab_type": "code",
        "colab": {}
      },
      "source": [
        "df = pandas.read_csv(io.StringIO(uploaded['day.csv'].decode('utf-8')))"
      ],
      "execution_count": 0,
      "outputs": []
    },
    {
      "cell_type": "markdown",
      "metadata": {
        "id": "b7Th87cCP92H",
        "colab_type": "text"
      },
      "source": [
        "**Fill variable 'features' with the important features that we need for our model to be good**"
      ]
    },
    {
      "cell_type": "code",
      "metadata": {
        "id": "IKUG_f4iP_A3",
        "colab_type": "code",
        "colab": {}
      },
      "source": [
        "features = ['season', 'yr', 'mnth', 'holiday', 'weekday', 'workingday', 'weathersit', 'temp', 'atemp', 'hum']"
      ],
      "execution_count": 0,
      "outputs": []
    },
    {
      "cell_type": "markdown",
      "metadata": {
        "id": "d-zS1ygcQNrG",
        "colab_type": "text"
      },
      "source": [
        "**We define all the features in X variable and one of the most prominent features in X2 variable.The y variable is the target_variable(cnt).We use print to show the head of variable X and the head of target variable y**"
      ]
    },
    {
      "cell_type": "code",
      "metadata": {
        "id": "8F4ii8BpQrD-",
        "colab_type": "code",
        "colab": {
          "base_uri": "https://localhost:8080/",
          "height": 289
        },
        "outputId": "bfff4729-b2fb-47b6-a17c-ec9063393514"
      },
      "source": [
        "\n",
        "X = df[features]\n",
        "X2 = df[['temp']]\n",
        "y = df['cnt']\n",
        "print(X.head())\n",
        "print(y.head())\n",
        "print('\\n')"
      ],
      "execution_count": 10,
      "outputs": [
        {
          "output_type": "stream",
          "text": [
            "   season  yr  mnth  holiday  ...  weathersit      temp     atemp       hum\n",
            "0       1   0     1        0  ...           2  0.344167  0.363625  0.805833\n",
            "1       1   0     1        0  ...           2  0.363478  0.353739  0.696087\n",
            "2       1   0     1        0  ...           1  0.196364  0.189405  0.437273\n",
            "3       1   0     1        0  ...           1  0.200000  0.212122  0.590435\n",
            "4       1   0     1        0  ...           1  0.226957  0.229270  0.436957\n",
            "\n",
            "[5 rows x 10 columns]\n",
            "0     985\n",
            "1     801\n",
            "2    1349\n",
            "3    1562\n",
            "4    1600\n",
            "Name: cnt, dtype: int64\n",
            "\n",
            "\n"
          ],
          "name": "stdout"
        }
      ]
    },
    {
      "cell_type": "markdown",
      "metadata": {
        "id": "QLCKQvhQQz19",
        "colab_type": "text"
      },
      "source": [
        "**Variables fx and fy typically store the values of X and y so we will use them later with partial_fit instead of fit because there are warnings with fit. Variable fx has all the values of the features and fy has all y values. We define one instance n=1 and after we create fx2 for one instance for the most prominent feature temp and fy2 for one instance for y.**"
      ]
    },
    {
      "cell_type": "code",
      "metadata": {
        "id": "GXgeB1ZpQyBd",
        "colab_type": "code",
        "colab": {}
      },
      "source": [
        "fX = X.values\n",
        "fy = y.values\n",
        "n = 1 ; # number of instances to keep\n",
        "fX2 = X2[:n].values\n",
        "fy2 = y[:n].values\n",
        "#print('fx:', fX, ' fy:', fy)"
      ],
      "execution_count": 0,
      "outputs": []
    },
    {
      "cell_type": "markdown",
      "metadata": {
        "id": "PRdzyc9nTBes",
        "colab_type": "text"
      },
      "source": [
        "**We need to make the experiment 3 times using a for_loop for all the features first. We will use the Stohastic Gradient Decent which makes our Regression Linear with loss function the (mean)squared_loss. With if statements we recognize in which run we are and we change the learning rate between 0.01-1 to have a different outcome and decide which learning rate is the best.**"
      ]
    },
    {
      "cell_type": "code",
      "metadata": {
        "id": "0ETVJyGSRZFH",
        "colab_type": "code",
        "outputId": "331c57bb-23a2-4d2a-d0d5-e28ea0607e26",
        "colab": {
          "base_uri": "https://localhost:8080/",
          "height": 1000
        }
      },
      "source": [
        "\n",
        "max_iteration = 1\n",
        "for i in range(3):\n",
        "    print('run: ', i+1)\n",
        "    old_stdout = sys.stdout\n",
        "    sys.stdout = mystdout = StringIO()\n",
        "    if(i==0):\n",
        "        a_learning_rate = 0.01\n",
        "    elif(i==1):\n",
        "        a_learning_rate = 0.1\n",
        "    elif (i==2):\n",
        "        a_learning_rate = 1\n",
        "    print('a_learning_rate:', a_learning_rate)\n",
        "\n",
        "    sgd = SGDRegressor(loss=\"squared_loss\", learning_rate='constant', eta0=a_learning_rate, penalty=None, max_iter=max_iteration,\n",
        "                   average=False, random_state=2018, verbose=1)\n",
        "\n",
        "    epochs = 15 ; # number of epochs\n",
        "\n",
        "    for epoch in range(epochs):\n",
        "        model = sgd.partial_fit(fX, fy) # evala ta X kai y values mesa sto fx kai fy dioti alliws evgaze warnings\n",
        "        #print(model.coef_)\n",
        "        y = model.predict(fX)\n",
        "        #print(y, fy, np.sum(fy-y))\n",
        "\n",
        "    sys.stdout = old_stdout\n",
        "    loss_history = mystdout.getvalue()\n",
        "    print(loss_history)\n",
        "    loss_list = []\n",
        "    for line in loss_history.split('\\n'):\n",
        "        if (len(line.split(\"loss: \")) == 1):\n",
        "            continue\n",
        "        loss_list.append(float(line.split(\"loss: \")[-1]))\n",
        "    print(model.coef_)\n",
        "    plt.figure()\n",
        "    plt.plot(np.arange(len(loss_list)), loss_list)\n",
        "    plt.scatter(np.arange(len(loss_list)), loss_list)\n",
        "    plt.xlabel(\"Time in epochs\")\n",
        "    plt.ylabel(\"Loss\")\n",
        "    plt.show()\n"
      ],
      "execution_count": 12,
      "outputs": [
        {
          "output_type": "stream",
          "text": [
            "run:  1\n",
            "a_learning_rate: 0.01\n",
            "-- Epoch 1\n",
            "Norm: 2899.21, NNZs: 10, Bias: 898.831476, T: 731, Avg. loss: 1875495.118521\n",
            "Total training time: 0.00 seconds.\n",
            "-- Epoch 1\n",
            "Norm: 3534.12, NNZs: 10, Bias: 1040.327168, T: 731, Avg. loss: 1008408.211108\n",
            "Total training time: 0.00 seconds.\n",
            "-- Epoch 1\n",
            "Norm: 3845.30, NNZs: 10, Bias: 1049.776479, T: 731, Avg. loss: 898632.730774\n",
            "Total training time: 0.00 seconds.\n",
            "-- Epoch 1\n",
            "Norm: 4041.19, NNZs: 10, Bias: 1010.287536, T: 731, Avg. loss: 863683.238808\n",
            "Total training time: 0.00 seconds.\n",
            "-- Epoch 1\n",
            "Norm: 4175.44, NNZs: 10, Bias: 957.594358, T: 731, Avg. loss: 848653.170138\n",
            "Total training time: 0.00 seconds.\n",
            "-- Epoch 1\n",
            "Norm: 4271.46, NNZs: 10, Bias: 906.801899, T: 731, Avg. loss: 840819.415433\n",
            "Total training time: 0.00 seconds.\n",
            "-- Epoch 1\n",
            "Norm: 4342.23, NNZs: 10, Bias: 863.515761, T: 731, Avg. loss: 836225.069726\n",
            "Total training time: 0.00 seconds.\n",
            "-- Epoch 1\n",
            "Norm: 4395.61, NNZs: 10, Bias: 829.029790, T: 731, Avg. loss: 833354.200938\n",
            "Total training time: 0.00 seconds.\n",
            "-- Epoch 1\n",
            "Norm: 4436.57, NNZs: 10, Bias: 802.807548, T: 731, Avg. loss: 831496.641203\n",
            "Total training time: 0.00 seconds.\n",
            "-- Epoch 1\n",
            "Norm: 4468.43, NNZs: 10, Bias: 783.656290, T: 731, Avg. loss: 830266.430579\n",
            "Total training time: 0.00 seconds.\n",
            "-- Epoch 1\n",
            "Norm: 4493.48, NNZs: 10, Bias: 770.260970, T: 731, Avg. loss: 829435.432599\n",
            "Total training time: 0.00 seconds.\n",
            "-- Epoch 1\n",
            "Norm: 4513.35, NNZs: 10, Bias: 761.407821, T: 731, Avg. loss: 828863.105627\n",
            "Total training time: 0.00 seconds.\n",
            "-- Epoch 1\n",
            "Norm: 4529.26, NNZs: 10, Bias: 756.061008, T: 731, Avg. loss: 828461.030426\n",
            "Total training time: 0.00 seconds.\n",
            "-- Epoch 1\n",
            "Norm: 4542.10, NNZs: 10, Bias: 753.372942, T: 731, Avg. loss: 828172.821978\n",
            "Total training time: 0.00 seconds.\n",
            "-- Epoch 1\n",
            "Norm: 4552.56, NNZs: 10, Bias: 752.667328, T: 731, Avg. loss: 827962.087310\n",
            "Total training time: 0.00 seconds.\n",
            "\n",
            "[ 478.41222685 2135.08146991   16.56957599 -606.41250112  -59.04201187\n",
            "   60.72836091 -712.13019214 2757.99088143 2723.36170398 -181.19478295]\n"
          ],
          "name": "stdout"
        },
        {
          "output_type": "display_data",
          "data": {
            "image/png": "[encoded data removed]",
            "text/plain": [
              "<Figure size 432x288 with 1 Axes>"
            ]
          },
          "metadata": {
            "tags": []
          }
        },
        {
          "output_type": "stream",
          "text": [
            "run:  2\n",
            "a_learning_rate: 0.1\n",
            "-- Epoch 1\n",
            "Norm: 1444836347123.46, NNZs: 10, Bias: -403827847072.864319, T: 731, Avg. loss: 10872664749275189843329024.000000\n",
            "Total training time: 0.00 seconds.\n",
            "-- Epoch 1\n",
            "Norm: 1466631018637.01, NNZs: 10, Bias: -837334806731.894897, T: 731, Avg. loss: 12097700768748632402821120.000000\n",
            "Total training time: 0.00 seconds.\n",
            "-- Epoch 1\n",
            "Norm: 1260375126273.51, NNZs: 10, Bias: -601063099800.430176, T: 731, Avg. loss: 11773224577740454525665280.000000\n",
            "Total training time: 0.00 seconds.\n",
            "-- Epoch 1\n",
            "Norm: 724995126803.08, NNZs: 10, Bias: 82931231550.095001, T: 731, Avg. loss: 11532472189015224209113088.000000\n",
            "Total training time: 0.00 seconds.\n",
            "-- Epoch 1\n",
            "Norm: 853243505649.90, NNZs: 10, Bias: -76583934890.195068, T: 731, Avg. loss: 10944766284233047585849344.000000\n",
            "Total training time: 0.00 seconds.\n",
            "-- Epoch 1\n",
            "Norm: 732148185566.62, NNZs: 10, Bias: -386345340705.825195, T: 731, Avg. loss: 11428543578579916352913408.000000\n",
            "Total training time: 0.00 seconds.\n",
            "-- Epoch 1\n",
            "Norm: 941846213923.85, NNZs: 10, Bias: 15582414755.333084, T: 731, Avg. loss: 11435512685501399246569472.000000\n",
            "Total training time: 0.00 seconds.\n",
            "-- Epoch 1\n",
            "Norm: 1481504635530.29, NNZs: 10, Bias: -41300341310.704315, T: 731, Avg. loss: 11810781770157831015628800.000000\n",
            "Total training time: 0.00 seconds.\n",
            "-- Epoch 1\n",
            "Norm: 1866435937139.35, NNZs: 10, Bias: -488041056717.349182, T: 731, Avg. loss: 11426264075826984032141312.000000\n",
            "Total training time: 0.00 seconds.\n",
            "-- Epoch 1\n",
            "Norm: 1411749096277.23, NNZs: 10, Bias: -470976288096.192261, T: 731, Avg. loss: 11672061036661831412744192.000000\n",
            "Total training time: 0.00 seconds.\n",
            "-- Epoch 1\n",
            "Norm: 1729165481593.92, NNZs: 10, Bias: 148930456125.580902, T: 731, Avg. loss: 11265480255261216222478336.000000\n",
            "Total training time: 0.00 seconds.\n",
            "-- Epoch 1\n",
            "Norm: 1851658849350.38, NNZs: 10, Bias: 417771083045.389282, T: 731, Avg. loss: 11793341481005217952563200.000000\n",
            "Total training time: 0.00 seconds.\n",
            "-- Epoch 1\n",
            "Norm: 1508391569000.53, NNZs: 10, Bias: 192861119458.947754, T: 731, Avg. loss: 11641867103053946715897856.000000\n",
            "Total training time: 0.00 seconds.\n",
            "-- Epoch 1\n",
            "Norm: 1140681006427.10, NNZs: 10, Bias: 10131626593.936523, T: 731, Avg. loss: 11346721839249864983052288.000000\n",
            "Total training time: 0.00 seconds.\n",
            "-- Epoch 1\n",
            "Norm: 1250646842709.69, NNZs: 10, Bias: 190000888475.543915, T: 731, Avg. loss: 11128857384196981116633088.000000\n",
            "Total training time: 0.00 seconds.\n",
            "\n",
            "[ 2.26802220e+11  5.81280381e+11 -2.28466114e+11 -2.90221814e+11\n",
            " -3.33763491e+11 -4.09075163e+11  1.31377988e+11  7.40297350e+11\n",
            "  4.07520143e+11 -1.68084393e+11]\n"
          ],
          "name": "stdout"
        },
        {
          "output_type": "display_data",
          "data": {
            "image/png": "[encoded data removed]",
            "text/plain": [
              "<Figure size 432x288 with 1 Axes>"
            ]
          },
          "metadata": {
            "tags": []
          }
        },
        {
          "output_type": "stream",
          "text": [
            "run:  3\n",
            "a_learning_rate: 1\n",
            "-- Epoch 1\n",
            "Norm: 14623723008022.09, NNZs: 10, Bias: -4217527344468.708984, T: 731, Avg. loss: 1299695832721286674312593408.000000\n",
            "Total training time: 0.00 seconds.\n",
            "-- Epoch 1\n",
            "Norm: 12825264096535.93, NNZs: 10, Bias: 4609359045719.788086, T: 731, Avg. loss: 1382675287205347309276626944.000000\n",
            "Total training time: 0.00 seconds.\n",
            "-- Epoch 1\n",
            "Norm: 12313096744005.28, NNZs: 10, Bias: -7041880518007.788086, T: 731, Avg. loss: 1376146536854457970235277312.000000\n",
            "Total training time: 0.00 seconds.\n",
            "-- Epoch 1\n",
            "Norm: 15474921316387.04, NNZs: 10, Bias: -3308997366960.016602, T: 731, Avg. loss: 1351525920931323492601692160.000000\n",
            "Total training time: 0.00 seconds.\n",
            "-- Epoch 1\n",
            "Norm: 6908415118915.26, NNZs: 10, Bias: 1232460914495.769531, T: 731, Avg. loss: 1352402218662057533172088832.000000\n",
            "Total training time: 0.00 seconds.\n",
            "-- Epoch 1\n",
            "Norm: 12928665088485.52, NNZs: 10, Bias: -381327427949.939941, T: 731, Avg. loss: 1337982130133169494732832768.000000\n",
            "Total training time: 0.00 seconds.\n",
            "-- Epoch 1\n",
            "Norm: 8809457917039.15, NNZs: 10, Bias: 3417648344172.311523, T: 731, Avg. loss: 1347942384048969042081349632.000000\n",
            "Total training time: 0.00 seconds.\n",
            "-- Epoch 1\n",
            "Norm: 20131901156020.60, NNZs: 10, Bias: -1761797307508.642334, T: 731, Avg. loss: 1317099828848425418291675136.000000\n",
            "Total training time: 0.00 seconds.\n",
            "-- Epoch 1\n",
            "Norm: 18891708631336.93, NNZs: 10, Bias: 2021139289064.226562, T: 731, Avg. loss: 1321221899234259843730636800.000000\n",
            "Total training time: 0.00 seconds.\n",
            "-- Epoch 1\n",
            "Norm: 17312176897178.99, NNZs: 10, Bias: 4889518176897.060547, T: 731, Avg. loss: 1375250819487554999402102784.000000\n",
            "Total training time: 0.00 seconds.\n",
            "-- Epoch 1\n",
            "Norm: 16117637336718.48, NNZs: 10, Bias: 6068467728977.556641, T: 731, Avg. loss: 1344359014747966305749434368.000000\n",
            "Total training time: 0.00 seconds.\n",
            "-- Epoch 1\n",
            "Norm: 15259985155726.79, NNZs: 10, Bias: 7431337157049.406250, T: 731, Avg. loss: 1376421385864013179770634240.000000\n",
            "Total training time: 0.00 seconds.\n",
            "-- Epoch 1\n",
            "Norm: 11979889185246.19, NNZs: 10, Bias: 1474257003815.482422, T: 731, Avg. loss: 1387291135719237969472651264.000000\n",
            "Total training time: 0.00 seconds.\n",
            "-- Epoch 1\n",
            "Norm: 9425119863263.30, NNZs: 10, Bias: 7432702659223.017578, T: 731, Avg. loss: 1368720404688618795378409472.000000\n",
            "Total training time: 0.00 seconds.\n",
            "-- Epoch 1\n",
            "Norm: 11672947390709.83, NNZs: 10, Bias: 6970197403990.878906, T: 731, Avg. loss: 1389224412176921218837905408.000000\n",
            "Total training time: 0.00 seconds.\n",
            "\n",
            "[ 1.63764347e+12  2.80097876e+12 -5.53734548e+12  2.14047172e+12\n",
            " -2.09622642e+12  6.40430011e+12  4.17667678e+12 -2.15947336e+12\n",
            " -2.67472730e+12 -3.97683079e+12]\n"
          ],
          "name": "stdout"
        },
        {
          "output_type": "display_data",
          "data": {
            "image/png": "[encoded data removed]",
            "text/plain": [
              "<Figure size 432x288 with 1 Axes>"
            ]
          },
          "metadata": {
            "tags": []
          }
        }
      ]
    },
    {
      "cell_type": "markdown",
      "metadata": {
        "id": "UD4uFEh0uhL3",
        "colab_type": "text"
      },
      "source": [
        "**After we examine our data we understand from the graphs that we have less loss over epochs when our learning rate is close to 0 (and we have a lot of features) so the best a-learning_rate is 0.01 in this case.**"
      ]
    },
    {
      "cell_type": "markdown",
      "metadata": {
        "id": "wzE89BR2VXn_",
        "colab_type": "text"
      },
      "source": [
        "**We need to make the experiment 1 time for the most prominent feature temp. We will use the Stohastic Gradient Decent which makes our Regression Linear with loss function the (mean)squared_loss. We have one instance so we will use a bigger learning rate with max_iteration=1. Finally, we print our model in a graph with y axis=loss and xaxis=y-y(hat)**"
      ]
    },
    {
      "cell_type": "code",
      "metadata": {
        "id": "kRREwjlRTwnx",
        "colab_type": "code",
        "outputId": "697f4141-06a1-4ccb-c48e-0405a073e8a3",
        "colab": {
          "base_uri": "https://localhost:8080/",
          "height": 297
        }
      },
      "source": [
        "old_stdout = sys.stdout\n",
        "sys.stdout = mystdout = StringIO()\n",
        "\n",
        "a_learning_rate = 2\n",
        "max_iteration = 1\n",
        "\n",
        "sgd2 = SGDRegressor(loss=\"squared_loss\", learning_rate='constant', eta0=a_learning_rate, penalty=None, max_iter=max_iteration,\n",
        "                   average=False, random_state=2018, verbose=1)\n",
        "\n",
        "p2_sum = [] ; # this holds the sum of y-y_hat, for all instances (ok, we have only one instance)\n",
        "epochs = 15 ; # number of epochs\n",
        "\n",
        "for epoch in range(epochs):\n",
        "    model2 = sgd2.partial_fit(fX2, fy2)\n",
        "    #print(model.coef_)\n",
        "    y = model2.predict(fX2)\n",
        "    p2_sum.append(np.sum(fy2-y))\n",
        "    #print(y, fy, np.sum(fy-y))\n",
        "\n",
        "sys.stdout = old_stdout\n",
        "loss_history2 = mystdout.getvalue()\n",
        "#print(loss_history2)\n",
        "loss_list2 = []\n",
        "for line in loss_history2.split('\\n'):\n",
        "    if (len(line.split(\"loss: \")) == 1):\n",
        "        continue\n",
        "    loss_list2.append(float(line.split(\"loss: \")[-1]))\n",
        "\n",
        "plt.figure()\n",
        "plt.plot(p2_sum, loss_list2)\n",
        "plt.scatter(p2_sum, loss_list2)\n",
        "plt.scatter(p2_sum[:1], loss_list2[:1], color='red')\n",
        "plt.xlabel(\"$y-\\hat{y}$\")\n",
        "plt.ylabel(\"Loss\")\n",
        "plt.show()\n"
      ],
      "execution_count": 13,
      "outputs": [
        {
          "output_type": "display_data",
          "data": {
            "image/png": "[encoded data removed]",
            "text/plain": [
              "<Figure size 432x288 with 1 Axes>"
            ]
          },
          "metadata": {
            "tags": []
          }
        }
      ]
    }
  ]
}