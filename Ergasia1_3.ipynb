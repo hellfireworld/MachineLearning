{
  "nbformat": 4,
  "nbformat_minor": 0,
  "metadata": {
    "colab": {
      "name": "Ergasia1_3.ipynb",
      "provenance": [],
      "collapsed_sections": [],
      "include_colab_link": true
    },
    "kernelspec": {
      "name": "python3",
      "display_name": "Python 3"
    }
  },
  "cells": [
    {
      "cell_type": "markdown",
      "metadata": {
        "id": "view-in-github",
        "colab_type": "text"
      },
      "source": [
        "<a href=\"https://colab.research.google.com/github/hellfireworld/MachineLearning/blob/master/Ergasia1_3.ipynb\" target=\"_parent\"><img src=\"https://colab.research.google.com/assets/colab-badge.svg\" alt=\"Open In Colab\"/></a>"
      ]
    },
    {
      "cell_type": "markdown",
      "metadata": {
        "id": "XX6pqYAtWbkD",
        "colab_type": "text"
      },
      "source": [
        "**Import essential libraries.**"
      ]
    },
    {
      "cell_type": "code",
      "metadata": {
        "id": "3SeXco5lk09N",
        "colab_type": "code",
        "colab": {}
      },
      "source": [
        "from sklearn.linear_model import SGDClassifier, SGDRegressor\n",
        "import sys\n",
        "import io\n",
        "from io import StringIO\n",
        "import matplotlib.pyplot as plt\n",
        "import numpy as np\n",
        "import pandas\n",
        "from sklearn import metrics\n",
        "from sklearn.model_selection import KFold\n",
        "from google.colab import files"
      ],
      "execution_count": 0,
      "outputs": []
    },
    {
      "cell_type": "markdown",
      "metadata": {
        "id": "i1NRVMBDWk8p",
        "colab_type": "text"
      },
      "source": [
        "**Import day.csv file with GOOGLE_COLAB**"
      ]
    },
    {
      "cell_type": "code",
      "metadata": {
        "id": "IqB5k6Fck-Un",
        "colab_type": "code",
        "outputId": "6d287afa-1447-42fa-f22d-02d964869912",
        "colab": {
          "resources": {
            "http://localhost:8080/nbextensions/google.colab/files.js": {
              "data": "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",
              "ok": true,
              "headers": [
                [
                  "content-type",
                  "application/javascript"
                ]
              ],
              "status": 200,
              "status_text": "OK"
            }
          },
          "base_uri": "https://localhost:8080/",
          "height": 77
        }
      },
      "source": [
        "uploaded = files.upload()"
      ],
      "execution_count": 0,
      "outputs": [
        {
          "output_type": "display_data",
          "data": {
            "text/html": [
              "\n",
              "     <input type=\"file\" id=\"files-e0511f68-9856-448b-a5d7-92ec89dddb25\" name=\"files[]\" multiple disabled />\n",
              "     <output id=\"result-e0511f68-9856-448b-a5d7-92ec89dddb25\">\n",
              "      Upload widget is only available when the cell has been executed in the\n",
              "      current browser session. Please rerun this cell to enable.\n",
              "      </output>\n",
              "      <script src=\"/nbextensions/google.colab/files.js\"></script> "
            ],
            "text/plain": [
              "<IPython.core.display.HTML object>"
            ]
          },
          "metadata": {
            "tags": []
          }
        },
        {
          "output_type": "stream",
          "text": [
            "Saving day.csv to day.csv\n"
          ],
          "name": "stdout"
        }
      ]
    },
    {
      "cell_type": "code",
      "metadata": {
        "id": "gG8wkPfflAzt",
        "colab_type": "code",
        "outputId": "5661ea63-dde5-4956-cabe-f7254fee7b26",
        "colab": {
          "base_uri": "https://localhost:8080/",
          "height": 35
        }
      },
      "source": [
        "for fn in uploaded.keys():\n",
        "  print('User uploaded file \"{name}\" with length {length} bytes'.format(\n",
        "      name=fn, length=len(uploaded[fn])))"
      ],
      "execution_count": 0,
      "outputs": [
        {
          "output_type": "stream",
          "text": [
            "User uploaded file \"day.csv\" with length 56806 bytes\n"
          ],
          "name": "stdout"
        }
      ]
    },
    {
      "cell_type": "markdown",
      "metadata": {
        "id": "ZiVnMcAJWnrY",
        "colab_type": "text"
      },
      "source": [
        "**Test if day.csv is loaded by removing comment '#' below**"
      ]
    },
    {
      "cell_type": "code",
      "metadata": {
        "id": "6pBSZTrdlFIn",
        "colab_type": "code",
        "colab": {}
      },
      "source": [
        "#uploaded"
      ],
      "execution_count": 0,
      "outputs": []
    },
    {
      "cell_type": "markdown",
      "metadata": {
        "id": "80vXR80nWvhy",
        "colab_type": "text"
      },
      "source": [
        "**Define df variable as day.csv using pandas library.\n",
        "Read a comma-separated values (csv) file into DataFrame.**"
      ]
    },
    {
      "cell_type": "code",
      "metadata": {
        "id": "xIZ0T8XxlGyO",
        "colab_type": "code",
        "colab": {}
      },
      "source": [
        "df = pandas.read_csv(io.StringIO(uploaded['day.csv'].decode('utf-8')))"
      ],
      "execution_count": 0,
      "outputs": []
    },
    {
      "cell_type": "markdown",
      "metadata": {
        "id": "GXeN6p2RjEsN",
        "colab_type": "text"
      },
      "source": [
        "**Select all the data from the necessary features to have a good model and store them in X variable.**"
      ]
    },
    {
      "cell_type": "markdown",
      "metadata": {
        "id": "dXVs5e6Ljx71",
        "colab_type": "text"
      },
      "source": [
        "**Select the most prominent feature and store it in X2 variable.**"
      ]
    },
    {
      "cell_type": "markdown",
      "metadata": {
        "id": "z-wvzflBj2xr",
        "colab_type": "text"
      },
      "source": [
        "**Store the data of target_variable(cnt) in y variable.**"
      ]
    },
    {
      "cell_type": "code",
      "metadata": {
        "id": "mNu4nsDnlT4t",
        "colab_type": "code",
        "outputId": "f0a2cc3a-4c40-49d7-9ce6-470d4329e6f0",
        "colab": {
          "base_uri": "https://localhost:8080/",
          "height": 374
        }
      },
      "source": [
        "X = df[['season', 'yr', 'mnth', 'holiday', 'weekday', 'workingday', 'weathersit', 'temp', 'atemp', 'hum']]\n",
        "X2 = df[['temp']]\n",
        "y = df['cnt']\n",
        "print(X.head())\n",
        "print(y.head())\n",
        "\n",
        "labels = [\"few\", \"many\"] # binary classification few -> 0 and many -> 1\n",
        "y_categorical = pandas.cut(y, 2, labels=labels)\n",
        "print(y_categorical.head())\n",
        "\n"
      ],
      "execution_count": 13,
      "outputs": [
        {
          "output_type": "stream",
          "text": [
            "   season  yr  mnth  holiday  ...  weathersit      temp     atemp       hum\n",
            "0       1   0     1        0  ...           2  0.344167  0.363625  0.805833\n",
            "1       1   0     1        0  ...           2  0.363478  0.353739  0.696087\n",
            "2       1   0     1        0  ...           1  0.196364  0.189405  0.437273\n",
            "3       1   0     1        0  ...           1  0.200000  0.212122  0.590435\n",
            "4       1   0     1        0  ...           1  0.226957  0.229270  0.436957\n",
            "\n",
            "[5 rows x 10 columns]\n",
            "0     985\n",
            "1     801\n",
            "2    1349\n",
            "3    1562\n",
            "4    1600\n",
            "Name: cnt, dtype: int64\n",
            "0    few\n",
            "1    few\n",
            "2    few\n",
            "3    few\n",
            "4    few\n",
            "Name: cnt, dtype: category\n",
            "Categories (2, object): [few < many]\n"
          ],
          "name": "stdout"
        }
      ]
    },
    {
      "cell_type": "markdown",
      "metadata": {
        "id": "wZbAZusEjBye",
        "colab_type": "text"
      },
      "source": [
        "**Explore y_categorical.**"
      ]
    },
    {
      "cell_type": "code",
      "metadata": {
        "id": "q1nmnXnPhKEB",
        "colab_type": "code",
        "colab": {
          "base_uri": "https://localhost:8080/",
          "height": 102
        },
        "outputId": "25779248-a617-4167-de28-b8d9e7165975"
      },
      "source": [
        "######### y_categorical_array -> few or many ################################\n",
        "count_few = 0\n",
        "count_many = 0\n",
        "for i in range(731):\n",
        "    #print('y_categorical[%d] : '%(i), y_categorical[i])\n",
        "    if (y_categorical[i] == \"many\"):\n",
        "        count_many += 1\n",
        "    elif(y_categorical[i] == \"few\"):\n",
        "        count_few += 1\n",
        "print('few counted: %d' % count_few)\n",
        "print('many counted: %d' % count_many)\n",
        "if count_many > count_few:\n",
        "    print('\\n', 'The cyclists in dataset are many', '\\n')\n",
        "elif count_many < count_few:\n",
        "    print('\\n', 'The cyclists in dataset are few', '\\n')\n",
        "#############################################################################"
      ],
      "execution_count": 14,
      "outputs": [
        {
          "output_type": "stream",
          "text": [
            "few counted: 341\n",
            "many counted: 390\n",
            "\n",
            " The cyclists in dataset are many \n",
            "\n"
          ],
          "name": "stdout"
        }
      ]
    },
    {
      "cell_type": "markdown",
      "metadata": {
        "id": "LGV63eeii_zO",
        "colab_type": "text"
      },
      "source": [
        "**Reassign X in X_main variable and y_categorical in y_class.**"
      ]
    },
    {
      "cell_type": "markdown",
      "metadata": {
        "id": "06BvqiqykPAT",
        "colab_type": "text"
      },
      "source": [
        "**Set 1 instance(n=1) and store 1 instance from (X2)the most prominent feature in fx2 variable and 1 instance from y_categorical in fy2.**"
      ]
    },
    {
      "cell_type": "code",
      "metadata": {
        "id": "n4O4vyhthRjB",
        "colab_type": "code",
        "colab": {}
      },
      "source": [
        "#for all the features\n",
        "X_main = X.values\n",
        "y_class = y_categorical.values\n",
        "\n",
        "#for the most prominent feature\n",
        "n = 1 ;# number of instances to keep\n",
        "fX2 = X2[:n].values\n",
        "fy2 = y_categorical[:n].values"
      ],
      "execution_count": 0,
      "outputs": []
    },
    {
      "cell_type": "markdown",
      "metadata": {
        "id": "CECSBwITmrfu",
        "colab_type": "text"
      },
      "source": [
        "**We set the learning rate close to 0 learning_rate_1=0.01 because we have a lot of data and we will use a lot of features for X.**"
      ]
    },
    {
      "cell_type": "markdown",
      "metadata": {
        "id": "jZ8SlyMKi9dh",
        "colab_type": "text"
      },
      "source": [
        "**We will use Stohastic Gradient Descent with 2 different loss functions but the most optimized way to reach a global minimum is the log as loss function(the second one).**"
      ]
    },
    {
      "cell_type": "markdown",
      "metadata": {
        "id": "OYHeP2nRnV02",
        "colab_type": "text"
      },
      "source": [
        "**We will use kfold for cross_validation and we will split the data in 15 pieces, 14 for training and 1 for validation**"
      ]
    },
    {
      "cell_type": "markdown",
      "metadata": {
        "id": "2IHM-fPKnllT",
        "colab_type": "text"
      },
      "source": [
        "**In every run we will use metrics.accuracy_score to store the accuracies of train in acc_train and the accuracies of test in acc_test.**"
      ]
    },
    {
      "cell_type": "markdown",
      "metadata": {
        "id": "hnmxpS9Bn9_8",
        "colab_type": "text"
      },
      "source": [
        "**We prefer the log as loss function in Logistic Regression because it's more convex function than (mean)squared_loss and it's more guaranteed to reach a global minimum.**"
      ]
    },
    {
      "cell_type": "code",
      "metadata": {
        "id": "eo6Fzc57hVTx",
        "colab_type": "code",
        "colab": {
          "base_uri": "https://localhost:8080/",
          "height": 1000
        },
        "outputId": "89dcd3ee-7740-4450-b6f8-0f910efb1cd4"
      },
      "source": [
        "##### for all the features #####################################################\n",
        "learning_rate_1 = 0.01\n",
        "\n",
        "sgd  = SGDClassifier(loss=\"squared_loss\", learning_rate='constant', eta0=learning_rate_1, penalty=None, max_iter=1,\n",
        "                     average=False, random_state=2018, verbose=1)\n",
        "sgd2 = SGDClassifier(loss=\"log\", learning_rate='constant', eta0=learning_rate_1, penalty=None, max_iter=1,\n",
        "                     average=False, random_state=2018, verbose=1)\n",
        "\n",
        "kf = KFold(n_splits=15, shuffle=False, random_state=None)\n",
        "\n",
        "#We don't often use squared_loss as loss function in Logistic Regression because it's not a convex function and it's not guaranteed to reach global minimum\n",
        "print('\\n', 'Loss Function - Squared_Loss')\n",
        "print('\\n We do not prefer to use the squared_loss as a loss function for Logistic Regression')\n",
        "for train_index, test_index in kf.split(X_main):\n",
        "    X_train, X_test = X_main[train_index], X_main[test_index]\n",
        "    y_train, y_test = y_class[train_index], y_class[test_index]\n",
        "    model  = sgd.partial_fit(X_train, y_train, classes=labels)\n",
        "    y_pred1 = model.predict(X_train)\n",
        "    acc_train = metrics.accuracy_score(y_train, y_pred1)\n",
        "    y_pred2 = model.predict(X_test)\n",
        "    acc_test = metrics.accuracy_score(y_test, y_pred2)\n",
        "    print('acc_train:', acc_train)\n",
        "    print('acc_test:', acc_test)\n",
        "    #print(model.coef_)\n",
        "print('\\n')\n",
        "#We prefer to use log as loss function in Logistic Regression because it's a convex function and it can reach global minimum\n",
        "print('\\n', 'Loss Function - Log:')\n",
        "print('\\n We prefer to use the log as a loss function for Logistic Regression')\n",
        "for train_index, test_index in kf.split(X_main):\n",
        "    X_train, X_test = X_main[train_index], X_main[test_index]\n",
        "    y_train, y_test = y_class[train_index], y_class[test_index]\n",
        "    model2 = sgd2.partial_fit(X_train, y_train, classes=labels)\n",
        "    y2_pred1 = model2.predict(X_train)\n",
        "    acc_train2 = metrics.accuracy_score(y_train, y2_pred1)\n",
        "    y2_pred2 = model2.predict(X_test)\n",
        "    acc_test2 = metrics.accuracy_score(y_test, y2_pred2)\n",
        "    print('acc_train2:', acc_train2)\n",
        "    print('acc_test2:', acc_test2)\n",
        "    #print(model2.coef_)\n"
      ],
      "execution_count": 16,
      "outputs": [
        {
          "output_type": "stream",
          "text": [
            "\n",
            " Loss Function - Squared_Loss\n",
            "\n",
            " We do not prefer to use the squared_loss as a loss function for Logistic Regression\n",
            "-- Epoch 1\n",
            "Norm: 0.89, NNZs: 10, Bias: -0.136381, T: 682, Avg. loss: 0.700202\n",
            "Total training time: 0.00 seconds.\n",
            "acc_train: 0.750733137829912\n",
            "acc_test: 0.8571428571428571\n",
            "-- Epoch 1\n",
            "Norm: 1.18, NNZs: 10, Bias: -0.298491, T: 682, Avg. loss: 0.579962\n",
            "Total training time: 0.00 seconds.\n",
            "acc_train: 0.782991202346041\n",
            "acc_test: 0.8571428571428571\n",
            "-- Epoch 1\n",
            "Norm: 1.38, NNZs: 10, Bias: -0.489364, T: 682, Avg. loss: 0.521756\n",
            "Total training time: 0.00 seconds.\n",
            "acc_train: 0.8093841642228738\n",
            "acc_test: 0.7551020408163265\n",
            "-- Epoch 1\n",
            "Norm: 1.51, NNZs: 10, Bias: -0.690933, T: 682, Avg. loss: 0.481031\n",
            "Total training time: 0.00 seconds.\n",
            "acc_train: 0.8152492668621701\n",
            "acc_test: 0.6326530612244898\n",
            "-- Epoch 1\n",
            "Norm: 1.64, NNZs: 10, Bias: -0.794018, T: 682, Avg. loss: 0.438514\n",
            "Total training time: 0.00 seconds.\n",
            "acc_train: 0.8269794721407625\n",
            "acc_test: 0.5918367346938775\n",
            "-- Epoch 1\n",
            "Norm: 1.76, NNZs: 10, Bias: -0.908826, T: 682, Avg. loss: 0.430954\n",
            "Total training time: 0.00 seconds.\n",
            "acc_train: 0.7859237536656891\n",
            "acc_test: 0.6122448979591837\n",
            "-- Epoch 1\n",
            "Norm: 1.73, NNZs: 10, Bias: -1.035956, T: 682, Avg. loss: 0.414663\n",
            "Total training time: 0.00 seconds.\n",
            "acc_train: 0.7214076246334311\n",
            "acc_test: 0.9387755102040817\n",
            "-- Epoch 1\n",
            "Norm: 1.85, NNZs: 10, Bias: -1.037491, T: 682, Avg. loss: 0.447621\n",
            "Total training time: 0.00 seconds.\n",
            "acc_train: 0.6730205278592375\n",
            "acc_test: 0.9795918367346939\n",
            "-- Epoch 1\n",
            "Norm: 1.93, NNZs: 10, Bias: -1.070186, T: 682, Avg. loss: 0.442551\n",
            "Total training time: 0.00 seconds.\n",
            "acc_train: 0.6524926686217009\n",
            "acc_test: 0.8775510204081632\n",
            "-- Epoch 1\n",
            "Norm: 1.97, NNZs: 10, Bias: -1.158392, T: 682, Avg. loss: 0.457701\n",
            "Total training time: 0.00 seconds.\n",
            "acc_train: 0.5527859237536656\n",
            "acc_test: 0.16326530612244897\n",
            "-- Epoch 1\n",
            "Norm: 2.05, NNZs: 10, Bias: -1.171982, T: 682, Avg. loss: 0.473451\n",
            "Total training time: 0.00 seconds.\n",
            "acc_train: 0.5601173020527859\n",
            "acc_test: 0.32653061224489793\n",
            "-- Epoch 1\n",
            "Norm: 2.12, NNZs: 10, Bias: -1.260584, T: 683, Avg. loss: 0.456307\n",
            "Total training time: 0.00 seconds.\n",
            "acc_train: 0.5109809663250366\n",
            "acc_test: 0.375\n",
            "-- Epoch 1\n",
            "Norm: 2.13, NNZs: 10, Bias: -1.353011, T: 683, Avg. loss: 0.446418\n",
            "Total training time: 0.00 seconds.\n",
            "acc_train: 0.5373352855051244\n",
            "acc_test: 0.020833333333333332\n",
            "-- Epoch 1\n",
            "Norm: 2.17, NNZs: 10, Bias: -1.415146, T: 683, Avg. loss: 0.402700\n",
            "Total training time: 0.00 seconds.\n",
            "acc_train: 0.5373352855051244\n",
            "acc_test: 0.08333333333333333\n",
            "-- Epoch 1\n",
            "Norm: 2.26, NNZs: 10, Bias: -1.441680, T: 683, Avg. loss: 0.366331\n",
            "Total training time: 0.00 seconds.\n",
            "acc_train: 0.48755490483162517\n",
            "acc_test: 0.3958333333333333\n",
            "\n",
            "\n",
            "\n",
            " Loss Function - Log:\n",
            "\n",
            " We prefer to use the log as a loss function for Logistic Regression\n",
            "-- Epoch 1\n",
            "Norm: 0.87, NNZs: 10, Bias: -0.063512, T: 682, Avg. loss: 0.657545\n",
            "Total training time: 0.00 seconds.\n",
            "acc_train2: 0.7008797653958945\n",
            "acc_test2: 0.5510204081632653\n",
            "-- Epoch 1\n",
            "Norm: 1.44, NNZs: 10, Bias: -0.153667, T: 682, Avg. loss: 0.576761\n",
            "Total training time: 0.00 seconds.\n",
            "acc_train2: 0.7375366568914956\n",
            "acc_test2: 0.7755102040816326\n",
            "-- Epoch 1\n",
            "Norm: 1.90, NNZs: 10, Bias: -0.281444, T: 682, Avg. loss: 0.519018\n",
            "Total training time: 0.00 seconds.\n",
            "acc_train2: 0.7697947214076246\n",
            "acc_test2: 0.673469387755102\n",
            "-- Epoch 1\n",
            "Norm: 2.27, NNZs: 10, Bias: -0.421442, T: 682, Avg. loss: 0.481926\n",
            "Total training time: 0.00 seconds.\n",
            "acc_train2: 0.782991202346041\n",
            "acc_test2: 0.46938775510204084\n",
            "-- Epoch 1\n",
            "Norm: 2.56, NNZs: 10, Bias: -0.520351, T: 682, Avg. loss: 0.463115\n",
            "Total training time: 0.00 seconds.\n",
            "acc_train2: 0.7727272727272727\n",
            "acc_test2: 0.5714285714285714\n",
            "-- Epoch 1\n",
            "Norm: 2.81, NNZs: 10, Bias: -0.612845, T: 682, Avg. loss: 0.457368\n",
            "Total training time: 0.00 seconds.\n",
            "acc_train2: 0.7727272727272727\n",
            "acc_test2: 0.7551020408163265\n",
            "-- Epoch 1\n",
            "Norm: 2.98, NNZs: 10, Bias: -0.764037, T: 682, Avg. loss: 0.439950\n",
            "Total training time: 0.00 seconds.\n",
            "acc_train2: 0.7888563049853372\n",
            "acc_test2: 0.20408163265306123\n",
            "-- Epoch 1\n",
            "Norm: 3.17, NNZs: 10, Bias: -0.806181, T: 682, Avg. loss: 0.453258\n",
            "Total training time: 0.00 seconds.\n",
            "acc_train2: 0.8005865102639296\n",
            "acc_test2: 0.5714285714285714\n",
            "-- Epoch 1\n",
            "Norm: 3.36, NNZs: 10, Bias: -0.874697, T: 682, Avg. loss: 0.436161\n",
            "Total training time: 0.00 seconds.\n",
            "acc_train2: 0.8225806451612904\n",
            "acc_test2: 0.5102040816326531\n",
            "-- Epoch 1\n",
            "Norm: 3.48, NNZs: 10, Bias: -1.039432, T: 682, Avg. loss: 0.455646\n",
            "Total training time: 0.00 seconds.\n",
            "acc_train2: 0.7873900293255132\n",
            "acc_test2: 0.8571428571428571\n",
            "-- Epoch 1\n",
            "Norm: 3.61, NNZs: 10, Bias: -1.155020, T: 682, Avg. loss: 0.450975\n",
            "Total training time: 0.00 seconds.\n",
            "acc_train2: 0.782991202346041\n",
            "acc_test2: 0.9183673469387755\n",
            "-- Epoch 1\n",
            "Norm: 3.72, NNZs: 10, Bias: -1.272488, T: 683, Avg. loss: 0.462161\n",
            "Total training time: 0.00 seconds.\n",
            "acc_train2: 0.7628111273792094\n",
            "acc_test2: 0.9791666666666666\n",
            "-- Epoch 1\n",
            "Norm: 3.82, NNZs: 10, Bias: -1.377441, T: 683, Avg. loss: 0.451215\n",
            "Total training time: 0.00 seconds.\n",
            "acc_train2: 0.7525622254758418\n",
            "acc_test2: 0.9583333333333334\n",
            "-- Epoch 1\n",
            "Norm: 3.93, NNZs: 10, Bias: -1.469580, T: 683, Avg. loss: 0.438680\n",
            "Total training time: 0.00 seconds.\n",
            "acc_train2: 0.7715959004392386\n",
            "acc_test2: 0.8541666666666666\n",
            "-- Epoch 1\n",
            "Norm: 4.05, NNZs: 10, Bias: -1.555088, T: 683, Avg. loss: 0.414780\n",
            "Total training time: 0.00 seconds.\n",
            "acc_train2: 0.8155197657393851\n",
            "acc_test2: 0.8333333333333334\n"
          ],
          "name": "stdout"
        }
      ]
    },
    {
      "cell_type": "markdown",
      "metadata": {
        "id": "nilpRFjOo63q",
        "colab_type": "text"
      },
      "source": [
        "**The last exercise needs us to plot the loss with respect to (y-y[hat]) for one of the two prominent features selected in step a**"
      ]
    },
    {
      "cell_type": "markdown",
      "metadata": {
        "id": "B-AzXT0hpK2A",
        "colab_type": "text"
      },
      "source": [
        "**Because we use fx2,fy2 that store only one instance of X and y_categorical we will use a bigger learning rate, learning_rate_2=2.**"
      ]
    },
    {
      "cell_type": "markdown",
      "metadata": {
        "id": "o-tTVkbypZTn",
        "colab_type": "text"
      },
      "source": [
        "Because we need to plot the loss over epochs "
      ]
    },
    {
      "cell_type": "code",
      "metadata": {
        "id": "CRr0C08shD3T",
        "colab_type": "code",
        "colab": {
          "base_uri": "https://localhost:8080/",
          "height": 623
        },
        "outputId": "ac3271ad-24b3-474a-ab04-9b5b1f5f26dc"
      },
      "source": [
        "################# for the most_prominent feature ############################\n",
        "print('\\n', 'for the most_prominent feature ')\n",
        "old_stdout2 = sys.stdout\n",
        "sys.stdout = mystdout2 = StringIO()\n",
        "\n",
        "learning_rate_2 = 2\n",
        "\n",
        "sgd3  = SGDClassifier(loss=\"squared_loss\", learning_rate='constant', eta0=learning_rate_2, penalty=None, max_iter=1,\n",
        "                     average=False, random_state=2018, verbose=1)\n",
        "sgd4 = SGDClassifier(loss=\"log\", learning_rate='constant', eta0=learning_rate_2, penalty=None, max_iter=1,\n",
        "                     average=False, random_state=2018, verbose=1)\n",
        "\n",
        "p3_sum  = [] ;# this holds the sum of y-y_hat, for all instances (ok, we have only one instance)\n",
        "p4_sum = []\n",
        "epochs = 15 ;# number of epochs\n",
        "\n",
        "for epoch in range(epochs):\n",
        "    model3  = sgd3.partial_fit(fX2, fy2, classes=labels)\n",
        "    model4 = sgd4.partial_fit(fX2, fy2, classes=labels)\n",
        "    #print(model.coef_)\n",
        "    y3  = model3.predict(fX2)\n",
        "    p3  = model3.decision_function(fX2)\n",
        "    c3  = (1 - np.mean(y3 == fy2))\n",
        "    p3_sum.append(p3)\n",
        "    y4 = model4.predict(fX2)\n",
        "    p4 = model4.decision_function(fX2)\n",
        "    c4 = (1 - np.mean(y4 == fy2))\n",
        "    p4_sum.append(p4)\n",
        "    #p3 = model.predict_proba(fX2)\n",
        "    #print(y3, y4, fy2, c3, c4, p3, p4)\n",
        "    #p3_sum.append(np.sum(fy2-y))\n",
        "\n",
        "sys.stdout = old_stdout2\n",
        "loss_history2 = mystdout2.getvalue()\n",
        "# print(loss_history)\n",
        "loss_list3 = []\n",
        "loss2_list4 = []\n",
        "use_first2 = True\n",
        "for line in loss_history2.split('\\n'):\n",
        "    if (len(line.split(\"loss: \")) == 1):\n",
        "        continue\n",
        "    if use_first2:\n",
        "        loss_list3.append(float(line.split(\"loss: \")[-1]))\n",
        "    else:\n",
        "        loss2_list4.append(float(line.split(\"loss: \")[-1]))\n",
        "    use_first2 = not use_first2\n",
        "print('model3: ', model3.coef_)\n",
        "print('model4: ', model4.coef_)\n",
        "\n",
        "#########################  For one of the two prominent features selected in step a), plot the loss with respect to (y-y[hat])################################\n",
        "plt.figure()\n",
        "plt.plot(p3_sum, loss_list3)\n",
        "plt.scatter(p3_sum, loss_list3)\n",
        "plt.scatter(p3_sum[:1], loss_list3[:1], color='red')\n",
        "plt.xlabel(\"$y-\\hat{y}$\")\n",
        "plt.ylabel(\"Loss\")\n",
        "plt.show()\n",
        "plt.figure()\n",
        "plt.plot(p4_sum, loss2_list4)\n",
        "plt.scatter(p4_sum, loss2_list4)\n",
        "plt.scatter(p4_sum[:1], loss2_list4[:1], color='red')\n",
        "plt.xlabel(\"$y-\\hat{y}$\")\n",
        "plt.ylabel(\"Loss\")\n",
        "plt.show()"
      ],
      "execution_count": 17,
      "outputs": [
        {
          "output_type": "stream",
          "text": [
            "\n",
            " for the most_prominent feature \n",
            "model3:  [[-7.77531449]]\n",
            "model4:  [[-1.09013377]]\n"
          ],
          "name": "stdout"
        },
        {
          "output_type": "display_data",
          "data": {
            "image/png": "[encoded data removed]",
            "text/plain": [
              "<Figure size 432x288 with 1 Axes>"
            ]
          },
          "metadata": {
            "tags": []
          }
        },
        {
          "output_type": "display_data",
          "data": {
            "image/png": "[encoded data removed]",
            "text/plain": [
              "<Figure size 432x288 with 1 Axes>"
            ]
          },
          "metadata": {
            "tags": []
          }
        }
      ]
    }
  ]
}