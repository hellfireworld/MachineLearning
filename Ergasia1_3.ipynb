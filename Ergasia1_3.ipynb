{
  "nbformat": 4,
  "nbformat_minor": 0,
  "metadata": {
    "colab": {
      "name": "Ergasia1_3.ipynb",
      "provenance": [],
      "collapsed_sections": [],
      "include_colab_link": true
    },
    "kernelspec": {
      "name": "python3",
      "display_name": "Python 3"
    }
  },
  "cells": [
    {
      "cell_type": "markdown",
      "metadata": {
        "id": "view-in-github",
        "colab_type": "text"
      },
      "source": [
        "<a href=\"https://colab.research.google.com/github/hellfireworld/MachineLearning/blob/master/Ergasia1_3.ipynb\" target=\"_parent\"><img src=\"https://colab.research.google.com/assets/colab-badge.svg\" alt=\"Open In Colab\"/></a>"
      ]
    },
    {
      "cell_type": "markdown",
      "metadata": {
        "id": "XX6pqYAtWbkD",
        "colab_type": "text"
      },
      "source": [
        "**Import essential libraries.**"
      ]
    },
    {
      "cell_type": "code",
      "metadata": {
        "id": "3SeXco5lk09N",
        "colab_type": "code",
        "colab": {}
      },
      "source": [
        "from sklearn.linear_model import SGDClassifier, SGDRegressor\n",
        "import sys\n",
        "import io\n",
        "from io import StringIO\n",
        "import matplotlib.pyplot as plt\n",
        "import numpy as np\n",
        "import pandas\n",
        "from google.colab import files"
      ],
      "execution_count": 0,
      "outputs": []
    },
    {
      "cell_type": "markdown",
      "metadata": {
        "id": "i1NRVMBDWk8p",
        "colab_type": "text"
      },
      "source": [
        "**Import day.csv file with GOOGLE_COLAB**"
      ]
    },
    {
      "cell_type": "code",
      "metadata": {
        "id": "IqB5k6Fck-Un",
        "colab_type": "code",
        "outputId": "2cacad18-373b-43dd-bc0f-5e247020fd58",
        "colab": {
          "resources": {
            "http://localhost:8080/nbextensions/google.colab/files.js": {
              "data": "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",
              "ok": true,
              "headers": [
                [
                  "content-type",
                  "application/javascript"
                ]
              ],
              "status": 200,
              "status_text": "OK"
            }
          },
          "base_uri": "https://localhost:8080/",
          "height": 77
        }
      },
      "source": [
        "uploaded = files.upload()"
      ],
      "execution_count": 0,
      "outputs": [
        {
          "output_type": "display_data",
          "data": {
            "text/html": [
              "\n",
              "     <input type=\"file\" id=\"files-7aef2173-db44-4b3e-b661-c11cff4af1fa\" name=\"files[]\" multiple disabled />\n",
              "     <output id=\"result-7aef2173-db44-4b3e-b661-c11cff4af1fa\">\n",
              "      Upload widget is only available when the cell has been executed in the\n",
              "      current browser session. Please rerun this cell to enable.\n",
              "      </output>\n",
              "      <script src=\"/nbextensions/google.colab/files.js\"></script> "
            ],
            "text/plain": [
              "<IPython.core.display.HTML object>"
            ]
          },
          "metadata": {
            "tags": []
          }
        },
        {
          "output_type": "stream",
          "text": [
            "Saving day.csv to day.csv\n"
          ],
          "name": "stdout"
        }
      ]
    },
    {
      "cell_type": "code",
      "metadata": {
        "id": "gG8wkPfflAzt",
        "colab_type": "code",
        "outputId": "2a1cec32-bbe8-4d48-888b-3c947cea1e92",
        "colab": {
          "base_uri": "https://localhost:8080/",
          "height": 35
        }
      },
      "source": [
        "for fn in uploaded.keys():\n",
        "  print('User uploaded file \"{name}\" with length {length} bytes'.format(\n",
        "      name=fn, length=len(uploaded[fn])))"
      ],
      "execution_count": 0,
      "outputs": [
        {
          "output_type": "stream",
          "text": [
            "User uploaded file \"day.csv\" with length 56806 bytes\n"
          ],
          "name": "stdout"
        }
      ]
    },
    {
      "cell_type": "markdown",
      "metadata": {
        "id": "ZiVnMcAJWnrY",
        "colab_type": "text"
      },
      "source": [
        "**Test if day.csv is loaded by removing comment '#' below**"
      ]
    },
    {
      "cell_type": "code",
      "metadata": {
        "id": "6pBSZTrdlFIn",
        "colab_type": "code",
        "colab": {}
      },
      "source": [
        "#uploaded"
      ],
      "execution_count": 0,
      "outputs": []
    },
    {
      "cell_type": "markdown",
      "metadata": {
        "id": "80vXR80nWvhy",
        "colab_type": "text"
      },
      "source": [
        "**Define df variable as day.csv using pandas library.\n",
        "Read a comma-separated values (csv) file into DataFrame.**"
      ]
    },
    {
      "cell_type": "code",
      "metadata": {
        "id": "xIZ0T8XxlGyO",
        "colab_type": "code",
        "colab": {}
      },
      "source": [
        "df = pandas.read_csv(io.StringIO(uploaded['day.csv'].decode('utf-8')))"
      ],
      "execution_count": 0,
      "outputs": []
    },
    {
      "cell_type": "code",
      "metadata": {
        "id": "mNu4nsDnlT4t",
        "colab_type": "code",
        "outputId": "0537439d-f5fb-4d82-b473-a4ea0ebc52c8",
        "colab": {
          "base_uri": "https://localhost:8080/",
          "height": 1000
        }
      },
      "source": [
        "X = df[['season', 'yr', 'mnth', 'holiday', 'weekday', 'workingday', 'weathersit', 'temp', 'atemp', 'hum']]\n",
        "X2 = df[['temp']]\n",
        "y = df['cnt']\n",
        "print(X.head())\n",
        "print(y.head())\n",
        "\n",
        "labels = [\"few\", \"many\"] # binary classification few -> 0 and many -> 1\n",
        "y_categorical = pandas.cut(y, 2, labels=labels)\n",
        "print(y_categorical.head())\n",
        "\n",
        "######### y_categorical_array -> few or many################################\n",
        "count_few = 0\n",
        "count_many = 0\n",
        "for i in range(731):\n",
        "    #print('y_categorical[%d] : '%(i), y_categorical[i])\n",
        "    if (y_categorical[i] == \"many\"):\n",
        "        count_many += 1\n",
        "    elif(y_categorical[i] == \"few\"):\n",
        "        count_few += 1\n",
        "print('few counted: %d' % count_few)\n",
        "print('many counted: %d' % count_many)\n",
        "if count_many > count_few:\n",
        "    print('\\n', 'The cyclists in dataset are many', '\\n')\n",
        "elif count_many < count_few:\n",
        "    print('\\n', 'The cyclists in dataset are few', '\\n')\n",
        "#########################################################\n",
        "\n",
        "old_stdout = sys.stdout\n",
        "sys.stdout = mystdout = StringIO()\n",
        "\n",
        "#for all the features\n",
        "fX = X.values\n",
        "fy = y_categorical.values\n",
        "\n",
        "#for the most prominent feature\n",
        "n = 1 ;# number of instances to keep\n",
        "fX2 = X2[:n].values\n",
        "fy2 = y_categorical[:n].values\n",
        "\n",
        "#for all the features\n",
        "learning_rate = 0.01\n",
        "\n",
        "sgd  = SGDClassifier(loss=\"squared_loss\", learning_rate='constant', eta0=learning_rate, penalty=None, max_iter=1,\n",
        "                     average=False, random_state=2018, verbose=1)\n",
        "sgd2 = SGDClassifier(loss=\"log\", learning_rate='constant', eta0=learning_rate, penalty=None, max_iter=1,\n",
        "                     average=False, random_state=2018, verbose=1)\n",
        "\n",
        "p_sum  = [] ;# this holds the sum of y-y_hat, for all instances\n",
        "p2_sum = []\n",
        "epochs = 15 ;# number of epochs\n",
        "\n",
        "for epoch in range(epochs):\n",
        "    model  = sgd.partial_fit(fX, fy, classes=labels)\n",
        "    model2 = sgd2.partial_fit(fX, fy, classes=labels)\n",
        "    #print(model.coef_)\n",
        "    y  = model.predict(fX)\n",
        "    p  = model.decision_function(fX)\n",
        "    c  = (1 - np.mean(y == fy))\n",
        "    p_sum.append(p)\n",
        "    y2 = model2.predict(fX)\n",
        "    p2 = model2.decision_function(fX)\n",
        "    c2 = (1 - np.mean(y2 == fy))\n",
        "    p2_sum.append(p2)\n",
        "    #p = model.predict_proba(fX)\n",
        "    #print(y, y2, fy, c, c2, p, p2)\n",
        "    #p_sum.append(np.sum(fy-y))\n",
        "\n",
        "sys.stdout = old_stdout\n",
        "loss_history = mystdout.getvalue()\n",
        "# print(loss_history)\n",
        "loss_list = []\n",
        "loss2_list = []\n",
        "use_first = True\n",
        "for line in loss_history.split('\\n'):\n",
        "    if (len(line.split(\"loss: \")) == 1):\n",
        "        continue\n",
        "    if use_first:\n",
        "        loss_list.append(float(line.split(\"loss: \")[-1]))\n",
        "    else:\n",
        "        loss2_list.append(float(line.split(\"loss: \")[-1]))\n",
        "    use_first = not use_first\n",
        "print('model1: ', model.coef_)\n",
        "print('model2: ', model2.coef_)\n",
        "\n",
        "################# for the most_prominent feature ############################\n",
        "learning_rate = 2\n",
        "\n",
        "sgd  = SGDClassifier(loss=\"squared_loss\", learning_rate='constant', eta0=learning_rate, penalty=None, max_iter=1,\n",
        "                     average=False, random_state=2018, verbose=1)\n",
        "sgd2 = SGDClassifier(loss=\"log\", learning_rate='constant', eta0=learning_rate, penalty=None, max_iter=1,\n",
        "                     average=False, random_state=2018, verbose=1)\n",
        "\n",
        "p3_sum  = [] ;# this holds the sum of y-y_hat, for all instances (ok, we have only one instance)\n",
        "p4_sum = []\n",
        "epochs = 15 ;# number of epochs\n",
        "\n",
        "for epoch in range(epochs):\n",
        "    model3  = sgd.partial_fit(fX2, fy2, classes=labels)\n",
        "    model4 = sgd2.partial_fit(fX2, fy2, classes=labels)\n",
        "    #print(model.coef_)\n",
        "    y3  = model3.predict(fX2)\n",
        "    p  = model3.decision_function(fX2)\n",
        "    c3  = (1 - np.mean(y3 == fy2))\n",
        "    p3_sum.append(p)\n",
        "    y4 = model4.predict(fX2)\n",
        "    p2 = model4.decision_function(fX2)\n",
        "    c4 = (1 - np.mean(y4 == fy2))\n",
        "    p4_sum.append(p2)\n",
        "    #p = model.predict_proba(fX)\n",
        "    #print(y, y2, fy, c, c2, p, p2)\n",
        "    #p_sum.append(np.sum(fy-y))\n",
        "\n",
        "sys.stdout = old_stdout\n",
        "loss_history = mystdout.getvalue()\n",
        "# print(loss_history)\n",
        "loss_list3 = []\n",
        "loss2_list4 = []\n",
        "use_first2 = True\n",
        "for line in loss_history.split('\\n'):\n",
        "    if (len(line.split(\"loss: \")) == 1):\n",
        "        continue\n",
        "    if use_first2:\n",
        "        loss_list3.append(float(line.split(\"loss: \")[-1]))\n",
        "    else:\n",
        "        loss2_list4.append(float(line.split(\"loss: \")[-1]))\n",
        "    use_first2 = not use_first2\n",
        "print('model3: ', model3.coef_)\n",
        "print('model4: ', model4.coef_)\n",
        "\n",
        "\n",
        "#plt.figure()\n",
        "#plt.plot(np.arange(len(loss_list)), loss_list)\n",
        "#plt.scatter(np.arange(len(loss_list)), loss_list)\n",
        "#plt.xlabel(\"Time in epochs\")\n",
        "#plt.ylabel(\"Loss\")\n",
        "#plt.show()\n",
        "#plt.figure()\n",
        "#plt.plot(np.arange(len(loss2_list)), loss2_list)\n",
        "#plt.scatter(np.arange(len(loss2_list)), loss2_list)\n",
        "#plt.xlabel(\"Time in epochs\")\n",
        "#plt.ylabel(\"Loss\")\n",
        "#plt.show()\n",
        "\n",
        "\n",
        "#########################  For one of the two prominent features selected in step a), plot the loss with respect to (y-y[hat])################################\n",
        "plt.figure()\n",
        "plt.plot(p3_sum, loss_list3)\n",
        "plt.scatter(p3_sum, loss_list3)\n",
        "plt.scatter(p3_sum[:1], loss_list3[:1], color='red')\n",
        "plt.xlabel(\"$y-\\hat{y}$\")\n",
        "plt.ylabel(\"Loss\")\n",
        "plt.show()\n",
        "plt.figure()\n",
        "plt.plot(p4_sum, loss2_list4)\n",
        "plt.scatter(p4_sum, loss2_list4)\n",
        "plt.scatter(p4_sum[:1], loss2_list4[:1], color='red')\n",
        "plt.xlabel(\"$y-\\hat{y}$\")\n",
        "plt.ylabel(\"Loss\")\n",
        "plt.show()"
      ],
      "execution_count": 0,
      "outputs": [
        {
          "output_type": "stream",
          "text": [
            "   season  yr  mnth  holiday  ...  weathersit      temp     atemp       hum\n",
            "0       1   0     1        0  ...           2  0.344167  0.363625  0.805833\n",
            "1       1   0     1        0  ...           2  0.363478  0.353739  0.696087\n",
            "2       1   0     1        0  ...           1  0.196364  0.189405  0.437273\n",
            "3       1   0     1        0  ...           1  0.200000  0.212122  0.590435\n",
            "4       1   0     1        0  ...           1  0.226957  0.229270  0.436957\n",
            "\n",
            "[5 rows x 10 columns]\n",
            "0     985\n",
            "1     801\n",
            "2    1349\n",
            "3    1562\n",
            "4    1600\n",
            "Name: cnt, dtype: int64\n",
            "0    few\n",
            "1    few\n",
            "2    few\n",
            "3    few\n",
            "4    few\n",
            "Name: cnt, dtype: category\n",
            "Categories (2, object): [few < many]\n",
            "few counted: 341\n",
            "many counted: 390\n",
            "\n",
            " The cyclists in dataset are many \n",
            "\n",
            "model1:  [[ 0.24463539  0.79228592 -0.00281716 -0.43637838 -0.03994104 -0.02481279\n",
            "  -0.32853995  1.40242438  1.21855856 -0.38532465]]\n",
            "model2:  [[ 0.94550048  2.26385021 -0.12928916 -0.49365082 -0.0495436  -0.03810521\n",
            "  -1.50249033  2.24776028  1.92180578 -0.73469103]]\n",
            "-- Epoch 1\n",
            "Norm: 0.69, NNZs: 1, Bias: -2.000000, T: 1, Avg. loss: 0.500000\n",
            "Total training time: 0.00 seconds.\n",
            "-- Epoch 1\n",
            "Norm: 0.34, NNZs: 1, Bias: -1.000000, T: 1, Avg. loss: 0.693147\n",
            "Total training time: 0.00 seconds.\n",
            "-- Epoch 1\n",
            "Norm: 0.16, NNZs: 1, Bias: 0.473804, T: 1, Avg. loss: 0.764963\n",
            "Total training time: 0.00 seconds.\n",
            "-- Epoch 1\n",
            "Norm: 0.51, NNZs: 1, Bias: -1.492597, T: 1, Avg. loss: 0.282759\n",
            "Total training time: 0.00 seconds.\n",
            "-- Epoch 1\n",
            "Norm: 0.89, NNZs: 1, Bias: -2.586049, T: 1, Avg. loss: 1.170337\n",
            "Total training time: 0.00 seconds.\n",
            "-- Epoch 1\n",
            "Norm: 0.62, NNZs: 1, Bias: -1.809607, T: 1, Avg. loss: 0.172575\n",
            "Total training time: 0.00 seconds.\n",
            "-- Epoch 1\n",
            "Norm: 0.41, NNZs: 1, Bias: 1.198688, T: 1, Avg. loss: 1.790529\n",
            "Total training time: 0.00 seconds.\n",
            "-- Epoch 1\n",
            "Norm: 0.70, NNZs: 1, Bias: -2.043028, T: 1, Avg. loss: 0.124102\n",
            "Total training time: 0.00 seconds.\n",
            "-- Epoch 1\n",
            "Norm: 1.20, NNZs: 1, Bias: -3.482660, T: 1, Avg. loss: 2.739378\n",
            "Total training time: 0.00 seconds.\n",
            "-- Epoch 1\n",
            "Norm: 0.77, NNZs: 1, Bias: -2.227769, T: 1, Avg. loss: 0.096919\n",
            "Total training time: 0.00 seconds.\n",
            "-- Epoch 1\n",
            "Norm: 0.79, NNZs: 1, Bias: 2.307708, T: 1, Avg. loss: 4.191046\n",
            "Total training time: 0.00 seconds.\n",
            "-- Epoch 1\n",
            "Norm: 0.82, NNZs: 1, Bias: -2.380660, T: 1, Avg. loss: 0.079526\n",
            "Total training time: 0.00 seconds.\n",
            "-- Epoch 1\n",
            "Norm: 1.67, NNZs: 1, Bias: -4.854409, T: 1, Avg. loss: 6.411990\n",
            "Total training time: 0.00 seconds.\n",
            "-- Epoch 1\n",
            "Norm: 0.86, NNZs: 1, Bias: -2.511087, T: 1, Avg. loss: 0.067437\n",
            "Total training time: 0.00 seconds.\n",
            "-- Epoch 1\n",
            "Norm: 1.38, NNZs: 1, Bias: 4.004427, T: 1, Avg. loss: 9.809872\n",
            "Total training time: 0.00 seconds.\n",
            "-- Epoch 1\n",
            "Norm: 0.90, NNZs: 1, Bias: -2.624817, T: 1, Avg. loss: 0.058546\n",
            "Total training time: 0.00 seconds.\n",
            "-- Epoch 1\n",
            "Norm: 2.39, NNZs: 1, Bias: -6.953083, T: 1, Avg. loss: 15.008380\n",
            "Total training time: 0.00 seconds.\n",
            "-- Epoch 1\n",
            "Norm: 0.94, NNZs: 1, Bias: -2.725648, T: 1, Avg. loss: 0.051731\n",
            "Total training time: 0.00 seconds.\n",
            "-- Epoch 1\n",
            "Norm: 2.27, NNZs: 1, Bias: 6.600282, T: 1, Avg. loss: 22.961713\n",
            "Total training time: 0.00 seconds.\n",
            "-- Epoch 1\n",
            "Norm: 0.97, NNZs: 1, Bias: -2.816212, T: 1, Avg. loss: 0.046339\n",
            "Total training time: 0.00 seconds.\n",
            "-- Epoch 1\n",
            "Norm: 3.50, NNZs: 1, Bias: -10.163901, T: 1, Avg. loss: 35.129727\n",
            "Total training time: 0.00 seconds.\n",
            "-- Epoch 1\n",
            "Norm: 1.00, NNZs: 1, Bias: -2.898411, T: 1, Avg. loss: 0.041968\n",
            "Total training time: 0.00 seconds.\n",
            "-- Epoch 1\n",
            "Norm: 3.64, NNZs: 1, Bias: 10.571748, T: 1, Avg. loss: 53.745889\n",
            "Total training time: 0.00 seconds.\n",
            "-- Epoch 1\n",
            "Norm: 1.02, NNZs: 1, Bias: -2.973661, T: 1, Avg. loss: 0.038351\n",
            "Total training time: 0.00 seconds.\n",
            "-- Epoch 1\n",
            "Norm: 5.19, NNZs: 1, Bias: -15.076214, T: 1, Avg. loss: 82.227242\n",
            "Total training time: 0.00 seconds.\n",
            "-- Epoch 1\n",
            "Norm: 1.05, NNZs: 1, Bias: -3.043048, T: 1, Avg. loss: 0.035310\n",
            "Total training time: 0.00 seconds.\n",
            "-- Epoch 1\n",
            "Norm: 5.73, NNZs: 1, Bias: 16.647797, T: 1, Avg. loss: 125.801610\n",
            "Total training time: 0.00 seconds.\n",
            "-- Epoch 1\n",
            "Norm: 1.07, NNZs: 1, Bias: -3.107421, T: 1, Avg. loss: 0.032716\n",
            "Total training time: 0.00 seconds.\n",
            "-- Epoch 1\n",
            "Norm: 7.78, NNZs: 1, Bias: -22.591691, T: 1, Avg. loss: 192.467177\n",
            "Total training time: 0.00 seconds.\n",
            "-- Epoch 1\n",
            "Norm: 1.09, NNZs: 1, Bias: -3.167456, T: 1, Avg. loss: 0.030477\n",
            "Total training time: 0.00 seconds.\n",
            "model3:  [[-7.77531449]]\n",
            "model4:  [[-1.09013377]]\n"
          ],
          "name": "stdout"
        },
        {
          "output_type": "display_data",
          "data": {
            "image/png": "[encoded data removed]",
            "text/plain": [
              "<Figure size 432x288 with 1 Axes>"
            ]
          },
          "metadata": {
            "tags": []
          }
        },
        {
          "output_type": "display_data",
          "data": {
            "image/png": "[encoded data removed]",
            "text/plain": [
              "<Figure size 432x288 with 1 Axes>"
            ]
          },
          "metadata": {
            "tags": []
          }
        }
      ]
    }
  ]
}