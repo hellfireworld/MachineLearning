{
  "nbformat": 4,
  "nbformat_minor": 0,
  "metadata": {
    "colab": {
      "name": "digit_recognizer_CNN.ipynb",
      "provenance": [],
      "collapsed_sections": [],
      "toc_visible": true,
      "authorship_tag": "ABX9TyN3JqcNqt0EVNNQljsr6Q+L",
      "include_colab_link": true
    },
    "kernelspec": {
      "name": "python3",
      "display_name": "Python 3"
    }
  },
  "cells": [
    {
      "cell_type": "markdown",
      "metadata": {
        "id": "view-in-github",
        "colab_type": "text"
      },
      "source": [
        "<a href=\"https://colab.research.google.com/github/hellfireworld/MachineLearning/blob/master/digit_recognizer_CNN.ipynb\" target=\"_parent\"><img src=\"https://colab.research.google.com/assets/colab-badge.svg\" alt=\"Open In Colab\"/></a>"
      ]
    },
    {
      "cell_type": "markdown",
      "metadata": {
        "id": "tqY1kdco2Lo5",
        "colab_type": "text"
      },
      "source": [
        "***Alexandros_Tsevrenis_MTN1914***"
      ]
    },
    {
      "cell_type": "markdown",
      "metadata": {
        "id": "9XmWmaxg2WPT",
        "colab_type": "text"
      },
      "source": [
        "# **Import essential libraries**"
      ]
    },
    {
      "cell_type": "code",
      "metadata": {
        "id": "Pjf7ccYzbeDJ",
        "colab_type": "code",
        "colab": {}
      },
      "source": [
        "import seaborn as sns\n",
        "import matplotlib.pyplot as plt\n",
        "import pandas as pd\n",
        "import sys\n",
        "import io\n",
        "from sklearn.model_selection import KFold\n",
        "from sklearn.model_selection import train_test_split\n",
        "from sklearn import metrics\n",
        "from sklearn.preprocessing import scale\n",
        "from sklearn.svm import SVC\n",
        "from sklearn.model_selection import GridSearchCV\n",
        "import IPython\n",
        "from IPython.display import Image\n",
        "import pydotplus\n",
        "\n",
        "#pytorch utility imports\n",
        "import torch\n",
        "import torchvision\n",
        "import torchvision.transforms as transforms\n",
        "from torch.utils.data import DataLoader, TensorDataset\n",
        "from torchvision.utils import make_grid\n",
        "#neural net imports\n",
        "import torch.nn as nn\n",
        "import torch.nn.functional as F\n",
        "import torch.optim as optim\n",
        "from torch.autograd import Variable"
      ],
      "execution_count": 0,
      "outputs": []
    },
    {
      "cell_type": "markdown",
      "metadata": {
        "id": "7_eCpKXg2erq",
        "colab_type": "text"
      },
      "source": [
        "# **Import day.csv file with GOOGLE_COLAB**"
      ]
    },
    {
      "cell_type": "code",
      "metadata": {
        "id": "nKWZmVw1bpc-",
        "colab_type": "code",
        "colab": {}
      },
      "source": [
        "from google.colab import files"
      ],
      "execution_count": 0,
      "outputs": []
    },
    {
      "cell_type": "code",
      "metadata": {
        "id": "QNlZdL5B4pbb",
        "colab_type": "code",
        "outputId": "a6276520-f87f-429b-c3de-793c5bdcbf75",
        "colab": {
          "base_uri": "https://localhost:8080/",
          "height": 51
        }
      },
      "source": [
        "from google.colab import drive\n",
        "drive.mount('/gdrive')\n",
        "%cd /gdrive"
      ],
      "execution_count": 16,
      "outputs": [
        {
          "output_type": "stream",
          "text": [
            "Drive already mounted at /gdrive; to attempt to forcibly remount, call drive.mount(\"/gdrive\", force_remount=True).\n",
            "/gdrive\n"
          ],
          "name": "stdout"
        }
      ]
    },
    {
      "cell_type": "code",
      "metadata": {
        "id": "kaGkGneK6eS2",
        "colab_type": "code",
        "colab": {}
      },
      "source": [
        "file_train = r'/gdrive/My Drive/datasets/digit_recognizer_dataset_train.csv'\n",
        "file_test = r'/gdrive/My Drive/datasets/digit_recognizer_dataset_test.csv'"
      ],
      "execution_count": 0,
      "outputs": []
    },
    {
      "cell_type": "code",
      "metadata": {
        "id": "Woqdoc6t7Wb2",
        "colab_type": "code",
        "outputId": "b8f13559-fcb9-4cee-a2e6-5d1b6e45c683",
        "colab": {
          "base_uri": "https://localhost:8080/",
          "height": 493
        }
      },
      "source": [
        "df = pd.read_csv(file_train)\n",
        "df2 = pd.read_csv(file_test)\n",
        "print(df)\n",
        "print(df2)"
      ],
      "execution_count": 18,
      "outputs": [
        {
          "output_type": "stream",
          "text": [
            "       label  pixel0  pixel1  pixel2  ...  pixel780  pixel781  pixel782  pixel783\n",
            "0          1       0       0       0  ...         0         0         0         0\n",
            "1          0       0       0       0  ...         0         0         0         0\n",
            "2          1       0       0       0  ...         0         0         0         0\n",
            "3          4       0       0       0  ...         0         0         0         0\n",
            "4          0       0       0       0  ...         0         0         0         0\n",
            "...      ...     ...     ...     ...  ...       ...       ...       ...       ...\n",
            "27995      6       0       0       0  ...         0         0         0         0\n",
            "27996      0       0       0       0  ...         0         0         0         0\n",
            "27997      8       0       0       0  ...         0         0         0         0\n",
            "27998      0       0       0       0  ...         0         0         0         0\n",
            "27999      7       0       0       0  ...         0         0         0         0\n",
            "\n",
            "[28000 rows x 785 columns]\n",
            "       pixel0  pixel1  pixel2  pixel3  ...  pixel780  pixel781  pixel782  pixel783\n",
            "0           0       0       0       0  ...         0         0         0         0\n",
            "1           0       0       0       0  ...         0         0         0         0\n",
            "2           0       0       0       0  ...         0         0         0         0\n",
            "3           0       0       0       0  ...         0         0         0         0\n",
            "4           0       0       0       0  ...         0         0         0         0\n",
            "...       ...     ...     ...     ...  ...       ...       ...       ...       ...\n",
            "13995       0       0       0       0  ...         0         0         0         0\n",
            "13996       0       0       0       0  ...         0         0         0         0\n",
            "13997       0       0       0       0  ...         0         0         0         0\n",
            "13998       0       0       0       0  ...         0         0         0         0\n",
            "13999       0       0       0       0  ...         0         0         0         0\n",
            "\n",
            "[14000 rows x 784 columns]\n"
          ],
          "name": "stdout"
        }
      ]
    },
    {
      "cell_type": "code",
      "metadata": {
        "id": "3P1BBFLz6T_Q",
        "colab_type": "code",
        "outputId": "92430851-83fc-453d-de3c-09818bfb9049",
        "colab": {
          "base_uri": "https://localhost:8080/",
          "height": 51
        }
      },
      "source": [
        "print(df.shape)\n",
        "print(df2.shape)"
      ],
      "execution_count": 0,
      "outputs": [
        {
          "output_type": "stream",
          "text": [
            "(28000, 785)\n",
            "(14000, 784)\n"
          ],
          "name": "stdout"
        }
      ]
    },
    {
      "cell_type": "markdown",
      "metadata": {
        "id": "gmvdlOFe6FTD",
        "colab_type": "text"
      },
      "source": [
        "# **Plot Digit Nine from dataset**"
      ]
    },
    {
      "cell_type": "code",
      "metadata": {
        "id": "wdifl5zr4kyF",
        "colab_type": "code",
        "outputId": "4e787270-98ae-4150-e226-ec6f9520bf63",
        "colab": {
          "base_uri": "https://localhost:8080/",
          "height": 281
        }
      },
      "source": [
        "#nine\n",
        "nine = df.iloc[28, 1:]\n",
        "#print(nine.shape)\n",
        "nine = nine.values.reshape(28, 28)\n",
        "plt.imshow(nine, cmap='gray')\n",
        "plt.title(\"Digit 9\")\n",
        "plt.show()"
      ],
      "execution_count": 0,
      "outputs": [
        {
          "output_type": "display_data",
          "data": {
            "image/png": "[encoded data removed]",
            "text/plain": [
              "<Figure size 432x288 with 1 Axes>"
            ]
          },
          "metadata": {
            "tags": [],
            "needs_background": "light"
          }
        }
      ]
    },
    {
      "cell_type": "markdown",
      "metadata": {
        "id": "Nu53LMiW2ovo",
        "colab_type": "text"
      },
      "source": [
        "# **Read the dataset from the CSV file**"
      ]
    },
    {
      "cell_type": "markdown",
      "metadata": {
        "id": "HzT5w0972x4I",
        "colab_type": "text"
      },
      "source": [
        "**Define df variable as day.csv using pandas library.\n",
        "Read separated values (csv) file into DataFrame.**"
      ]
    },
    {
      "cell_type": "code",
      "metadata": {
        "id": "2sYXntfqcHiF",
        "colab_type": "code",
        "colab": {}
      },
      "source": [
        "df = pd.read_csv(io.StringIO(uploaded['digit_recognizer_dataset.csv'].decode('utf-8')))"
      ],
      "execution_count": 0,
      "outputs": []
    },
    {
      "cell_type": "markdown",
      "metadata": {
        "id": "_3OWEpqt4RSW",
        "colab_type": "text"
      },
      "source": [
        "# **Print the shape of our whole data (rows, columns)**"
      ]
    },
    {
      "cell_type": "code",
      "metadata": {
        "id": "_XegB6RGxtoD",
        "colab_type": "code",
        "outputId": "c24c2e92-a3db-4828-f8bc-4fefabec4a68",
        "colab": {
          "base_uri": "https://localhost:8080/",
          "height": 34
        }
      },
      "source": [
        "print(df.shape)\n"
      ],
      "execution_count": 0,
      "outputs": [
        {
          "output_type": "stream",
          "text": [
            "(42000, 785)\n"
          ],
          "name": "stdout"
        }
      ]
    },
    {
      "cell_type": "markdown",
      "metadata": {
        "id": "yGYWZy8P45UU",
        "colab_type": "text"
      },
      "source": [
        "# **Firstly, split the pixelX features from the first column and store them in X, secondly store the first column as the prediction feature/variable as y**"
      ]
    },
    {
      "cell_type": "code",
      "metadata": {
        "id": "dNYNPswI6WbJ",
        "colab_type": "code",
        "colab": {}
      },
      "source": [
        "X = df.iloc[:, 1:]\n",
        "y = df['label']"
      ],
      "execution_count": 0,
      "outputs": []
    },
    {
      "cell_type": "markdown",
      "metadata": {
        "id": "uVDhrNkfoI-9",
        "colab_type": "text"
      },
      "source": [
        "This neural network runs on the CPU but there are commented codes that they could enable GPU usage to make it run faster(using NVIDIA feature CUDA).\n",
        "\n",
        "Neural Network gets trained with Gradient Descent, backpropagation.\n",
        "\n",
        "The criterion cross entropy loss has been chosen.\n",
        "\n",
        "Dropout hyperparameter chooses to delete some information that the neural network has learned in every layer so at the end it doesn't overfit\n",
        "\n",
        "`nn.BatchNorm1d` Applies Batch Normalization over a 2D or 3D input (a mini-batch of 1D inputs with optional additional channel dimension)\n",
        "\n",
        "SoftMax hyperparameter normalize the outputs. All the numbers that softmax gets to the output they will be added to 1 and it creates percentages that belong to a specific classes.\n",
        "\n"
      ]
    },
    {
      "cell_type": "code",
      "metadata": {
        "id": "F9lf5Qdo73g8",
        "colab_type": "code",
        "outputId": "6a12fb1a-ac4e-42d1-aa31-9f6ec02737ea",
        "colab": {
          "base_uri": "https://localhost:8080/",
          "height": 1000
        }
      },
      "source": [
        "if __name__ == '__main__':\n",
        "    # stops the freeze error\n",
        "    torch.multiprocessing.freeze_support()\n",
        "    print('loop')\n",
        "\n",
        "    # GPU CUDA\n",
        "    # check cuda version\n",
        "    #print(torch.cuda.is_available())\n",
        "    #print(torch.backends.cudnn.enabled)\n",
        "    #if torch.cuda.is_available():\n",
        "    #    device = torch.device('cuda')\n",
        "    #print(device)\n",
        "\n",
        "    train_df = df\n",
        "    test_df = df2\n",
        "    #train_df = df.iloc[:28000, :]\n",
        "    #test_df = df.iloc[28000:, :]\n",
        "\n",
        "    y_train = train_df['label'].values\n",
        "    X_train = (train_df.iloc[:, 1:].values).astype('float32')\n",
        "    test_images = (test_df.iloc[:, :].values).astype('float32')\n",
        "\n",
        "    # Training and Validation Split\n",
        "    X_train, X_val, y_train, y_val = train_test_split(X_train, y_train,\n",
        "                                                                          stratify=y_train, random_state=123,\n",
        "                                                                          test_size=0.20)\n",
        "    X_train = X_train.reshape(X_train.shape[0], 28, 28)\n",
        "    X_val = X_val.reshape(X_val.shape[0], 28, 28)\n",
        "    test_images = test_images.reshape(test_images.shape[0], 28, 28)\n",
        "\n",
        "    # train samples\n",
        "    for i in range(6, 9):\n",
        "        plt.subplot(330 + (i + 1))\n",
        "        plt.imshow(X_train[i].squeeze(), cmap=plt.get_cmap('gray'))\n",
        "        plt.title(y_train[i])\n",
        "\n",
        "    # test samples\n",
        "    for i in range(6, 9):\n",
        "        plt.subplot(330 + (i + 1))\n",
        "        plt.imshow(test_images[i].squeeze(), cmap=plt.get_cmap('gray'))\n",
        "\n",
        "\n",
        "    # train\n",
        "    X_train_tensor = torch.tensor(X_train) / 255.0\n",
        "    y_train_tensor = torch.tensor(y_train)\n",
        "    train_tensor = TensorDataset(X_train_tensor, y_train_tensor)\n",
        "\n",
        "    # val\n",
        "    X_val_tensor = torch.tensor(X_val) / 255.0\n",
        "    y_val_tensor = torch.tensor(y_val)\n",
        "    val_tensor = TensorDataset(X_val_tensor, y_val_tensor)\n",
        "\n",
        "    # test\n",
        "    test_images_tensor = torch.tensor(test_images) / 255.0\n",
        "\n",
        "    train_loader = DataLoader(train_tensor, batch_size=64, num_workers=2, shuffle=True)\n",
        "    val_loader = DataLoader(val_tensor, batch_size=64, num_workers=2, shuffle=True)\n",
        "    test_loader = DataLoader(test_images_tensor, batch_size=64, num_workers=2, shuffle=False)\n",
        "\n",
        "    for batch_idx, (data, target) in enumerate(train_loader):\n",
        "        img_grid = make_grid(data[0:8, ].unsqueeze(1), nrow=8)\n",
        "        img_target_labels = target[0:8, ].numpy()\n",
        "        break\n",
        "\n",
        "    plt.imshow(img_grid.numpy().transpose((1, 2, 0)))\n",
        "    plt.rcParams['figure.figsize'] = (10, 2)\n",
        "    plt.title(img_target_labels, size=16)\n",
        "    plt.show()\n",
        "\n",
        "\n",
        "\n",
        "    class Net(nn.Module):\n",
        "        def __init__(self):\n",
        "            super(Net, self).__init__()\n",
        "\n",
        "            #self.conv_block = nn.Sequential(\n",
        "            #    nn.Conv2d(1, 32, kernel_size=3, stride=1, padding=1),\n",
        "            #    nn.BatchNorm2d(32),\n",
        "            #    nn.ReLU(inplace=True),\n",
        "            #    nn.Conv2d(32, 64, kernel_size=3, stride=1, padding=1),\n",
        "            #    nn.BatchNorm2d(64),\n",
        "            #    nn.ReLU(inplace=True),\n",
        "            #    nn.MaxPool2d(kernel_size=2, stride=2),\n",
        "            #    nn.Conv2d(64, 128, kernel_size=3, stride=1, padding=1),\n",
        "            #    nn.BatchNorm2d(128),\n",
        "            #    nn.ReLU(inplace=True),\n",
        "            #    nn.MaxPool2d(kernel_size=2, stride=2)\n",
        "            #)\n",
        "\n",
        "#MAXPOOLING\n",
        "            #self.linear_block = nn.Sequential(\n",
        "            #    nn.Linear(784, 10),\n",
        "            #    nn.BatchNorm1d(10),\n",
        "            #    nn.ReLU(inplace=True),\n",
        "            #    nn.Dropout(0.2),\n",
        "            #    nn.LogSoftmax(dim=1)\n",
        "            #)\n",
        "            #bckp\n",
        "            self.linear_block = nn.Sequential(\n",
        "                nn.Linear(784, 128),\n",
        "                nn.BatchNorm1d(128),\n",
        "                nn.ReLU(inplace=True),\n",
        "                nn.Dropout(0.2),\n",
        "                nn.Linear(128, 64),\n",
        "                nn.BatchNorm1d(64),\n",
        "                nn.ReLU(inplace=True),\n",
        "                nn.Dropout(0.2),\n",
        "                nn.Linear(64, 10),\n",
        "                #nn.MaxPool2d(kernel_size=2),\n",
        "                nn.LogSoftmax(dim=1)\n",
        "            )\n",
        "\n",
        "            #input_size = 784\n",
        "            #hidden_sizes = [128 , 64]\n",
        "            #output_size = 10\n",
        "\n",
        "            #model = nn.Sequential(nn.Linear(input_size, hidden_sizes[0]),\n",
        "            #          nn.ReLU(),\n",
        "            #          nn.Linear(hidden_sizes[0], hidden_sizes[1]),\n",
        "            #          nn.ReLU(),\n",
        "            #          nn.Linear(hidden_sizes[1], output_size),\n",
        "            #          nn.LogSoftmax(dim=1))\n",
        "            #print(model)\n",
        "\n",
        "        def forward(self, x):\n",
        "            #x = self.conv_block(x)\n",
        "            x = x.view(x.size(0), -1)\n",
        "            x = self.linear_block(x)\n",
        "\n",
        "            return x\n",
        "\n",
        "    network_model = Net()\n",
        "    print(network_model)\n",
        "\n",
        "    optimizer = torch.optim.SGD(params=network_model.parameters(), lr=0.001, momentum=0.9)\n",
        "    #optimizer = optim.Adam(params=network_model.parameters(), lr=0.001, momentum)\n",
        "    criterion = nn.CrossEntropyLoss()\n",
        "\n",
        "    exp_lr_scheduler = optim.lr_scheduler.StepLR(optimizer, step_size=7, gamma=0.1)\n",
        "\n",
        "    # GPU CUDA\n",
        "    #if torch.cuda.is_available():\n",
        "    #    network_model = network_model.cuda()\n",
        "    #    criterion = criterion.cuda()\n",
        "\n",
        "    train_losses = []\n",
        "    train_counter = []\n",
        "    test_losses = []\n",
        "    test_counter = [i*len(train_loader.dataset) for i in range(25)]\n",
        "    print('test_counter: ', test_counter)\n",
        "\n",
        "    def train_model(num_epoch):\n",
        "        network_model.train()\n",
        "        exp_lr_scheduler.step()\n",
        "\n",
        "        for batch_idx, (data, target) in enumerate(train_loader):\n",
        "            data = data.unsqueeze(1)\n",
        "            data, target = data, target\n",
        "\n",
        "            # GPU CUDA\n",
        "            #if torch.cuda.is_available():\n",
        "            #    data = data.cuda()\n",
        "            #    target = target.cuda()\n",
        "\n",
        "            optimizer.zero_grad()\n",
        "            output = network_model(data)\n",
        "            loss = criterion(output, target)\n",
        "            loss.backward()\n",
        "            optimizer.step()\n",
        "\n",
        "            if( (batch_idx + 1) % 100 == 0 ):\n",
        "                print('Train Epoch: {} [{}/{} ({:.0f}%)]\\tLoss: {:.6f}'.format(\n",
        "                    num_epoch, (batch_idx + 1) * len(data), len(train_loader.dataset),\n",
        "                               100. * (batch_idx + 1) / len(train_loader), loss.data))\n",
        "                train_losses.append(loss.item())\n",
        "                train_counter.append( (batch_idx+64)+ ((num_epoch-1)*len(train_loader.dataset)))\n",
        "\n",
        "\n",
        "    def evaluate(data_loader):\n",
        "        network_model.eval()\n",
        "        loss = 0\n",
        "        correct = 0\n",
        "\n",
        "        for data, target in data_loader:\n",
        "            data = data.unsqueeze(1)\n",
        "            data, target = data, target\n",
        "\n",
        "            # GPU CUDA\n",
        "            #if torch.cuda.is_available():\n",
        "            #    data = data.cuda()\n",
        "            #    target = target.cuda()\n",
        "\n",
        "            output = network_model(data)\n",
        "\n",
        "            loss += F.cross_entropy(output, target, size_average=False).data\n",
        "            \n",
        "\n",
        "            pred = output.data.max(1, keepdim=True)[1]\n",
        "            correct += pred.eq(target.data.view_as(pred)).cpu().sum()\n",
        "\n",
        "        loss /= len(data_loader.dataset)\n",
        "        test_losses.append(loss.item())\n",
        "        print('test_loss: ', test_losses)\n",
        "\n",
        "        print('\\nAverage Val Loss: {:.4f}, Val Accuracy: {}/{} ({:.3f}%)\\n'.format(loss, correct, len(data_loader.dataset),\n",
        "                                                                                   100. * correct / len(data_loader.dataset)))\n",
        "\n",
        "    num_epochs = 25\n",
        "\n",
        "    for n in range(num_epochs):\n",
        "        train_model(n)\n",
        "        evaluate(val_loader)\n",
        "\n",
        "    #better_model\n",
        "    #for n in range(25):\n",
        "    #    train_model(n)\n",
        "    #    evaluate(val_loader)\n",
        "\n",
        "    def make_predictions(data_loader):\n",
        "        network_model.eval()\n",
        "        test_preds = torch.LongTensor()\n",
        "\n",
        "        for i, data in enumerate(data_loader):\n",
        "            data = data.unsqueeze(1)\n",
        "\n",
        "            # GPU CUDA\n",
        "            #if torch.cuda.is_available():\n",
        "            #    data = data.cuda()\n",
        "\n",
        "            output = network_model(data)\n",
        "\n",
        "            preds = output.cpu().data.max(1, keepdim=True)[1]\n",
        "            test_preds = torch.cat((test_preds, preds), dim=0)\n",
        "\n",
        "        return test_preds\n",
        "\n",
        "    test_set_preds = make_predictions(test_loader)\n",
        "\n"
      ],
      "execution_count": 90,
      "outputs": [
        {
          "output_type": "stream",
          "text": [
            "loop\n"
          ],
          "name": "stdout"
        },
        {
          "output_type": "stream",
          "text": [
            "/usr/local/lib/python3.6/dist-packages/ipykernel_launcher.py:39: MatplotlibDeprecationWarning: Adding an axes using the same arguments as a previous axes currently reuses the earlier instance.  In a future version, a new instance will always be created and returned.  Meanwhile, this warning can be suppressed, and the future behavior ensured, by passing a unique label to each axes instance.\n",
            "/usr/local/lib/python3.6/dist-packages/matplotlib/text.py:1165: FutureWarning: elementwise comparison failed; returning scalar instead, but in the future will perform elementwise comparison\n",
            "  if s != self._text:\n"
          ],
          "name": "stderr"
        },
        {
          "output_type": "display_data",
          "data": {
            "image/png": "[encoded data removed]",
            "text/plain": [
              "<Figure size 720x144 with 3 Axes>"
            ]
          },
          "metadata": {
            "tags": [],
            "needs_background": "light"
          }
        },
        {
          "output_type": "stream",
          "text": [
            "Net(\n",
            "  (linear_block): Sequential(\n",
            "    (0): Linear(in_features=784, out_features=128, bias=True)\n",
            "    (1): BatchNorm1d(128, eps=1e-05, momentum=0.1, affine=True, track_running_stats=True)\n",
            "    (2): ReLU(inplace=True)\n",
            "    (3): Dropout(p=0.2, inplace=False)\n",
            "    (4): Linear(in_features=128, out_features=64, bias=True)\n",
            "    (5): BatchNorm1d(64, eps=1e-05, momentum=0.1, affine=True, track_running_stats=True)\n",
            "    (6): ReLU(inplace=True)\n",
            "    (7): Dropout(p=0.2, inplace=False)\n",
            "    (8): Linear(in_features=64, out_features=10, bias=True)\n",
            "    (9): LogSoftmax()\n",
            "  )\n",
            ")\n",
            "test_counter:  [0, 22400, 44800, 67200, 89600, 112000, 134400, 156800, 179200, 201600, 224000, 246400, 268800, 291200, 313600, 336000, 358400, 380800, 403200, 425600, 448000, 470400, 492800, 515200, 537600]\n"
          ],
          "name": "stdout"
        },
        {
          "output_type": "stream",
          "text": [
            "/usr/local/lib/python3.6/dist-packages/torch/optim/lr_scheduler.py:122: UserWarning: Detected call of `lr_scheduler.step()` before `optimizer.step()`. In PyTorch 1.1.0 and later, you should call them in the opposite order: `optimizer.step()` before `lr_scheduler.step()`.  Failure to do this will result in PyTorch skipping the first value of the learning rate schedule. See more details at https://pytorch.org/docs/stable/optim.html#how-to-adjust-learning-rate\n",
            "  \"https://pytorch.org/docs/stable/optim.html#how-to-adjust-learning-rate\", UserWarning)\n"
          ],
          "name": "stderr"
        },
        {
          "output_type": "stream",
          "text": [
            "Train Epoch: 0 [0/22400 (0%)]\tLoss: 2.340541\n",
            "Train Epoch: 0 [6400/22400 (29%)]\tLoss: 1.192934\n",
            "Train Epoch: 0 [12800/22400 (57%)]\tLoss: 0.788785\n",
            "Train Epoch: 0 [19200/22400 (86%)]\tLoss: 0.599622\n"
          ],
          "name": "stdout"
        },
        {
          "output_type": "stream",
          "text": [
            "/usr/local/lib/python3.6/dist-packages/torch/nn/_reduction.py:43: UserWarning: size_average and reduce args will be deprecated, please use reduction='sum' instead.\n",
            "  warnings.warn(warning.format(ret))\n"
          ],
          "name": "stderr"
        },
        {
          "output_type": "stream",
          "text": [
            "test_loss:  [0.5639566779136658]\n",
            "\n",
            "Average Val Loss: 0.5640, Val Accuracy: 4984/5600 (89.000%)\n",
            "\n",
            "Train Epoch: 1 [0/22400 (0%)]\tLoss: 0.548608\n",
            "Train Epoch: 1 [6400/22400 (29%)]\tLoss: 0.656080\n",
            "Train Epoch: 1 [12800/22400 (57%)]\tLoss: 0.506088\n",
            "Train Epoch: 1 [19200/22400 (86%)]\tLoss: 0.556755\n",
            "test_loss:  [0.5639566779136658, 0.36015585064888]\n",
            "\n",
            "Average Val Loss: 0.3602, Val Accuracy: 5125/5600 (91.518%)\n",
            "\n",
            "Train Epoch: 2 [0/22400 (0%)]\tLoss: 0.351357\n",
            "Train Epoch: 2 [6400/22400 (29%)]\tLoss: 0.508450\n",
            "Train Epoch: 2 [12800/22400 (57%)]\tLoss: 0.339307\n",
            "Train Epoch: 2 [19200/22400 (86%)]\tLoss: 0.495767\n",
            "test_loss:  [0.5639566779136658, 0.36015585064888, 0.27742162346839905]\n",
            "\n",
            "Average Val Loss: 0.2774, Val Accuracy: 5194/5600 (92.750%)\n",
            "\n",
            "Train Epoch: 3 [0/22400 (0%)]\tLoss: 0.550479\n",
            "Train Epoch: 3 [6400/22400 (29%)]\tLoss: 0.337162\n",
            "Train Epoch: 3 [12800/22400 (57%)]\tLoss: 0.261324\n",
            "Train Epoch: 3 [19200/22400 (86%)]\tLoss: 0.497761\n",
            "test_loss:  [0.5639566779136658, 0.36015585064888, 0.27742162346839905, 0.23472629487514496]\n",
            "\n",
            "Average Val Loss: 0.2347, Val Accuracy: 5254/5600 (93.821%)\n",
            "\n",
            "Train Epoch: 4 [0/22400 (0%)]\tLoss: 0.356352\n",
            "Train Epoch: 4 [6400/22400 (29%)]\tLoss: 0.485729\n",
            "Train Epoch: 4 [12800/22400 (57%)]\tLoss: 0.283636\n",
            "Train Epoch: 4 [19200/22400 (86%)]\tLoss: 0.317644\n",
            "test_loss:  [0.5639566779136658, 0.36015585064888, 0.27742162346839905, 0.23472629487514496, 0.20931300520896912]\n",
            "\n",
            "Average Val Loss: 0.2093, Val Accuracy: 5273/5600 (94.161%)\n",
            "\n",
            "Train Epoch: 5 [0/22400 (0%)]\tLoss: 0.248561\n",
            "Train Epoch: 5 [6400/22400 (29%)]\tLoss: 0.269233\n",
            "Train Epoch: 5 [12800/22400 (57%)]\tLoss: 0.248164\n",
            "Train Epoch: 5 [19200/22400 (86%)]\tLoss: 0.210962\n"
          ],
          "name": "stdout"
        },
        {
          "output_type": "error",
          "ename": "KeyboardInterrupt",
          "evalue": "ignored",
          "traceback": [
            "\u001b[0;31m---------------------------------------------------------------------------\u001b[0m",
            "\u001b[0;31mKeyboardInterrupt\u001b[0m                         Traceback (most recent call last)",
            "\u001b[0;32m<ipython-input-90-ed594bf618ec>\u001b[0m in \u001b[0;36m<module>\u001b[0;34m()\u001b[0m\n\u001b[1;32m    210\u001b[0m     \u001b[0;32mfor\u001b[0m \u001b[0mn\u001b[0m \u001b[0;32min\u001b[0m \u001b[0mrange\u001b[0m\u001b[0;34m(\u001b[0m\u001b[0mnum_epochs\u001b[0m\u001b[0;34m)\u001b[0m\u001b[0;34m:\u001b[0m\u001b[0;34m\u001b[0m\u001b[0;34m\u001b[0m\u001b[0m\n\u001b[1;32m    211\u001b[0m         \u001b[0mtrain_model\u001b[0m\u001b[0;34m(\u001b[0m\u001b[0mn\u001b[0m\u001b[0;34m)\u001b[0m\u001b[0;34m\u001b[0m\u001b[0;34m\u001b[0m\u001b[0m\n\u001b[0;32m--> 212\u001b[0;31m         \u001b[0mevaluate\u001b[0m\u001b[0;34m(\u001b[0m\u001b[0mval_loader\u001b[0m\u001b[0;34m)\u001b[0m\u001b[0;34m\u001b[0m\u001b[0;34m\u001b[0m\u001b[0m\n\u001b[0m\u001b[1;32m    213\u001b[0m \u001b[0;34m\u001b[0m\u001b[0m\n\u001b[1;32m    214\u001b[0m     \u001b[0;31m#better_model\u001b[0m\u001b[0;34m\u001b[0m\u001b[0;34m\u001b[0m\u001b[0;34m\u001b[0m\u001b[0m\n",
            "\u001b[0;32m<ipython-input-90-ed594bf618ec>\u001b[0m in \u001b[0;36mevaluate\u001b[0;34m(data_loader)\u001b[0m\n\u001b[1;32m    182\u001b[0m         \u001b[0mcorrect\u001b[0m \u001b[0;34m=\u001b[0m \u001b[0;36m0\u001b[0m\u001b[0;34m\u001b[0m\u001b[0;34m\u001b[0m\u001b[0m\n\u001b[1;32m    183\u001b[0m \u001b[0;34m\u001b[0m\u001b[0m\n\u001b[0;32m--> 184\u001b[0;31m         \u001b[0;32mfor\u001b[0m \u001b[0mdata\u001b[0m\u001b[0;34m,\u001b[0m \u001b[0mtarget\u001b[0m \u001b[0;32min\u001b[0m \u001b[0mdata_loader\u001b[0m\u001b[0;34m:\u001b[0m\u001b[0;34m\u001b[0m\u001b[0;34m\u001b[0m\u001b[0m\n\u001b[0m\u001b[1;32m    185\u001b[0m             \u001b[0mdata\u001b[0m \u001b[0;34m=\u001b[0m \u001b[0mdata\u001b[0m\u001b[0;34m.\u001b[0m\u001b[0munsqueeze\u001b[0m\u001b[0;34m(\u001b[0m\u001b[0;36m1\u001b[0m\u001b[0;34m)\u001b[0m\u001b[0;34m\u001b[0m\u001b[0;34m\u001b[0m\u001b[0m\n\u001b[1;32m    186\u001b[0m             \u001b[0mdata\u001b[0m\u001b[0;34m,\u001b[0m \u001b[0mtarget\u001b[0m \u001b[0;34m=\u001b[0m \u001b[0mdata\u001b[0m\u001b[0;34m,\u001b[0m \u001b[0mtarget\u001b[0m\u001b[0;34m\u001b[0m\u001b[0;34m\u001b[0m\u001b[0m\n",
            "\u001b[0;32m/usr/local/lib/python3.6/dist-packages/torch/utils/data/dataloader.py\u001b[0m in \u001b[0;36m__next__\u001b[0;34m(self)\u001b[0m\n\u001b[1;32m    343\u001b[0m \u001b[0;34m\u001b[0m\u001b[0m\n\u001b[1;32m    344\u001b[0m     \u001b[0;32mdef\u001b[0m \u001b[0m__next__\u001b[0m\u001b[0;34m(\u001b[0m\u001b[0mself\u001b[0m\u001b[0;34m)\u001b[0m\u001b[0;34m:\u001b[0m\u001b[0;34m\u001b[0m\u001b[0;34m\u001b[0m\u001b[0m\n\u001b[0;32m--> 345\u001b[0;31m         \u001b[0mdata\u001b[0m \u001b[0;34m=\u001b[0m \u001b[0mself\u001b[0m\u001b[0;34m.\u001b[0m\u001b[0m_next_data\u001b[0m\u001b[0;34m(\u001b[0m\u001b[0;34m)\u001b[0m\u001b[0;34m\u001b[0m\u001b[0;34m\u001b[0m\u001b[0m\n\u001b[0m\u001b[1;32m    346\u001b[0m         \u001b[0mself\u001b[0m\u001b[0;34m.\u001b[0m\u001b[0m_num_yielded\u001b[0m \u001b[0;34m+=\u001b[0m \u001b[0;36m1\u001b[0m\u001b[0;34m\u001b[0m\u001b[0;34m\u001b[0m\u001b[0m\n\u001b[1;32m    347\u001b[0m         \u001b[0;32mif\u001b[0m \u001b[0mself\u001b[0m\u001b[0;34m.\u001b[0m\u001b[0m_dataset_kind\u001b[0m \u001b[0;34m==\u001b[0m \u001b[0m_DatasetKind\u001b[0m\u001b[0;34m.\u001b[0m\u001b[0mIterable\u001b[0m \u001b[0;32mand\u001b[0m\u001b[0;31m \u001b[0m\u001b[0;31m\\\u001b[0m\u001b[0;34m\u001b[0m\u001b[0;34m\u001b[0m\u001b[0m\n",
            "\u001b[0;32m/usr/local/lib/python3.6/dist-packages/torch/utils/data/dataloader.py\u001b[0m in \u001b[0;36m_next_data\u001b[0;34m(self)\u001b[0m\n\u001b[1;32m    839\u001b[0m \u001b[0;34m\u001b[0m\u001b[0m\n\u001b[1;32m    840\u001b[0m             \u001b[0;32massert\u001b[0m \u001b[0;32mnot\u001b[0m \u001b[0mself\u001b[0m\u001b[0;34m.\u001b[0m\u001b[0m_shutdown\u001b[0m \u001b[0;32mand\u001b[0m \u001b[0mself\u001b[0m\u001b[0;34m.\u001b[0m\u001b[0m_tasks_outstanding\u001b[0m \u001b[0;34m>\u001b[0m \u001b[0;36m0\u001b[0m\u001b[0;34m\u001b[0m\u001b[0;34m\u001b[0m\u001b[0m\n\u001b[0;32m--> 841\u001b[0;31m             \u001b[0midx\u001b[0m\u001b[0;34m,\u001b[0m \u001b[0mdata\u001b[0m \u001b[0;34m=\u001b[0m \u001b[0mself\u001b[0m\u001b[0;34m.\u001b[0m\u001b[0m_get_data\u001b[0m\u001b[0;34m(\u001b[0m\u001b[0;34m)\u001b[0m\u001b[0;34m\u001b[0m\u001b[0;34m\u001b[0m\u001b[0m\n\u001b[0m\u001b[1;32m    842\u001b[0m             \u001b[0mself\u001b[0m\u001b[0;34m.\u001b[0m\u001b[0m_tasks_outstanding\u001b[0m \u001b[0;34m-=\u001b[0m \u001b[0;36m1\u001b[0m\u001b[0;34m\u001b[0m\u001b[0;34m\u001b[0m\u001b[0m\n\u001b[1;32m    843\u001b[0m \u001b[0;34m\u001b[0m\u001b[0m\n",
            "\u001b[0;32m/usr/local/lib/python3.6/dist-packages/torch/utils/data/dataloader.py\u001b[0m in \u001b[0;36m_get_data\u001b[0;34m(self)\u001b[0m\n\u001b[1;32m    806\u001b[0m         \u001b[0;32melse\u001b[0m\u001b[0;34m:\u001b[0m\u001b[0;34m\u001b[0m\u001b[0;34m\u001b[0m\u001b[0m\n\u001b[1;32m    807\u001b[0m             \u001b[0;32mwhile\u001b[0m \u001b[0;32mTrue\u001b[0m\u001b[0;34m:\u001b[0m\u001b[0;34m\u001b[0m\u001b[0;34m\u001b[0m\u001b[0m\n\u001b[0;32m--> 808\u001b[0;31m                 \u001b[0msuccess\u001b[0m\u001b[0;34m,\u001b[0m \u001b[0mdata\u001b[0m \u001b[0;34m=\u001b[0m \u001b[0mself\u001b[0m\u001b[0;34m.\u001b[0m\u001b[0m_try_get_data\u001b[0m\u001b[0;34m(\u001b[0m\u001b[0;34m)\u001b[0m\u001b[0;34m\u001b[0m\u001b[0;34m\u001b[0m\u001b[0m\n\u001b[0m\u001b[1;32m    809\u001b[0m                 \u001b[0;32mif\u001b[0m \u001b[0msuccess\u001b[0m\u001b[0;34m:\u001b[0m\u001b[0;34m\u001b[0m\u001b[0;34m\u001b[0m\u001b[0m\n\u001b[1;32m    810\u001b[0m                     \u001b[0;32mreturn\u001b[0m \u001b[0mdata\u001b[0m\u001b[0;34m\u001b[0m\u001b[0;34m\u001b[0m\u001b[0m\n",
            "\u001b[0;32m/usr/local/lib/python3.6/dist-packages/torch/utils/data/dataloader.py\u001b[0m in \u001b[0;36m_try_get_data\u001b[0;34m(self, timeout)\u001b[0m\n\u001b[1;32m    759\u001b[0m         \u001b[0;31m#   (bool: whether successfully get data, any: data if successful else None)\u001b[0m\u001b[0;34m\u001b[0m\u001b[0;34m\u001b[0m\u001b[0;34m\u001b[0m\u001b[0m\n\u001b[1;32m    760\u001b[0m         \u001b[0;32mtry\u001b[0m\u001b[0;34m:\u001b[0m\u001b[0;34m\u001b[0m\u001b[0;34m\u001b[0m\u001b[0m\n\u001b[0;32m--> 761\u001b[0;31m             \u001b[0mdata\u001b[0m \u001b[0;34m=\u001b[0m \u001b[0mself\u001b[0m\u001b[0;34m.\u001b[0m\u001b[0m_data_queue\u001b[0m\u001b[0;34m.\u001b[0m\u001b[0mget\u001b[0m\u001b[0;34m(\u001b[0m\u001b[0mtimeout\u001b[0m\u001b[0;34m=\u001b[0m\u001b[0mtimeout\u001b[0m\u001b[0;34m)\u001b[0m\u001b[0;34m\u001b[0m\u001b[0;34m\u001b[0m\u001b[0m\n\u001b[0m\u001b[1;32m    762\u001b[0m             \u001b[0;32mreturn\u001b[0m \u001b[0;34m(\u001b[0m\u001b[0;32mTrue\u001b[0m\u001b[0;34m,\u001b[0m \u001b[0mdata\u001b[0m\u001b[0;34m)\u001b[0m\u001b[0;34m\u001b[0m\u001b[0;34m\u001b[0m\u001b[0m\n\u001b[1;32m    763\u001b[0m         \u001b[0;32mexcept\u001b[0m \u001b[0mException\u001b[0m \u001b[0;32mas\u001b[0m \u001b[0me\u001b[0m\u001b[0;34m:\u001b[0m\u001b[0;34m\u001b[0m\u001b[0;34m\u001b[0m\u001b[0m\n",
            "\u001b[0;32m/usr/lib/python3.6/multiprocessing/queues.py\u001b[0m in \u001b[0;36mget\u001b[0;34m(self, block, timeout)\u001b[0m\n\u001b[1;32m    111\u001b[0m                 \u001b[0mself\u001b[0m\u001b[0;34m.\u001b[0m\u001b[0m_rlock\u001b[0m\u001b[0;34m.\u001b[0m\u001b[0mrelease\u001b[0m\u001b[0;34m(\u001b[0m\u001b[0;34m)\u001b[0m\u001b[0;34m\u001b[0m\u001b[0;34m\u001b[0m\u001b[0m\n\u001b[1;32m    112\u001b[0m         \u001b[0;31m# unserialize the data after having released the lock\u001b[0m\u001b[0;34m\u001b[0m\u001b[0;34m\u001b[0m\u001b[0;34m\u001b[0m\u001b[0m\n\u001b[0;32m--> 113\u001b[0;31m         \u001b[0;32mreturn\u001b[0m \u001b[0m_ForkingPickler\u001b[0m\u001b[0;34m.\u001b[0m\u001b[0mloads\u001b[0m\u001b[0;34m(\u001b[0m\u001b[0mres\u001b[0m\u001b[0;34m)\u001b[0m\u001b[0;34m\u001b[0m\u001b[0;34m\u001b[0m\u001b[0m\n\u001b[0m\u001b[1;32m    114\u001b[0m \u001b[0;34m\u001b[0m\u001b[0m\n\u001b[1;32m    115\u001b[0m     \u001b[0;32mdef\u001b[0m \u001b[0mqsize\u001b[0m\u001b[0;34m(\u001b[0m\u001b[0mself\u001b[0m\u001b[0;34m)\u001b[0m\u001b[0;34m:\u001b[0m\u001b[0;34m\u001b[0m\u001b[0;34m\u001b[0m\u001b[0m\n",
            "\u001b[0;32m/usr/local/lib/python3.6/dist-packages/torch/multiprocessing/reductions.py\u001b[0m in \u001b[0;36mrebuild_storage_fd\u001b[0;34m(cls, df, size)\u001b[0m\n\u001b[1;32m    292\u001b[0m                     \u001b[0;32mraise\u001b[0m\u001b[0;34m\u001b[0m\u001b[0;34m\u001b[0m\u001b[0m\n\u001b[1;32m    293\u001b[0m     \u001b[0;32melse\u001b[0m\u001b[0;34m:\u001b[0m\u001b[0;34m\u001b[0m\u001b[0;34m\u001b[0m\u001b[0m\n\u001b[0;32m--> 294\u001b[0;31m         \u001b[0mfd\u001b[0m \u001b[0;34m=\u001b[0m \u001b[0mdf\u001b[0m\u001b[0;34m.\u001b[0m\u001b[0mdetach\u001b[0m\u001b[0;34m(\u001b[0m\u001b[0;34m)\u001b[0m\u001b[0;34m\u001b[0m\u001b[0;34m\u001b[0m\u001b[0m\n\u001b[0m\u001b[1;32m    295\u001b[0m     \u001b[0;32mtry\u001b[0m\u001b[0;34m:\u001b[0m\u001b[0;34m\u001b[0m\u001b[0;34m\u001b[0m\u001b[0m\n\u001b[1;32m    296\u001b[0m         \u001b[0mstorage\u001b[0m \u001b[0;34m=\u001b[0m \u001b[0mstorage_from_cache\u001b[0m\u001b[0;34m(\u001b[0m\u001b[0mcls\u001b[0m\u001b[0;34m,\u001b[0m \u001b[0mfd_id\u001b[0m\u001b[0;34m(\u001b[0m\u001b[0mfd\u001b[0m\u001b[0;34m)\u001b[0m\u001b[0;34m)\u001b[0m\u001b[0;34m\u001b[0m\u001b[0;34m\u001b[0m\u001b[0m\n",
            "\u001b[0;32m/usr/lib/python3.6/multiprocessing/resource_sharer.py\u001b[0m in \u001b[0;36mdetach\u001b[0;34m(self)\u001b[0m\n\u001b[1;32m     55\u001b[0m         \u001b[0;32mdef\u001b[0m \u001b[0mdetach\u001b[0m\u001b[0;34m(\u001b[0m\u001b[0mself\u001b[0m\u001b[0;34m)\u001b[0m\u001b[0;34m:\u001b[0m\u001b[0;34m\u001b[0m\u001b[0;34m\u001b[0m\u001b[0m\n\u001b[1;32m     56\u001b[0m             \u001b[0;34m'''Get the fd.  This should only be called once.'''\u001b[0m\u001b[0;34m\u001b[0m\u001b[0;34m\u001b[0m\u001b[0m\n\u001b[0;32m---> 57\u001b[0;31m             \u001b[0;32mwith\u001b[0m \u001b[0m_resource_sharer\u001b[0m\u001b[0;34m.\u001b[0m\u001b[0mget_connection\u001b[0m\u001b[0;34m(\u001b[0m\u001b[0mself\u001b[0m\u001b[0;34m.\u001b[0m\u001b[0m_id\u001b[0m\u001b[0;34m)\u001b[0m \u001b[0;32mas\u001b[0m \u001b[0mconn\u001b[0m\u001b[0;34m:\u001b[0m\u001b[0;34m\u001b[0m\u001b[0;34m\u001b[0m\u001b[0m\n\u001b[0m\u001b[1;32m     58\u001b[0m                 \u001b[0;32mreturn\u001b[0m \u001b[0mreduction\u001b[0m\u001b[0;34m.\u001b[0m\u001b[0mrecv_handle\u001b[0m\u001b[0;34m(\u001b[0m\u001b[0mconn\u001b[0m\u001b[0;34m)\u001b[0m\u001b[0;34m\u001b[0m\u001b[0;34m\u001b[0m\u001b[0m\n\u001b[1;32m     59\u001b[0m \u001b[0;34m\u001b[0m\u001b[0m\n",
            "\u001b[0;32m/usr/lib/python3.6/multiprocessing/resource_sharer.py\u001b[0m in \u001b[0;36mget_connection\u001b[0;34m(ident)\u001b[0m\n\u001b[1;32m     86\u001b[0m         \u001b[0maddress\u001b[0m\u001b[0;34m,\u001b[0m \u001b[0mkey\u001b[0m \u001b[0;34m=\u001b[0m \u001b[0mident\u001b[0m\u001b[0;34m\u001b[0m\u001b[0;34m\u001b[0m\u001b[0m\n\u001b[1;32m     87\u001b[0m         \u001b[0mc\u001b[0m \u001b[0;34m=\u001b[0m \u001b[0mClient\u001b[0m\u001b[0;34m(\u001b[0m\u001b[0maddress\u001b[0m\u001b[0;34m,\u001b[0m \u001b[0mauthkey\u001b[0m\u001b[0;34m=\u001b[0m\u001b[0mprocess\u001b[0m\u001b[0;34m.\u001b[0m\u001b[0mcurrent_process\u001b[0m\u001b[0;34m(\u001b[0m\u001b[0;34m)\u001b[0m\u001b[0;34m.\u001b[0m\u001b[0mauthkey\u001b[0m\u001b[0;34m)\u001b[0m\u001b[0;34m\u001b[0m\u001b[0;34m\u001b[0m\u001b[0m\n\u001b[0;32m---> 88\u001b[0;31m         \u001b[0mc\u001b[0m\u001b[0;34m.\u001b[0m\u001b[0msend\u001b[0m\u001b[0;34m(\u001b[0m\u001b[0;34m(\u001b[0m\u001b[0mkey\u001b[0m\u001b[0;34m,\u001b[0m \u001b[0mos\u001b[0m\u001b[0;34m.\u001b[0m\u001b[0mgetpid\u001b[0m\u001b[0;34m(\u001b[0m\u001b[0;34m)\u001b[0m\u001b[0;34m)\u001b[0m\u001b[0;34m)\u001b[0m\u001b[0;34m\u001b[0m\u001b[0;34m\u001b[0m\u001b[0m\n\u001b[0m\u001b[1;32m     89\u001b[0m         \u001b[0;32mreturn\u001b[0m \u001b[0mc\u001b[0m\u001b[0;34m\u001b[0m\u001b[0;34m\u001b[0m\u001b[0m\n\u001b[1;32m     90\u001b[0m \u001b[0;34m\u001b[0m\u001b[0m\n",
            "\u001b[0;32m/usr/lib/python3.6/multiprocessing/connection.py\u001b[0m in \u001b[0;36msend\u001b[0;34m(self, obj)\u001b[0m\n\u001b[1;32m    204\u001b[0m         \u001b[0mself\u001b[0m\u001b[0;34m.\u001b[0m\u001b[0m_check_closed\u001b[0m\u001b[0;34m(\u001b[0m\u001b[0;34m)\u001b[0m\u001b[0;34m\u001b[0m\u001b[0;34m\u001b[0m\u001b[0m\n\u001b[1;32m    205\u001b[0m         \u001b[0mself\u001b[0m\u001b[0;34m.\u001b[0m\u001b[0m_check_writable\u001b[0m\u001b[0;34m(\u001b[0m\u001b[0;34m)\u001b[0m\u001b[0;34m\u001b[0m\u001b[0;34m\u001b[0m\u001b[0m\n\u001b[0;32m--> 206\u001b[0;31m         \u001b[0mself\u001b[0m\u001b[0;34m.\u001b[0m\u001b[0m_send_bytes\u001b[0m\u001b[0;34m(\u001b[0m\u001b[0m_ForkingPickler\u001b[0m\u001b[0;34m.\u001b[0m\u001b[0mdumps\u001b[0m\u001b[0;34m(\u001b[0m\u001b[0mobj\u001b[0m\u001b[0;34m)\u001b[0m\u001b[0;34m)\u001b[0m\u001b[0;34m\u001b[0m\u001b[0;34m\u001b[0m\u001b[0m\n\u001b[0m\u001b[1;32m    207\u001b[0m \u001b[0;34m\u001b[0m\u001b[0m\n\u001b[1;32m    208\u001b[0m     \u001b[0;32mdef\u001b[0m \u001b[0mrecv_bytes\u001b[0m\u001b[0;34m(\u001b[0m\u001b[0mself\u001b[0m\u001b[0;34m,\u001b[0m \u001b[0mmaxlength\u001b[0m\u001b[0;34m=\u001b[0m\u001b[0;32mNone\u001b[0m\u001b[0;34m)\u001b[0m\u001b[0;34m:\u001b[0m\u001b[0;34m\u001b[0m\u001b[0;34m\u001b[0m\u001b[0m\n",
            "\u001b[0;32m/usr/lib/python3.6/multiprocessing/reduction.py\u001b[0m in \u001b[0;36mdumps\u001b[0;34m(cls, obj, protocol)\u001b[0m\n\u001b[1;32m     49\u001b[0m     \u001b[0;32mdef\u001b[0m \u001b[0mdumps\u001b[0m\u001b[0;34m(\u001b[0m\u001b[0mcls\u001b[0m\u001b[0;34m,\u001b[0m \u001b[0mobj\u001b[0m\u001b[0;34m,\u001b[0m \u001b[0mprotocol\u001b[0m\u001b[0;34m=\u001b[0m\u001b[0;32mNone\u001b[0m\u001b[0;34m)\u001b[0m\u001b[0;34m:\u001b[0m\u001b[0;34m\u001b[0m\u001b[0;34m\u001b[0m\u001b[0m\n\u001b[1;32m     50\u001b[0m         \u001b[0mbuf\u001b[0m \u001b[0;34m=\u001b[0m \u001b[0mio\u001b[0m\u001b[0;34m.\u001b[0m\u001b[0mBytesIO\u001b[0m\u001b[0;34m(\u001b[0m\u001b[0;34m)\u001b[0m\u001b[0;34m\u001b[0m\u001b[0;34m\u001b[0m\u001b[0m\n\u001b[0;32m---> 51\u001b[0;31m         \u001b[0mcls\u001b[0m\u001b[0;34m(\u001b[0m\u001b[0mbuf\u001b[0m\u001b[0;34m,\u001b[0m \u001b[0mprotocol\u001b[0m\u001b[0;34m)\u001b[0m\u001b[0;34m.\u001b[0m\u001b[0mdump\u001b[0m\u001b[0;34m(\u001b[0m\u001b[0mobj\u001b[0m\u001b[0;34m)\u001b[0m\u001b[0;34m\u001b[0m\u001b[0;34m\u001b[0m\u001b[0m\n\u001b[0m\u001b[1;32m     52\u001b[0m         \u001b[0;32mreturn\u001b[0m \u001b[0mbuf\u001b[0m\u001b[0;34m.\u001b[0m\u001b[0mgetbuffer\u001b[0m\u001b[0;34m(\u001b[0m\u001b[0;34m)\u001b[0m\u001b[0;34m\u001b[0m\u001b[0;34m\u001b[0m\u001b[0m\n\u001b[1;32m     53\u001b[0m \u001b[0;34m\u001b[0m\u001b[0m\n",
            "\u001b[0;32m/usr/lib/python3.6/multiprocessing/reduction.py\u001b[0m in \u001b[0;36m__init__\u001b[0;34m(self, *args)\u001b[0m\n\u001b[1;32m     39\u001b[0m         \u001b[0msuper\u001b[0m\u001b[0;34m(\u001b[0m\u001b[0;34m)\u001b[0m\u001b[0;34m.\u001b[0m\u001b[0m__init__\u001b[0m\u001b[0;34m(\u001b[0m\u001b[0;34m*\u001b[0m\u001b[0margs\u001b[0m\u001b[0;34m)\u001b[0m\u001b[0;34m\u001b[0m\u001b[0;34m\u001b[0m\u001b[0m\n\u001b[1;32m     40\u001b[0m         \u001b[0mself\u001b[0m\u001b[0;34m.\u001b[0m\u001b[0mdispatch_table\u001b[0m \u001b[0;34m=\u001b[0m \u001b[0mself\u001b[0m\u001b[0;34m.\u001b[0m\u001b[0m_copyreg_dispatch_table\u001b[0m\u001b[0;34m.\u001b[0m\u001b[0mcopy\u001b[0m\u001b[0;34m(\u001b[0m\u001b[0;34m)\u001b[0m\u001b[0;34m\u001b[0m\u001b[0;34m\u001b[0m\u001b[0m\n\u001b[0;32m---> 41\u001b[0;31m         \u001b[0mself\u001b[0m\u001b[0;34m.\u001b[0m\u001b[0mdispatch_table\u001b[0m\u001b[0;34m.\u001b[0m\u001b[0mupdate\u001b[0m\u001b[0;34m(\u001b[0m\u001b[0mself\u001b[0m\u001b[0;34m.\u001b[0m\u001b[0m_extra_reducers\u001b[0m\u001b[0;34m)\u001b[0m\u001b[0;34m\u001b[0m\u001b[0;34m\u001b[0m\u001b[0m\n\u001b[0m\u001b[1;32m     42\u001b[0m \u001b[0;34m\u001b[0m\u001b[0m\n\u001b[1;32m     43\u001b[0m     \u001b[0;34m@\u001b[0m\u001b[0mclassmethod\u001b[0m\u001b[0;34m\u001b[0m\u001b[0;34m\u001b[0m\u001b[0m\n",
            "\u001b[0;31mKeyboardInterrupt\u001b[0m: "
          ]
        }
      ]
    },
    {
      "cell_type": "code",
      "metadata": {
        "id": "cLR3oJhbzYJ8",
        "colab_type": "code",
        "colab": {
          "base_uri": "https://localhost:8080/",
          "height": 1000
        },
        "outputId": "4a2946c4-98d3-416b-af93-46679ed1b893"
      },
      "source": [
        "sample_subm = r'/gdrive/My Drive/datasets/sample_submission.csv'\n",
        "submission_df = pd.read_csv(sample_subm)    \n",
        "\n",
        "submission_df['Label'] = test_set_preds.numpy().squeeze()\n",
        "print(submission_df.iloc[:16, :2])\n",
        "#submission_df.head()\n",
        "#print(test_set_preds)\n",
        "y_pred = submission_df['Label'].values\n",
        "\n",
        "fig, axis = plt.subplots(4, 4, figsize=(12, 14))\n",
        "for i, ax in enumerate(axis.flat):\n",
        "    ax.imshow(test_images[i], cmap='binary')\n",
        "    ax.set(title = f\"Predict Number is {y_pred[i]}\");\n",
        "\n"
      ],
      "execution_count": 86,
      "outputs": [
        {
          "output_type": "stream",
          "text": [
            "    ImageId  Label\n",
            "0         1      3\n",
            "1         2      1\n",
            "2         3      3\n",
            "3         4      7\n",
            "4         5      0\n",
            "5         6      1\n",
            "6         7      3\n",
            "7         8      7\n",
            "8         9      2\n",
            "9        10      8\n",
            "10       11      7\n",
            "11       12      1\n",
            "12       13      7\n",
            "13       14      2\n",
            "14       15      4\n",
            "15       16      6\n"
          ],
          "name": "stdout"
        },
        {
          "output_type": "display_data",
          "data": {
            "image/png": "[encoded data removed]",
            "text/plain": [
              "<Figure size 864x1008 with 16 Axes>"
            ]
          },
          "metadata": {
            "tags": [],
            "needs_background": "light"
          }
        }
      ]
    },
    {
      "cell_type": "markdown",
      "metadata": {
        "id": "ipZ_y5Mkk7LD",
        "colab_type": "text"
      },
      "source": [
        "# **Plot Negative Log Likelihood**"
      ]
    },
    {
      "cell_type": "code",
      "metadata": {
        "id": "NGPq2McTMT_z",
        "colab_type": "code",
        "outputId": "777ae18c-d367-4921-bacc-93227e08237e",
        "colab": {
          "base_uri": "https://localhost:8080/",
          "height": 188
        }
      },
      "source": [
        "    fig = plt.figure()\n",
        "    plt.plot(train_counter, train_losses, color='blue')\n",
        "    plt.scatter(test_counter, test_losses, color='red')\n",
        "    plt.legend(['Train Loss', 'Test Loss'], loc='upper right')\n",
        "    plt.xlabel('Number of Training Examples')\n",
        "    plt.ylabel('Negative Log Likelihood Loss')\n",
        "    plt.show()\n"
      ],
      "execution_count": 87,
      "outputs": [
        {
          "output_type": "display_data",
          "data": {
            "image/png": "[encoded data removed]",
            "text/plain": [
              "<Figure size 720x144 with 1 Axes>"
            ]
          },
          "metadata": {
            "tags": [],
            "needs_background": "light"
          }
        }
      ]
    }
  ]
}