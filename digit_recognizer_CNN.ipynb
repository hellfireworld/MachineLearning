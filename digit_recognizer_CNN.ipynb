{
  "nbformat": 4,
  "nbformat_minor": 0,
  "metadata": {
    "colab": {
      "name": "digit_recognizer_CNN.ipynb",
      "provenance": [],
      "collapsed_sections": [],
      "toc_visible": true,
      "authorship_tag": "ABX9TyOtI7pprYno3K1FHYitxMUQ",
      "include_colab_link": true
    },
    "kernelspec": {
      "name": "python3",
      "display_name": "Python 3"
    }
  },
  "cells": [
    {
      "cell_type": "markdown",
      "metadata": {
        "id": "view-in-github",
        "colab_type": "text"
      },
      "source": [
        "<a href=\"https://colab.research.google.com/github/hellfireworld/MachineLearning/blob/master/digit_recognizer_CNN.ipynb\" target=\"_parent\"><img src=\"https://colab.research.google.com/assets/colab-badge.svg\" alt=\"Open In Colab\"/></a>"
      ]
    },
    {
      "cell_type": "markdown",
      "metadata": {
        "id": "tqY1kdco2Lo5",
        "colab_type": "text"
      },
      "source": [
        "***Alexandros_Tsevrenis_MTN1914***"
      ]
    },
    {
      "cell_type": "markdown",
      "metadata": {
        "id": "9XmWmaxg2WPT",
        "colab_type": "text"
      },
      "source": [
        "# **Import essential libraries**"
      ]
    },
    {
      "cell_type": "code",
      "metadata": {
        "id": "Pjf7ccYzbeDJ",
        "colab_type": "code",
        "colab": {
          "base_uri": "https://localhost:8080/",
          "height": 51
        },
        "outputId": "7e91ad63-3b11-4796-f8e4-677675e9bc3e"
      },
      "source": [
        "import seaborn as sns\n",
        "import matplotlib.pyplot as plt\n",
        "import pandas as pd\n",
        "import sys\n",
        "import io\n",
        "from sklearn.model_selection import KFold\n",
        "from sklearn.model_selection import train_test_split\n",
        "from sklearn import metrics\n",
        "from sklearn.preprocessing import scale\n",
        "from sklearn.svm import SVC\n",
        "from sklearn.model_selection import GridSearchCV\n",
        "import IPython\n",
        "from IPython.display import Image\n",
        "import pydotplus\n",
        "\n",
        "#pytorch utility imports\n",
        "import torch\n",
        "import torchvision\n",
        "import torchvision.transforms as transforms\n",
        "from torch.utils.data import DataLoader, TensorDataset\n",
        "from torchvision.utils import make_grid\n",
        "#neural net imports\n",
        "import torch.nn as nn\n",
        "import torch.nn.functional as F\n",
        "import torch.optim as optim\n",
        "from torch.autograd import Variable"
      ],
      "execution_count": 1,
      "outputs": [
        {
          "output_type": "stream",
          "text": [
            "/usr/local/lib/python3.6/dist-packages/statsmodels/tools/_testing.py:19: FutureWarning: pandas.util.testing is deprecated. Use the functions in the public API at pandas.testing instead.\n",
            "  import pandas.util.testing as tm\n"
          ],
          "name": "stderr"
        }
      ]
    },
    {
      "cell_type": "markdown",
      "metadata": {
        "id": "7_eCpKXg2erq",
        "colab_type": "text"
      },
      "source": [
        "# **Import day.csv file with GOOGLE_COLAB**"
      ]
    },
    {
      "cell_type": "code",
      "metadata": {
        "id": "nKWZmVw1bpc-",
        "colab_type": "code",
        "colab": {}
      },
      "source": [
        "from google.colab import files"
      ],
      "execution_count": 0,
      "outputs": []
    },
    {
      "cell_type": "code",
      "metadata": {
        "id": "QNlZdL5B4pbb",
        "colab_type": "code",
        "outputId": "1b980b68-ab33-4a40-f4dd-46e638a6c759",
        "colab": {
          "base_uri": "https://localhost:8080/",
          "height": 139
        }
      },
      "source": [
        "from google.colab import drive\n",
        "drive.mount('/gdrive')\n",
        "%cd /gdrive"
      ],
      "execution_count": 3,
      "outputs": [
        {
          "output_type": "stream",
          "text": [
            "Go to this URL in a browser: https://accounts.google.com/o/oauth2/auth?client_id=947318989803-6bn6qk8qdgf4n4g3pfee6491hc0brc4i.apps.googleusercontent.com&redirect_uri=urn%3aietf%3awg%3aoauth%3a2.0%3aoob&response_type=code&scope=email%20https%3a%2f%2fwww.googleapis.com%2fauth%2fdocs.test%20https%3a%2f%2fwww.googleapis.com%2fauth%2fdrive%20https%3a%2f%2fwww.googleapis.com%2fauth%2fdrive.photos.readonly%20https%3a%2f%2fwww.googleapis.com%2fauth%2fpeopleapi.readonly\n",
            "\n",
            "Enter your authorization code:\n",
            "··········\n",
            "Mounted at /gdrive\n",
            "/gdrive\n"
          ],
          "name": "stdout"
        }
      ]
    },
    {
      "cell_type": "code",
      "metadata": {
        "id": "kaGkGneK6eS2",
        "colab_type": "code",
        "colab": {}
      },
      "source": [
        "file_train = r'/gdrive/My Drive/datasets/digit_recognizer_dataset_train.csv'\n",
        "file_test = r'/gdrive/My Drive/datasets/digit_recognizer_dataset_test.csv'"
      ],
      "execution_count": 0,
      "outputs": []
    },
    {
      "cell_type": "code",
      "metadata": {
        "id": "Woqdoc6t7Wb2",
        "colab_type": "code",
        "outputId": "7a63485e-140c-46a9-fa66-e2f4e31f92f1",
        "colab": {
          "base_uri": "https://localhost:8080/",
          "height": 493
        }
      },
      "source": [
        "df = pd.read_csv(file_train)\n",
        "df2 = pd.read_csv(file_test)\n",
        "print(df)\n",
        "print(df2)"
      ],
      "execution_count": 5,
      "outputs": [
        {
          "output_type": "stream",
          "text": [
            "       label  pixel0  pixel1  pixel2  ...  pixel780  pixel781  pixel782  pixel783\n",
            "0          1       0       0       0  ...         0         0         0         0\n",
            "1          0       0       0       0  ...         0         0         0         0\n",
            "2          1       0       0       0  ...         0         0         0         0\n",
            "3          4       0       0       0  ...         0         0         0         0\n",
            "4          0       0       0       0  ...         0         0         0         0\n",
            "...      ...     ...     ...     ...  ...       ...       ...       ...       ...\n",
            "27995      6       0       0       0  ...         0         0         0         0\n",
            "27996      0       0       0       0  ...         0         0         0         0\n",
            "27997      8       0       0       0  ...         0         0         0         0\n",
            "27998      0       0       0       0  ...         0         0         0         0\n",
            "27999      7       0       0       0  ...         0         0         0         0\n",
            "\n",
            "[28000 rows x 785 columns]\n",
            "       pixel0  pixel1  pixel2  pixel3  ...  pixel780  pixel781  pixel782  pixel783\n",
            "0           0       0       0       0  ...         0         0         0         0\n",
            "1           0       0       0       0  ...         0         0         0         0\n",
            "2           0       0       0       0  ...         0         0         0         0\n",
            "3           0       0       0       0  ...         0         0         0         0\n",
            "4           0       0       0       0  ...         0         0         0         0\n",
            "...       ...     ...     ...     ...  ...       ...       ...       ...       ...\n",
            "13995       0       0       0       0  ...         0         0         0         0\n",
            "13996       0       0       0       0  ...         0         0         0         0\n",
            "13997       0       0       0       0  ...         0         0         0         0\n",
            "13998       0       0       0       0  ...         0         0         0         0\n",
            "13999       0       0       0       0  ...         0         0         0         0\n",
            "\n",
            "[14000 rows x 784 columns]\n"
          ],
          "name": "stdout"
        }
      ]
    },
    {
      "cell_type": "code",
      "metadata": {
        "id": "3P1BBFLz6T_Q",
        "colab_type": "code",
        "colab": {
          "base_uri": "https://localhost:8080/",
          "height": 51
        },
        "outputId": "a0885925-d717-4610-f195-a5a0b74b1b57"
      },
      "source": [
        "print(df.shape)\n",
        "print(df2.shape)"
      ],
      "execution_count": 25,
      "outputs": [
        {
          "output_type": "stream",
          "text": [
            "(28000, 785)\n",
            "(14000, 784)\n"
          ],
          "name": "stdout"
        }
      ]
    },
    {
      "cell_type": "markdown",
      "metadata": {
        "id": "gmvdlOFe6FTD",
        "colab_type": "text"
      },
      "source": [
        "# **Plot Digit Nine from dataset**"
      ]
    },
    {
      "cell_type": "code",
      "metadata": {
        "id": "wdifl5zr4kyF",
        "colab_type": "code",
        "colab": {
          "base_uri": "https://localhost:8080/",
          "height": 173
        },
        "outputId": "c937b475-1f0e-4ab2-902a-f397cb482e05"
      },
      "source": [
        "#nine\n",
        "nine = df.iloc[28, 1:]\n",
        "#print(nine.shape)\n",
        "nine = nine.values.reshape(28, 28)\n",
        "plt.imshow(nine, cmap='gray')\n",
        "plt.title(\"Digit 9\")\n",
        "plt.show()"
      ],
      "execution_count": 22,
      "outputs": [
        {
          "output_type": "display_data",
          "data": {
            "image/png": "[encoded data removed]",
            "text/plain": [
              "<Figure size 720x144 with 1 Axes>"
            ]
          },
          "metadata": {
            "tags": []
          }
        }
      ]
    },
    {
      "cell_type": "markdown",
      "metadata": {
        "id": "Nu53LMiW2ovo",
        "colab_type": "text"
      },
      "source": [
        "# **Read the dataset from the CSV file**"
      ]
    },
    {
      "cell_type": "markdown",
      "metadata": {
        "id": "HzT5w0972x4I",
        "colab_type": "text"
      },
      "source": [
        "**Define df variable as day.csv using pandas library.\n",
        "Read separated values (csv) file into DataFrame.**"
      ]
    },
    {
      "cell_type": "code",
      "metadata": {
        "id": "2sYXntfqcHiF",
        "colab_type": "code",
        "colab": {}
      },
      "source": [
        "df = pd.read_csv(io.StringIO(uploaded['digit_recognizer_dataset.csv'].decode('utf-8')))"
      ],
      "execution_count": 0,
      "outputs": []
    },
    {
      "cell_type": "markdown",
      "metadata": {
        "id": "_3OWEpqt4RSW",
        "colab_type": "text"
      },
      "source": [
        "# **Print the shape of our whole data (rows, columns)**"
      ]
    },
    {
      "cell_type": "code",
      "metadata": {
        "id": "_XegB6RGxtoD",
        "colab_type": "code",
        "outputId": "c24c2e92-a3db-4828-f8bc-4fefabec4a68",
        "colab": {
          "base_uri": "https://localhost:8080/",
          "height": 34
        }
      },
      "source": [
        "print(df.shape)\n"
      ],
      "execution_count": 0,
      "outputs": [
        {
          "output_type": "stream",
          "text": [
            "(42000, 785)\n"
          ],
          "name": "stdout"
        }
      ]
    },
    {
      "cell_type": "markdown",
      "metadata": {
        "id": "yGYWZy8P45UU",
        "colab_type": "text"
      },
      "source": [
        "# **Firstly, split the pixelX features from the first column and store them in X, secondly store the first column as the prediction feature/variable as y**"
      ]
    },
    {
      "cell_type": "code",
      "metadata": {
        "id": "dNYNPswI6WbJ",
        "colab_type": "code",
        "colab": {}
      },
      "source": [
        "X = df.iloc[:, 1:]\n",
        "y = df['label']"
      ],
      "execution_count": 0,
      "outputs": []
    },
    {
      "cell_type": "code",
      "metadata": {
        "id": "F9lf5Qdo73g8",
        "colab_type": "code",
        "outputId": "0af4ec1e-42ab-4a3b-a585-ad039cd3b965",
        "colab": {
          "base_uri": "https://localhost:8080/",
          "height": 1000
        }
      },
      "source": [
        "if __name__ == '__main__':\n",
        "    # stops the freeze error\n",
        "    torch.multiprocessing.freeze_support()\n",
        "    print('loop')\n",
        "\n",
        "    # GPU CUDA\n",
        "    # check cuda version\n",
        "    #print(torch.cuda.is_available())\n",
        "    #print(torch.backends.cudnn.enabled)\n",
        "    #if torch.cuda.is_available():\n",
        "    #    device = torch.device('cuda')\n",
        "    #print(device)\n",
        "\n",
        "    train_df = df\n",
        "    test_df = df2\n",
        "    #train_df = df.iloc[:28000, :]\n",
        "    #test_df = df.iloc[28000:, :]\n",
        "\n",
        "    train_labels = train_df['label'].values\n",
        "    train_images = (train_df.iloc[:, 1:].values).astype('float32')\n",
        "    test_images = (test_df.iloc[:, :].values).astype('float32')\n",
        "\n",
        "    # Training and Validation Split\n",
        "    train_images, val_images, train_labels, val_labels = train_test_split(train_images, train_labels,\n",
        "                                                                          stratify=train_labels, random_state=123,\n",
        "                                                                          test_size=0.20)\n",
        "    train_images = train_images.reshape(train_images.shape[0], 28, 28)\n",
        "    val_images = val_images.reshape(val_images.shape[0], 28, 28)\n",
        "    test_images = test_images.reshape(test_images.shape[0], 28, 28)\n",
        "\n",
        "    # train samples\n",
        "    for i in range(6, 9):\n",
        "        plt.subplot(330 + (i + 1))\n",
        "        plt.imshow(train_images[i].squeeze(), cmap=plt.get_cmap('gray'))\n",
        "        plt.title(train_labels[i])\n",
        "\n",
        "    # test samples\n",
        "    for i in range(6, 9):\n",
        "        plt.subplot(330 + (i + 1))\n",
        "        plt.imshow(test_images[i].squeeze(), cmap=plt.get_cmap('gray'))\n",
        "\n",
        "\n",
        "    # train\n",
        "    train_images_tensor = torch.tensor(train_images) / 255.0\n",
        "    train_labels_tensor = torch.tensor(train_labels)\n",
        "    train_tensor = TensorDataset(train_images_tensor, train_labels_tensor)\n",
        "\n",
        "    # val\n",
        "    val_images_tensor = torch.tensor(val_images) / 255.0\n",
        "    val_labels_tensor = torch.tensor(val_labels)\n",
        "    val_tensor = TensorDataset(val_images_tensor, val_labels_tensor)\n",
        "\n",
        "    # test\n",
        "    test_images_tensor = torch.tensor(test_images) / 255.0\n",
        "\n",
        "    train_loader = DataLoader(train_tensor, batch_size=16, num_workers=2, shuffle=True)\n",
        "    val_loader = DataLoader(val_tensor, batch_size=16, num_workers=2, shuffle=True)\n",
        "    test_loader = DataLoader(test_images_tensor, batch_size=16, num_workers=2, shuffle=False)\n",
        "\n",
        "    for batch_idx, (data, target) in enumerate(train_loader):\n",
        "        img_grid = make_grid(data[0:8, ].unsqueeze(1), nrow=8)\n",
        "        img_target_labels = target[0:8, ].numpy()\n",
        "        break\n",
        "\n",
        "    plt.imshow(img_grid.numpy().transpose((1, 2, 0)))\n",
        "    plt.rcParams['figure.figsize'] = (10, 2)\n",
        "    plt.title(img_target_labels, size=16)\n",
        "    plt.show()\n",
        "\n",
        "\n",
        "\n",
        "    class Net(nn.Module):\n",
        "        def __init__(self):\n",
        "            super(Net, self).__init__()\n",
        "\n",
        "            #self.conv_block = nn.Sequential(\n",
        "            #    nn.Conv2d(1, 32, kernel_size=3, stride=1, padding=1),\n",
        "            #    nn.BatchNorm2d(32),\n",
        "            #    nn.ReLU(inplace=True),\n",
        "            #    nn.Conv2d(32, 64, kernel_size=3, stride=1, padding=1),\n",
        "            #    nn.BatchNorm2d(64),\n",
        "            #    nn.ReLU(inplace=True),\n",
        "            #    nn.MaxPool2d(kernel_size=2, stride=2),\n",
        "            #    nn.Conv2d(64, 128, kernel_size=3, stride=1, padding=1),\n",
        "            #    nn.BatchNorm2d(128),\n",
        "            #    nn.ReLU(inplace=True),\n",
        "            #    nn.MaxPool2d(kernel_size=2, stride=2)\n",
        "            #)\n",
        "\n",
        "            self.linear_block = nn.Sequential(\n",
        "                nn.Linear(784, 128),\n",
        "                nn.BatchNorm1d(128),\n",
        "                nn.ReLU(inplace=True),\n",
        "                nn.Dropout(0.5),\n",
        "                nn.Linear(128, 64),\n",
        "                nn.BatchNorm1d(64),\n",
        "                nn.ReLU(inplace=True),\n",
        "                nn.Dropout(0.5),\n",
        "                nn.Linear(64, 10),\n",
        "                nn.LogSoftmax(dim=1)\n",
        "            )\n",
        "\n",
        "            #input_size = 784\n",
        "            #hidden_sizes = [128, 64]\n",
        "            #output_size = 10\n",
        "\n",
        "            #model = nn.Sequential(nn.Linear(input_size, hidden_sizes[0]),\n",
        "            #          nn.ReLU(),\n",
        "            #          nn.Linear(hidden_sizes[0], hidden_sizes[1]),\n",
        "            #          nn.ReLU(),\n",
        "            #          nn.Linear(hidden_sizes[1], output_size),\n",
        "            #          nn.LogSoftmax(dim=1))\n",
        "            #print(model)\n",
        "\n",
        "        def forward(self, x):\n",
        "            #x = self.conv_block(x)\n",
        "            x = x.view(x.size(0), -1)\n",
        "            x = self.linear_block(x)\n",
        "\n",
        "            return x\n",
        "\n",
        "    network_model = Net()\n",
        "    print(network_model)\n",
        "\n",
        "    optimizer = optim.Adam(params=network_model.parameters(), lr=0.001)\n",
        "    criterion = nn.CrossEntropyLoss()\n",
        "\n",
        "    exp_lr_scheduler = optim.lr_scheduler.StepLR(optimizer, step_size=7, gamma=0.1)\n",
        "\n",
        "    # GPU CUDA\n",
        "    #if torch.cuda.is_available():\n",
        "    #    network_model = network_model.cuda()\n",
        "    #    criterion = criterion.cuda()\n",
        "\n",
        "    train_losses = []\n",
        "    train_counter = []\n",
        "    test_losses = []\n",
        "    test_counter = [i*len(train_loader.dataset) for i in range(10)]\n",
        "    print('test_counter: ', test_counter)\n",
        "\n",
        "    def train_model(num_epoch):\n",
        "        network_model.train()\n",
        "        exp_lr_scheduler.step()\n",
        "\n",
        "        for batch_idx, (data, target) in enumerate(train_loader):\n",
        "            data = data.unsqueeze(1)\n",
        "            data, target = data, target\n",
        "\n",
        "            # GPU CUDA\n",
        "            #if torch.cuda.is_available():\n",
        "            #    data = data.cuda()\n",
        "            #    target = target.cuda()\n",
        "\n",
        "            optimizer.zero_grad()\n",
        "            output = network_model(data)\n",
        "            loss = criterion(output, target)\n",
        "            loss.backward()\n",
        "            optimizer.step()\n",
        "\n",
        "            if( (batch_idx + 1) % 100 == 0 ):\n",
        "                print('Train Epoch: {} [{}/{} ({:.0f}%)]\\tLoss: {:.6f}'.format(\n",
        "                    num_epoch, (batch_idx + 1) * len(data), len(train_loader.dataset),\n",
        "                               100. * (batch_idx + 1) / len(train_loader), loss.data))\n",
        "                train_losses.append(loss.item())\n",
        "                train_counter.append( (batch_idx+64)+ ((num_epoch-1)*len(train_loader.dataset)))\n",
        "\n",
        "\n",
        "\n",
        "    def evaluate(data_loader):\n",
        "        network_model.eval()\n",
        "        loss = 0\n",
        "        correct = 0\n",
        "\n",
        "        for data, target in data_loader:\n",
        "            data = data.unsqueeze(1)\n",
        "            data, target = data, target\n",
        "\n",
        "            # GPU CUDA\n",
        "            #if torch.cuda.is_available():\n",
        "            #    data = data.cuda()\n",
        "            #    target = target.cuda()\n",
        "\n",
        "            output = network_model(data)\n",
        "\n",
        "            loss += F.cross_entropy(output, target, size_average=False).data\n",
        "            \n",
        "\n",
        "            pred = output.data.max(1, keepdim=True)[1]\n",
        "            correct += pred.eq(target.data.view_as(pred)).cpu().sum()\n",
        "\n",
        "        loss /= len(data_loader.dataset)\n",
        "        test_losses.append(loss.item())\n",
        "        print('test_loss: ', test_losses)\n",
        "\n",
        "        print('\\nAverage Val Loss: {:.4f}, Val Accuracy: {}/{} ({:.3f}%)\\n'.format(loss, correct, len(data_loader.dataset),\n",
        "                                                                                   100. * correct / len(data_loader.dataset)))\n",
        "\n",
        "    num_epochs = 10\n",
        "\n",
        "    for n in range(num_epochs):\n",
        "        train_model(n)\n",
        "        evaluate(val_loader)\n",
        "\n",
        "    #better_model\n",
        "    #for n in range(25):\n",
        "    #    train_model(n)\n",
        "    #    evaluate(val_loader)\n",
        "\n",
        "    def make_predictions(data_loader):\n",
        "        network_model.eval()\n",
        "        test_preds = torch.LongTensor()\n",
        "\n",
        "        for i, data in enumerate(data_loader):\n",
        "            data = data.unsqueeze(1)\n",
        "\n",
        "            # GPU CUDA\n",
        "            #if torch.cuda.is_available():\n",
        "            #    data = data.cuda()\n",
        "\n",
        "            output = network_model(data)\n",
        "\n",
        "            preds = output.cpu().data.max(1, keepdim=True)[1]\n",
        "            test_preds = torch.cat((test_preds, preds), dim=0)\n",
        "\n",
        "        return test_preds\n",
        "\n",
        "    test_set_preds = make_predictions(test_loader)\n",
        "\n",
        "\n",
        "    \n",
        "\n",
        "\n",
        "\n"
      ],
      "execution_count": 26,
      "outputs": [
        {
          "output_type": "stream",
          "text": [
            "loop\n"
          ],
          "name": "stdout"
        },
        {
          "output_type": "stream",
          "text": [
            "/usr/local/lib/python3.6/dist-packages/ipykernel_launcher.py:39: MatplotlibDeprecationWarning: Adding an axes using the same arguments as a previous axes currently reuses the earlier instance.  In a future version, a new instance will always be created and returned.  Meanwhile, this warning can be suppressed, and the future behavior ensured, by passing a unique label to each axes instance.\n",
            "/usr/local/lib/python3.6/dist-packages/matplotlib/text.py:1165: FutureWarning: elementwise comparison failed; returning scalar instead, but in the future will perform elementwise comparison\n",
            "  if s != self._text:\n"
          ],
          "name": "stderr"
        },
        {
          "output_type": "display_data",
          "data": {
            "image/png": "[encoded data removed]",
            "text/plain": [
              "<Figure size 720x144 with 3 Axes>"
            ]
          },
          "metadata": {
            "tags": []
          }
        },
        {
          "output_type": "stream",
          "text": [
            "Net(\n",
            "  (linear_block): Sequential(\n",
            "    (0): Linear(in_features=784, out_features=128, bias=True)\n",
            "    (1): BatchNorm1d(128, eps=1e-05, momentum=0.1, affine=True, track_running_stats=True)\n",
            "    (2): ReLU(inplace=True)\n",
            "    (3): Dropout(p=0.5, inplace=False)\n",
            "    (4): Linear(in_features=128, out_features=64, bias=True)\n",
            "    (5): BatchNorm1d(64, eps=1e-05, momentum=0.1, affine=True, track_running_stats=True)\n",
            "    (6): ReLU(inplace=True)\n",
            "    (7): Dropout(p=0.5, inplace=False)\n",
            "    (8): Linear(in_features=64, out_features=10, bias=True)\n",
            "    (9): LogSoftmax()\n",
            "  )\n",
            ")\n",
            "test_counter:  [0, 22400, 44800, 67200, 89600, 112000, 134400, 156800, 179200, 201600]\n"
          ],
          "name": "stdout"
        },
        {
          "output_type": "stream",
          "text": [
            "/usr/local/lib/python3.6/dist-packages/torch/optim/lr_scheduler.py:122: UserWarning: Detected call of `lr_scheduler.step()` before `optimizer.step()`. In PyTorch 1.1.0 and later, you should call them in the opposite order: `optimizer.step()` before `lr_scheduler.step()`.  Failure to do this will result in PyTorch skipping the first value of the learning rate schedule. See more details at https://pytorch.org/docs/stable/optim.html#how-to-adjust-learning-rate\n",
            "  \"https://pytorch.org/docs/stable/optim.html#how-to-adjust-learning-rate\", UserWarning)\n"
          ],
          "name": "stderr"
        },
        {
          "output_type": "stream",
          "text": [
            "Train Epoch: 0 [1600/22400 (7%)]\tLoss: 1.385081\n",
            "Train Epoch: 0 [3200/22400 (14%)]\tLoss: 0.897590\n",
            "Train Epoch: 0 [4800/22400 (21%)]\tLoss: 0.933806\n",
            "Train Epoch: 0 [6400/22400 (29%)]\tLoss: 0.659019\n",
            "Train Epoch: 0 [8000/22400 (36%)]\tLoss: 0.477629\n",
            "Train Epoch: 0 [9600/22400 (43%)]\tLoss: 0.618165\n",
            "Train Epoch: 0 [11200/22400 (50%)]\tLoss: 0.970161\n",
            "Train Epoch: 0 [12800/22400 (57%)]\tLoss: 0.773747\n",
            "Train Epoch: 0 [14400/22400 (64%)]\tLoss: 0.694093\n",
            "Train Epoch: 0 [16000/22400 (71%)]\tLoss: 0.709674\n",
            "Train Epoch: 0 [17600/22400 (79%)]\tLoss: 0.350966\n",
            "Train Epoch: 0 [19200/22400 (86%)]\tLoss: 0.825055\n",
            "Train Epoch: 0 [20800/22400 (93%)]\tLoss: 0.329682\n",
            "Train Epoch: 0 [22400/22400 (100%)]\tLoss: 0.227514\n"
          ],
          "name": "stdout"
        },
        {
          "output_type": "stream",
          "text": [
            "/usr/local/lib/python3.6/dist-packages/torch/nn/_reduction.py:43: UserWarning: size_average and reduce args will be deprecated, please use reduction='sum' instead.\n",
            "  warnings.warn(warning.format(ret))\n"
          ],
          "name": "stderr"
        },
        {
          "output_type": "stream",
          "text": [
            "test_loss:  [0.2823304831981659]\n",
            "\n",
            "Average Val Loss: 0.2823, Val Accuracy: 5143/5600 (91.839%)\n",
            "\n",
            "Train Epoch: 1 [1600/22400 (7%)]\tLoss: 0.275297\n",
            "Train Epoch: 1 [3200/22400 (14%)]\tLoss: 0.306018\n",
            "Train Epoch: 1 [4800/22400 (21%)]\tLoss: 0.497919\n",
            "Train Epoch: 1 [6400/22400 (29%)]\tLoss: 0.541533\n",
            "Train Epoch: 1 [8000/22400 (36%)]\tLoss: 1.282004\n",
            "Train Epoch: 1 [9600/22400 (43%)]\tLoss: 1.036278\n",
            "Train Epoch: 1 [11200/22400 (50%)]\tLoss: 0.451972\n",
            "Train Epoch: 1 [12800/22400 (57%)]\tLoss: 0.637686\n",
            "Train Epoch: 1 [14400/22400 (64%)]\tLoss: 0.335523\n",
            "Train Epoch: 1 [16000/22400 (71%)]\tLoss: 0.278562\n",
            "Train Epoch: 1 [17600/22400 (79%)]\tLoss: 0.498283\n",
            "Train Epoch: 1 [19200/22400 (86%)]\tLoss: 0.514121\n",
            "Train Epoch: 1 [20800/22400 (93%)]\tLoss: 1.629393\n",
            "Train Epoch: 1 [22400/22400 (100%)]\tLoss: 0.677794\n",
            "test_loss:  [0.2823304831981659, 0.22157493233680725]\n",
            "\n",
            "Average Val Loss: 0.2216, Val Accuracy: 5251/5600 (93.768%)\n",
            "\n",
            "Train Epoch: 2 [1600/22400 (7%)]\tLoss: 0.667714\n",
            "Train Epoch: 2 [3200/22400 (14%)]\tLoss: 1.023840\n",
            "Train Epoch: 2 [4800/22400 (21%)]\tLoss: 0.585551\n",
            "Train Epoch: 2 [6400/22400 (29%)]\tLoss: 0.496962\n",
            "Train Epoch: 2 [8000/22400 (36%)]\tLoss: 0.294657\n",
            "Train Epoch: 2 [9600/22400 (43%)]\tLoss: 0.555194\n",
            "Train Epoch: 2 [11200/22400 (50%)]\tLoss: 0.176829\n",
            "Train Epoch: 2 [12800/22400 (57%)]\tLoss: 0.430750\n",
            "Train Epoch: 2 [14400/22400 (64%)]\tLoss: 0.725933\n",
            "Train Epoch: 2 [16000/22400 (71%)]\tLoss: 0.335231\n",
            "Train Epoch: 2 [17600/22400 (79%)]\tLoss: 0.440150\n",
            "Train Epoch: 2 [19200/22400 (86%)]\tLoss: 0.324054\n",
            "Train Epoch: 2 [20800/22400 (93%)]\tLoss: 0.350897\n",
            "Train Epoch: 2 [22400/22400 (100%)]\tLoss: 0.124330\n",
            "test_loss:  [0.2823304831981659, 0.22157493233680725, 0.1997874677181244]\n",
            "\n",
            "Average Val Loss: 0.1998, Val Accuracy: 5289/5600 (94.446%)\n",
            "\n",
            "Train Epoch: 3 [1600/22400 (7%)]\tLoss: 0.340516\n",
            "Train Epoch: 3 [3200/22400 (14%)]\tLoss: 0.700404\n",
            "Train Epoch: 3 [4800/22400 (21%)]\tLoss: 0.386246\n",
            "Train Epoch: 3 [6400/22400 (29%)]\tLoss: 0.449813\n",
            "Train Epoch: 3 [8000/22400 (36%)]\tLoss: 0.568297\n",
            "Train Epoch: 3 [9600/22400 (43%)]\tLoss: 0.454475\n",
            "Train Epoch: 3 [11200/22400 (50%)]\tLoss: 0.709650\n",
            "Train Epoch: 3 [12800/22400 (57%)]\tLoss: 0.215823\n",
            "Train Epoch: 3 [14400/22400 (64%)]\tLoss: 0.797844\n",
            "Train Epoch: 3 [16000/22400 (71%)]\tLoss: 0.369297\n",
            "Train Epoch: 3 [17600/22400 (79%)]\tLoss: 0.305845\n",
            "Train Epoch: 3 [19200/22400 (86%)]\tLoss: 0.337834\n",
            "Train Epoch: 3 [20800/22400 (93%)]\tLoss: 0.936227\n",
            "Train Epoch: 3 [22400/22400 (100%)]\tLoss: 0.952873\n",
            "test_loss:  [0.2823304831981659, 0.22157493233680725, 0.1997874677181244, 0.1762305200099945]\n",
            "\n",
            "Average Val Loss: 0.1762, Val Accuracy: 5327/5600 (95.125%)\n",
            "\n",
            "Train Epoch: 4 [1600/22400 (7%)]\tLoss: 0.703394\n",
            "Train Epoch: 4 [3200/22400 (14%)]\tLoss: 0.511680\n",
            "Train Epoch: 4 [4800/22400 (21%)]\tLoss: 0.131128\n",
            "Train Epoch: 4 [6400/22400 (29%)]\tLoss: 0.477729\n",
            "Train Epoch: 4 [8000/22400 (36%)]\tLoss: 0.262743\n",
            "Train Epoch: 4 [9600/22400 (43%)]\tLoss: 0.200317\n",
            "Train Epoch: 4 [11200/22400 (50%)]\tLoss: 1.307210\n",
            "Train Epoch: 4 [12800/22400 (57%)]\tLoss: 0.712450\n",
            "Train Epoch: 4 [14400/22400 (64%)]\tLoss: 0.546192\n",
            "Train Epoch: 4 [16000/22400 (71%)]\tLoss: 0.510243\n",
            "Train Epoch: 4 [17600/22400 (79%)]\tLoss: 0.348277\n",
            "Train Epoch: 4 [19200/22400 (86%)]\tLoss: 0.484216\n",
            "Train Epoch: 4 [20800/22400 (93%)]\tLoss: 0.284749\n",
            "Train Epoch: 4 [22400/22400 (100%)]\tLoss: 0.843908\n",
            "test_loss:  [0.2823304831981659, 0.22157493233680725, 0.1997874677181244, 0.1762305200099945, 0.173424631357193]\n",
            "\n",
            "Average Val Loss: 0.1734, Val Accuracy: 5314/5600 (94.893%)\n",
            "\n",
            "Train Epoch: 5 [1600/22400 (7%)]\tLoss: 0.158665\n",
            "Train Epoch: 5 [3200/22400 (14%)]\tLoss: 0.188073\n",
            "Train Epoch: 5 [4800/22400 (21%)]\tLoss: 0.153166\n",
            "Train Epoch: 5 [6400/22400 (29%)]\tLoss: 0.928155\n",
            "Train Epoch: 5 [8000/22400 (36%)]\tLoss: 0.565269\n",
            "Train Epoch: 5 [9600/22400 (43%)]\tLoss: 0.189342\n",
            "Train Epoch: 5 [11200/22400 (50%)]\tLoss: 0.878642\n",
            "Train Epoch: 5 [12800/22400 (57%)]\tLoss: 0.646953\n",
            "Train Epoch: 5 [14400/22400 (64%)]\tLoss: 0.195793\n",
            "Train Epoch: 5 [16000/22400 (71%)]\tLoss: 0.659362\n",
            "Train Epoch: 5 [17600/22400 (79%)]\tLoss: 0.107738\n",
            "Train Epoch: 5 [19200/22400 (86%)]\tLoss: 0.683306\n",
            "Train Epoch: 5 [20800/22400 (93%)]\tLoss: 0.252392\n",
            "Train Epoch: 5 [22400/22400 (100%)]\tLoss: 0.366631\n",
            "test_loss:  [0.2823304831981659, 0.22157493233680725, 0.1997874677181244, 0.1762305200099945, 0.173424631357193, 0.1573449969291687]\n",
            "\n",
            "Average Val Loss: 0.1573, Val Accuracy: 5344/5600 (95.429%)\n",
            "\n",
            "Train Epoch: 6 [1600/22400 (7%)]\tLoss: 0.584134\n",
            "Train Epoch: 6 [3200/22400 (14%)]\tLoss: 0.207286\n",
            "Train Epoch: 6 [4800/22400 (21%)]\tLoss: 0.233521\n",
            "Train Epoch: 6 [6400/22400 (29%)]\tLoss: 0.709976\n",
            "Train Epoch: 6 [8000/22400 (36%)]\tLoss: 0.363293\n",
            "Train Epoch: 6 [9600/22400 (43%)]\tLoss: 0.278105\n",
            "Train Epoch: 6 [11200/22400 (50%)]\tLoss: 0.506681\n",
            "Train Epoch: 6 [12800/22400 (57%)]\tLoss: 0.457104\n",
            "Train Epoch: 6 [14400/22400 (64%)]\tLoss: 0.241947\n",
            "Train Epoch: 6 [16000/22400 (71%)]\tLoss: 0.334245\n",
            "Train Epoch: 6 [17600/22400 (79%)]\tLoss: 0.335661\n",
            "Train Epoch: 6 [19200/22400 (86%)]\tLoss: 0.208021\n",
            "Train Epoch: 6 [20800/22400 (93%)]\tLoss: 0.749921\n",
            "Train Epoch: 6 [22400/22400 (100%)]\tLoss: 0.593440\n",
            "test_loss:  [0.2823304831981659, 0.22157493233680725, 0.1997874677181244, 0.1762305200099945, 0.173424631357193, 0.1573449969291687, 0.14997443556785583]\n",
            "\n",
            "Average Val Loss: 0.1500, Val Accuracy: 5354/5600 (95.607%)\n",
            "\n",
            "Train Epoch: 7 [1600/22400 (7%)]\tLoss: 0.470499\n",
            "Train Epoch: 7 [3200/22400 (14%)]\tLoss: 0.158471\n",
            "Train Epoch: 7 [4800/22400 (21%)]\tLoss: 0.510996\n",
            "Train Epoch: 7 [6400/22400 (29%)]\tLoss: 0.332870\n",
            "Train Epoch: 7 [8000/22400 (36%)]\tLoss: 0.423931\n",
            "Train Epoch: 7 [9600/22400 (43%)]\tLoss: 0.199955\n",
            "Train Epoch: 7 [11200/22400 (50%)]\tLoss: 0.508907\n",
            "Train Epoch: 7 [12800/22400 (57%)]\tLoss: 0.353571\n",
            "Train Epoch: 7 [14400/22400 (64%)]\tLoss: 0.234647\n",
            "Train Epoch: 7 [16000/22400 (71%)]\tLoss: 0.561973\n",
            "Train Epoch: 7 [17600/22400 (79%)]\tLoss: 0.390580\n",
            "Train Epoch: 7 [19200/22400 (86%)]\tLoss: 0.345866\n",
            "Train Epoch: 7 [20800/22400 (93%)]\tLoss: 0.174536\n",
            "Train Epoch: 7 [22400/22400 (100%)]\tLoss: 0.052096\n",
            "test_loss:  [0.2823304831981659, 0.22157493233680725, 0.1997874677181244, 0.1762305200099945, 0.173424631357193, 0.1573449969291687, 0.14997443556785583, 0.14702986180782318]\n",
            "\n",
            "Average Val Loss: 0.1470, Val Accuracy: 5358/5600 (95.679%)\n",
            "\n",
            "Train Epoch: 8 [1600/22400 (7%)]\tLoss: 0.779292\n",
            "Train Epoch: 8 [3200/22400 (14%)]\tLoss: 0.520679\n",
            "Train Epoch: 8 [4800/22400 (21%)]\tLoss: 0.571303\n",
            "Train Epoch: 8 [6400/22400 (29%)]\tLoss: 0.423469\n",
            "Train Epoch: 8 [8000/22400 (36%)]\tLoss: 0.227748\n",
            "Train Epoch: 8 [9600/22400 (43%)]\tLoss: 0.186499\n",
            "Train Epoch: 8 [11200/22400 (50%)]\tLoss: 0.601302\n",
            "Train Epoch: 8 [12800/22400 (57%)]\tLoss: 0.146334\n",
            "Train Epoch: 8 [14400/22400 (64%)]\tLoss: 0.151372\n",
            "Train Epoch: 8 [16000/22400 (71%)]\tLoss: 0.719469\n",
            "Train Epoch: 8 [17600/22400 (79%)]\tLoss: 0.100188\n",
            "Train Epoch: 8 [19200/22400 (86%)]\tLoss: 0.116844\n",
            "Train Epoch: 8 [20800/22400 (93%)]\tLoss: 0.158686\n",
            "Train Epoch: 8 [22400/22400 (100%)]\tLoss: 0.377889\n",
            "test_loss:  [0.2823304831981659, 0.22157493233680725, 0.1997874677181244, 0.1762305200099945, 0.173424631357193, 0.1573449969291687, 0.14997443556785583, 0.14702986180782318, 0.14319849014282227]\n",
            "\n",
            "Average Val Loss: 0.1432, Val Accuracy: 5363/5600 (95.768%)\n",
            "\n",
            "Train Epoch: 9 [1600/22400 (7%)]\tLoss: 0.616195\n",
            "Train Epoch: 9 [3200/22400 (14%)]\tLoss: 0.252617\n",
            "Train Epoch: 9 [4800/22400 (21%)]\tLoss: 0.063208\n",
            "Train Epoch: 9 [6400/22400 (29%)]\tLoss: 0.053115\n",
            "Train Epoch: 9 [8000/22400 (36%)]\tLoss: 0.557405\n",
            "Train Epoch: 9 [9600/22400 (43%)]\tLoss: 0.506884\n",
            "Train Epoch: 9 [11200/22400 (50%)]\tLoss: 0.201302\n",
            "Train Epoch: 9 [12800/22400 (57%)]\tLoss: 0.242090\n",
            "Train Epoch: 9 [14400/22400 (64%)]\tLoss: 0.251147\n",
            "Train Epoch: 9 [16000/22400 (71%)]\tLoss: 0.601562\n",
            "Train Epoch: 9 [17600/22400 (79%)]\tLoss: 0.351887\n",
            "Train Epoch: 9 [19200/22400 (86%)]\tLoss: 0.215368\n",
            "Train Epoch: 9 [20800/22400 (93%)]\tLoss: 0.305851\n",
            "Train Epoch: 9 [22400/22400 (100%)]\tLoss: 0.425079\n",
            "test_loss:  [0.2823304831981659, 0.22157493233680725, 0.1997874677181244, 0.1762305200099945, 0.173424631357193, 0.1573449969291687, 0.14997443556785583, 0.14702986180782318, 0.14319849014282227, 0.14489518105983734]\n",
            "\n",
            "Average Val Loss: 0.1449, Val Accuracy: 5364/5600 (95.786%)\n",
            "\n"
          ],
          "name": "stdout"
        }
      ]
    },
    {
      "cell_type": "code",
      "metadata": {
        "id": "NGPq2McTMT_z",
        "colab_type": "code",
        "colab": {
          "base_uri": "https://localhost:8080/",
          "height": 188
        },
        "outputId": "b0ceca4e-fe64-48be-e3ea-b6cfe8ef4378"
      },
      "source": [
        "    fig = plt.figure()\n",
        "    plt.plot(train_counter, train_losses, color='blue')\n",
        "    plt.scatter(test_counter, test_losses, color='red')\n",
        "    plt.legend(['Train Loss', 'Test Loss'], loc='upper right')\n",
        "    plt.xlabel('Number of Training Examples')\n",
        "    plt.ylabel('Negative Log Likelihood Loss')\n",
        "    plt.show()\n"
      ],
      "execution_count": 27,
      "outputs": [
        {
          "output_type": "display_data",
          "data": {
            "image/png": "[encoded data removed]",
            "text/plain": [
              "<Figure size 720x144 with 1 Axes>"
            ]
          },
          "metadata": {
            "tags": []
          }
        }
      ]
    }
  ]
}